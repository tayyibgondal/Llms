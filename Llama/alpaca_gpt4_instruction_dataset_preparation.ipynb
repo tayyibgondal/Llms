{
  "cells": [
    {
      "cell_type": "markdown",
      "metadata": {
        "id": "l2G_EdUql74t"
      },
      "source": [
        "# Preparing Dataset for Instruction tuning\n",
        "In this notebook, I'll prepare a dataset for instruction tuning of Llama-2 7b model. I'll use weights and biases library for versioning of data and model artifacts.\n",
        "\n",
        "Reference: [Preparing a Dataset for Instruction tuning](https://wandb.ai/capecape/alpaca_ft/reports/How-to-implement-fine-tuning-of-an-LLM-Part-1-Dataset-for-Instruction-Tuning--Vmlldzo1NTcxNzE2)"
      ]
    },
    {
      "cell_type": "code",
      "execution_count": 1,
      "metadata": {
        "colab": {
          "base_uri": "https://localhost:8080/"
        },
        "id": "ubdqYUUNk8t6",
        "outputId": "1c7c375a-8a4e-4efe-8360-4f132be19fe3"
      },
      "outputs": [
        {
          "name": "stdout",
          "output_type": "stream",
          "text": [
            "Requirement already satisfied: wandb in /usr/local/lib/python3.10/dist-packages (0.16.6)\n",
            "Requirement already satisfied: transformers in /usr/local/lib/python3.10/dist-packages (4.40.0)\n",
            "Requirement already satisfied: Click!=8.0.0,>=7.1 in /usr/local/lib/python3.10/dist-packages (from wandb) (8.1.7)\n",
            "Requirement already satisfied: GitPython!=3.1.29,>=1.0.0 in /usr/local/lib/python3.10/dist-packages (from wandb) (3.1.43)\n",
            "Requirement already satisfied: requests<3,>=2.0.0 in /usr/local/lib/python3.10/dist-packages (from wandb) (2.31.0)\n",
            "Requirement already satisfied: psutil>=5.0.0 in /usr/local/lib/python3.10/dist-packages (from wandb) (5.9.5)\n",
            "Requirement already satisfied: sentry-sdk>=1.0.0 in /usr/local/lib/python3.10/dist-packages (from wandb) (2.0.1)\n",
            "Requirement already satisfied: docker-pycreds>=0.4.0 in /usr/local/lib/python3.10/dist-packages (from wandb) (0.4.0)\n",
            "Requirement already satisfied: PyYAML in /usr/local/lib/python3.10/dist-packages (from wandb) (6.0.1)\n",
            "Requirement already satisfied: setproctitle in /usr/local/lib/python3.10/dist-packages (from wandb) (1.3.3)\n",
            "Requirement already satisfied: setuptools in /usr/local/lib/python3.10/dist-packages (from wandb) (67.7.2)\n",
            "Requirement already satisfied: appdirs>=1.4.3 in /usr/local/lib/python3.10/dist-packages (from wandb) (1.4.4)\n",
            "Requirement already satisfied: protobuf!=4.21.0,<5,>=3.19.0 in /usr/local/lib/python3.10/dist-packages (from wandb) (3.20.3)\n",
            "Requirement already satisfied: filelock in /usr/local/lib/python3.10/dist-packages (from transformers) (3.13.4)\n",
            "Requirement already satisfied: huggingface-hub<1.0,>=0.19.3 in /usr/local/lib/python3.10/dist-packages (from transformers) (0.22.2)\n",
            "Requirement already satisfied: numpy>=1.17 in /usr/local/lib/python3.10/dist-packages (from transformers) (1.25.2)\n",
            "Requirement already satisfied: packaging>=20.0 in /usr/local/lib/python3.10/dist-packages (from transformers) (24.0)\n",
            "Requirement already satisfied: regex!=2019.12.17 in /usr/local/lib/python3.10/dist-packages (from transformers) (2023.12.25)\n",
            "Requirement already satisfied: tokenizers<0.20,>=0.19 in /usr/local/lib/python3.10/dist-packages (from transformers) (0.19.1)\n",
            "Requirement already satisfied: safetensors>=0.4.1 in /usr/local/lib/python3.10/dist-packages (from transformers) (0.4.3)\n",
            "Requirement already satisfied: tqdm>=4.27 in /usr/local/lib/python3.10/dist-packages (from transformers) (4.66.2)\n",
            "Requirement already satisfied: six>=1.4.0 in /usr/local/lib/python3.10/dist-packages (from docker-pycreds>=0.4.0->wandb) (1.16.0)\n",
            "Requirement already satisfied: gitdb<5,>=4.0.1 in /usr/local/lib/python3.10/dist-packages (from GitPython!=3.1.29,>=1.0.0->wandb) (4.0.11)\n",
            "Requirement already satisfied: fsspec>=2023.5.0 in /usr/local/lib/python3.10/dist-packages (from huggingface-hub<1.0,>=0.19.3->transformers) (2023.6.0)\n",
            "Requirement already satisfied: typing-extensions>=3.7.4.3 in /usr/local/lib/python3.10/dist-packages (from huggingface-hub<1.0,>=0.19.3->transformers) (4.11.0)\n",
            "Requirement already satisfied: charset-normalizer<4,>=2 in /usr/local/lib/python3.10/dist-packages (from requests<3,>=2.0.0->wandb) (3.3.2)\n",
            "Requirement already satisfied: idna<4,>=2.5 in /usr/local/lib/python3.10/dist-packages (from requests<3,>=2.0.0->wandb) (3.7)\n",
            "Requirement already satisfied: urllib3<3,>=1.21.1 in /usr/local/lib/python3.10/dist-packages (from requests<3,>=2.0.0->wandb) (2.0.7)\n",
            "Requirement already satisfied: certifi>=2017.4.17 in /usr/local/lib/python3.10/dist-packages (from requests<3,>=2.0.0->wandb) (2024.2.2)\n",
            "Requirement already satisfied: smmap<6,>=3.0.1 in /usr/local/lib/python3.10/dist-packages (from gitdb<5,>=4.0.1->GitPython!=3.1.29,>=1.0.0->wandb) (5.0.1)\n"
          ]
        }
      ],
      "source": [
        "!pip install wandb transformers"
      ]
    },
    {
      "cell_type": "markdown",
      "metadata": {
        "id": "NtqbDnAhqCj9"
      },
      "source": [
        "## Prepare the instruction dataset\n",
        "An Instruction dataset is a list of instructions/outputs pairs that are relevant to your own domain."
      ]
    },
    {
      "cell_type": "code",
      "execution_count": 2,
      "metadata": {
        "colab": {
          "base_uri": "https://localhost:8080/"
        },
        "id": "kl3wbvIRrK0E",
        "outputId": "7e9a2270-506d-473d-dc53-a0d0289dddb8"
      },
      "outputs": [
        {
          "name": "stdout",
          "output_type": "stream",
          "text": [
            "--2024-04-28 09:37:14--  https://raw.githubusercontent.com/Instruction-Tuning-with-GPT-4/GPT-4-LLM/main/data/alpaca_gpt4_data.json\n",
            "Resolving raw.githubusercontent.com (raw.githubusercontent.com)... 185.199.108.133, 185.199.109.133, 185.199.110.133, ...\n",
            "Connecting to raw.githubusercontent.com (raw.githubusercontent.com)|185.199.108.133|:443... connected.\n",
            "HTTP request sent, awaiting response... 200 OK\n",
            "Length: 43379276 (41M) [text/plain]\n",
            "Saving to: ‘alpaca_gpt4_data.json.2’\n",
            "\n",
            "alpaca_gpt4_data.js 100%[===================>]  41.37M   156MB/s    in 0.3s    \n",
            "\n",
            "2024-04-28 09:37:15 (156 MB/s) - ‘alpaca_gpt4_data.json.2’ saved [43379276/43379276]\n",
            "\n"
          ]
        }
      ],
      "source": [
        "!wget https://raw.githubusercontent.com/Instruction-Tuning-with-GPT-4/GPT-4-LLM/main/data/alpaca_gpt4_data.json"
      ]
    },
    {
      "cell_type": "code",
      "execution_count": 3,
      "metadata": {
        "colab": {
          "base_uri": "https://localhost:8080/"
        },
        "id": "ib0vjMuZqKpw",
        "outputId": "43c81c3b-4b21-4d85-b87b-4b10dea90da9"
      },
      "outputs": [
        {
          "name": "stdout",
          "output_type": "stream",
          "text": [
            "[{'instruction': 'Give three tips for staying healthy.', 'input': '', 'output': '1. Eat a balanced and nutritious diet: Make sure your meals are inclusive of a variety of fruits and vegetables, lean protein, whole grains, and healthy fats. This helps to provide your body with the essential nutrients to function at its best and can help prevent chronic diseases.\\n\\n2. Engage in regular physical activity: Exercise is crucial for maintaining strong bones, muscles, and cardiovascular health. Aim for at least 150 minutes of moderate aerobic exercise or 75 minutes of vigorous exercise each week.\\n\\n3. Get enough sleep: Getting enough quality sleep is crucial for physical and mental well-being. It helps to regulate mood, improve cognitive function, and supports healthy growth and immune function. Aim for 7-9 hours of sleep each night.'}, {'instruction': 'What are the three primary colors?', 'input': '', 'output': 'The three primary colors are red, blue, and yellow. These colors are called primary because they cannot be created by mixing other colors and all other colors can be made by combining them in various proportions. In the additive color system, used for light, the primary colors are red, green, and blue (RGB).'}, {'instruction': 'Describe the structure of an atom.', 'input': '', 'output': \"An atom is the basic building block of all matter and is made up of three types of particles: protons, neutrons, and electrons. The structure of an atom can be described as a nucleus at the center surrounded by a cloud of electrons.\\n\\nThe nucleus of an atom is made up of protons and neutrons. Protons are positively charged particles and neutrons are neutral particles with no charge. Both of these particles are located in the nucleus of the atom, which is at the center of the atom and contains most of the atom's mass.\\n\\nSurrounding the nucleus of the atom is a cloud of electrons. Electrons are negatively charged particles that are in constant motion around the nucleus. The electron cloud is divided into shells or orbitals, and each shell can hold a certain number of electrons. The number of electrons in the outermost shell, called the valence shell, determines the chemical properties of the atom. \\n\\nIn a neutral atom, the number of protons in the nucleus is equal to the number of electrons in the electron cloud, so the positive and negative charges balance out and the atom has no overall charge. The number of protons, also called the atomic number, determines what element the atom is.\"}, {'instruction': 'How can we reduce air pollution?', 'input': '', 'output': 'There are several ways to reduce air pollution, including:\\n\\n1. Reduce energy consumption: By conserving energy, we reduce the amount of pollution emitted from power plants. Some ways to achieve this include: using energy-efficient appliances and lighting, insulating homes, and shutting off lights and electronics when not in use.\\n\\n2. Use public transportation or carpool: Cars and trucks are major sources of pollution. By using public transportation, carpooling or biking, you can reduce the number of cars on the road, which in turn reduces emissions.\\n\\n3. Be responsible with waste: When waste is burned or decomposed, they can release harmful gases into the air. Dispose of hazardous waste correctly and recycle materials like plastics, paper, and glass when possible.\\n\\n4. Support clean energy sources: Renewable energy sources like solar and wind power generate little or no pollution. Support clean energy companies and projects, and consider installing renewable energy systems in your home.\\n\\n5. Drive efficiently: If you need to drive, make sure your vehicle is well maintained and drive efficiently by avoiding rapid acceleration and braking, and reducing idling.\\n\\n6. Be mindful of product choices: Some products and practices release more pollution than others. Choose products with eco-friendly packaging and try to minimize your use of aerosol sprays, which can release harmful chemicals into the air.'}, {'instruction': 'Describe a time when you had to make a difficult decision.', 'input': '', 'output': 'As an AI assistant, I do not have my own personal experiences or physical existence. However, I am programmed to make decisions based on algorithms, logic, and data. There are times when I encounter a situation where making a decision is difficult because there may be conflicting information or multiple possible outcomes. In such cases, I use my ability to analyze and weigh the risks and benefits of each option and come to a conclusion that is most likely to achieve the desired result.'}]\n"
          ]
        }
      ],
      "source": [
        "import json\n",
        "\n",
        "dataset_file_name = \"/content/alpaca_gpt4_data.json\"\n",
        "\n",
        "with open(dataset_file_name, \"r\") as f:\n",
        "  alpaca = json.load(f)\n",
        "\n",
        "print(alpaca[0:5])"
      ]
    },
    {
      "cell_type": "markdown",
      "metadata": {
        "id": "O4KBQS36rU_o"
      },
      "source": [
        "We can see that the dataset contains multiple dictionaries with each dictionary having an instruction, an input, and an output.\n",
        "\n",
        "But the Llama model which we want to finetune, takes in sequences of tokens. One option is that we concatenate the dataset into text and then finetune the Llama on that."
      ]
    },
    {
      "cell_type": "code",
      "execution_count": 4,
      "metadata": {
        "colab": {
          "base_uri": "https://localhost:8080/",
          "height": 191,
          "referenced_widgets": [
            "69277edc03714326bf014c275d8f1503",
            "9b0443a6663c432b8ae270baf55e553d",
            "d8adf9591f6540c8a791f23a271d3595",
            "cf2e1ceecde54df0a64d5088cde2d326",
            "b769b175ae4747108a13be63ac943db1",
            "786d66081e1d4e2383b97835414632b3",
            "2cc9490589c84398bebf80c5b8e117ae",
            "144fbc9a8b7a4a7fb1724c9f2befc8d9"
          ]
        },
        "id": "4tbzHlVmqgOB",
        "outputId": "4c36baf9-7ffd-43ef-87aa-42d9f7598a86"
      },
      "outputs": [
        {
          "name": "stderr",
          "output_type": "stream",
          "text": [
            "\u001b[34m\u001b[1mwandb\u001b[0m: Currently logged in as: \u001b[33mtayyibgondal2003\u001b[0m (\u001b[33mnust-isb\u001b[0m). Use \u001b[1m`wandb login --relogin`\u001b[0m to force relogin\n"
          ]
        },
        {
          "data": {
            "text/html": [
              "Tracking run with wandb version 0.16.6"
            ],
            "text/plain": [
              "<IPython.core.display.HTML object>"
            ]
          },
          "metadata": {},
          "output_type": "display_data"
        },
        {
          "data": {
            "text/html": [
              "Run data is saved locally in <code>/content/wandb/run-20240428_093722-440jefj8</code>"
            ],
            "text/plain": [
              "<IPython.core.display.HTML object>"
            ]
          },
          "metadata": {},
          "output_type": "display_data"
        },
        {
          "data": {
            "text/html": [
              "Syncing run <strong><a href='https://wandb.ai/nust-isb/alpaca_ft/runs/440jefj8' target=\"_blank\">fluent-donkey-4</a></strong> to <a href='https://wandb.ai/nust-isb/alpaca_ft' target=\"_blank\">Weights & Biases</a> (<a href='https://wandb.me/run' target=\"_blank\">docs</a>)<br/>"
            ],
            "text/plain": [
              "<IPython.core.display.HTML object>"
            ]
          },
          "metadata": {},
          "output_type": "display_data"
        },
        {
          "data": {
            "text/html": [
              " View project at <a href='https://wandb.ai/nust-isb/alpaca_ft' target=\"_blank\">https://wandb.ai/nust-isb/alpaca_ft</a>"
            ],
            "text/plain": [
              "<IPython.core.display.HTML object>"
            ]
          },
          "metadata": {},
          "output_type": "display_data"
        },
        {
          "data": {
            "text/html": [
              " View run at <a href='https://wandb.ai/nust-isb/alpaca_ft/runs/440jefj8' target=\"_blank\">https://wandb.ai/nust-isb/alpaca_ft/runs/440jefj8</a>"
            ],
            "text/plain": [
              "<IPython.core.display.HTML object>"
            ]
          },
          "metadata": {},
          "output_type": "display_data"
        },
        {
          "data": {
            "application/vnd.jupyter.widget-view+json": {
              "model_id": "69277edc03714326bf014c275d8f1503",
              "version_major": 2,
              "version_minor": 0
            },
            "text/plain": [
              "VBox(children=(Label(value='45.987 MB of 45.987 MB uploaded\\r'), FloatProgress(value=1.0, max=1.0)))"
            ]
          },
          "metadata": {},
          "output_type": "display_data"
        },
        {
          "data": {
            "text/html": [
              " View run <strong style=\"color:#cdcd00\">fluent-donkey-4</strong> at: <a href='https://wandb.ai/nust-isb/alpaca_ft/runs/440jefj8' target=\"_blank\">https://wandb.ai/nust-isb/alpaca_ft/runs/440jefj8</a><br/> View project at: <a href='https://wandb.ai/nust-isb/alpaca_ft' target=\"_blank\">https://wandb.ai/nust-isb/alpaca_ft</a><br/>Synced 4 W&B file(s), 1 media file(s), 1 artifact file(s) and 0 other file(s)"
            ],
            "text/plain": [
              "<IPython.core.display.HTML object>"
            ]
          },
          "metadata": {},
          "output_type": "display_data"
        },
        {
          "data": {
            "text/html": [
              "Find logs at: <code>./wandb/run-20240428_093722-440jefj8/logs</code>"
            ],
            "text/plain": [
              "<IPython.core.display.HTML object>"
            ]
          },
          "metadata": {},
          "output_type": "display_data"
        }
      ],
      "source": [
        "import wandb\n",
        "\n",
        "# Log the data to wandb\n",
        "with wandb.init(project=\"alpaca_ft\"):\n",
        "  at = wandb.Artifact(\n",
        "        name=\"alpaca_gpt4\",\n",
        "        type=\"dataset\",\n",
        "        description=\"A GPT4 generated Alpaca like dataset for instruction finetunning\",\n",
        "        metadata={\"url\":\"https://github.com/Instruction-Tuning-with-GPT-4/GPT-4-LLM#how-good-is-the-data\"},\n",
        "    )\n",
        "  at.add_file(dataset_file_name)\n",
        "  wandb.log_artifact(at)\n",
        "\n",
        "  # log as table - wandb table is used to visualize the artifacts\n",
        "  table = wandb.Table(columns=list(alpaca[0].keys()))\n",
        "  for row in alpaca:\n",
        "    table.add_data(*row.values())\n",
        "  wandb.log({\"alpaca_gpt4_table\": table})"
      ]
    },
    {
      "cell_type": "markdown",
      "metadata": {
        "id": "rCCiV5N2pD95"
      },
      "source": [
        "![image.png](data:image/png;base64,iVBORw0KGgoAAAANSUhEUgAAA4QAAAIiCAYAAACQfAZ8AAAAAXNSR0IArs4c6QAAAARnQU1BAACxjwv8YQUAAAAJcEhZcwAAFiUAABYlAUlSJPAAAP+lSURBVHhe7J0LXFVV2v9//7F3sJk3bErQSpicsDTEQrEGxRQjjdRE8SWvWeQlMMsbZV7yQuIttTQ1L0OaeYlJxVLRQrBCKUUoATWlsQFLBSuhKTkzOfv/rH2Bvc/Z53DO4YAXnu/nszictffZe61nPetZ69l7Xf6fRIBhGIZhGIZhGIZpcPxO/WQYhmEYhmEYhmEaGOwQMgzDMAzDMAzDNFDYIWQYhmEYhmEYhmmg8BxChmEY5qrgt99+w88//wuXLl3Cf377Dy5f/q96hGkoNGr0O/zPDf+DG2+8ETfd9L+44YYb1CMMwzBMXcEOIcMwDHPF+eGHH1FeUaF+YxiFJt7euPXWW9RvDMMwTF3ADiHDMAxzxbh8+TJKS8twqbJS/n7jjY3RuPGN+P3vf4/f/Y5nNTQ0/vvf/+Lf//43Kisv4dIlVScaN4avrw8aNWokf2cYhmE8CzuEDMMwzBXj7NlzsjMohgZ6e3vDy8tLPcI0dCwWCyoqKuShxMIpvO225uoRhmEYxpPw41eGYRjmiiCGiWrO4C233MLOIGNA6IPQC6EfQk+EvjAMwzCehx1ChmEYpt4Rb320OYPizSAPB2TMEHoh9EMg9EXoDcM0SH6zoORYNg5k56LoR4sayTCegR3CBkTF4Q1YvWoDjnjgIasnr3WlsHzzAdavWou0b+rfsJbtiIXfn/+CUTvK1BiVX4qQtm4R1u8tApv765CzKRhF5e4XnwKrknfIkaX0G/rdsjw1or7IS5Lv67c0V41wAifzKFYTFYg5g/xmkHGE0A+hJwJNb65m7Nr3OuaK2QkHXOm+wpVs5z3KmQ+Q8HAbdIocgoEDByC8xyIcUQ8xnsGTunIt6p0Dh7AMGYl9MHDoZGTUr02rc8rSJ1O+KG/xa1GgxplTgtQEIQMK66w7RLlYL+KH1nSNqwVKb9wMJCbNwMjNLnTuTPHkta4UpN9vjsO0pCSMenOvS53zuqRsP6VnxnJMG5V03dU7htEjtpYQiAVkGKYmND3R9Ia5FrjSfYWrs513nRJsmToOW771QtS8D5Gb/wlSV8agrXqU8QSe1JVrU+8cviGsOFuIA5+VouJ6G6HxSynli/K2axEyHT1J+3Y/tqQIGVAwWQ29QsSTfNz3/7OxwNWn724TiPBn28PvzvZ4tkugGucunrzWlcIHIY8+joA7fTDw0VD6dnXg0z4KA+/xRsCgKIRcLYlimDpA7DMoEKuJMjVwbiem9miDTk++hWMefeBswbG/RaPTPQ9iavoFNc7TWJC34ims/Mo84Wf2JGDqzjPqN/toeqLpjT1Ktg2B359jkXpWjagTSpA6qua34MyV7itcne28y5Tl4cB++uwyBS8OCoSPtx86dAzA9T+uoj7rmSd15drUuwY8ZNQPbe+14O2Ps+06dAXpa3HgXjpP/e5xzpagSP237vFC2xHv4+An72NUu9qaEU9e68rh0/N1ZH7yBRb2vIqq622PY+FHXyJz3uPXbuPFME6gbTp/LW0tcWHnaNx9z2h8eE6NIJS4NuTwqBF1wIWcD/H3f9LnF2/gkxNqpEc4jk8WHMMFVODvH35Cn57nzM7nMeYNuvJvZi2tBZaKCmRO7I2JNTiFmp5oemOP0jPZ6n91SRlK9qr/Mg648n2Fq7Kdd5XfKpV+qrcXlIHTDYX6rWee1JVrUe8asEN4F8LDA1G2fA9yTD3CQhzcWoK2UTEIV2MYhmEYpr5pGtIH//dn+uz+Irq2ViM9Qht0ffFeNKX2cEh0V/q0j3iT91zMW3BleprlqwWYOPELhC56C3EdlIVhjHjhrpilWP5CC3w4NxEffqdGMwzDMPWKWw5hSfoirF61FyXiS0Uh0pbGIarrX+AX8iAGJix3bfJwWS5SV43DqIEPov2f/4L2PfogYekHKPpFPa7Do/cl7u4Sg+7YgLTPTMaDHtuP7cf80O9OH8+/xavIxZZVlJe1KcgR34+8Q/kSeaOQkgstNYb8lmVjdUIPdPpzG4SvrR5iWpaXgtXThmBgjzbwE8cGxmGZnQVJlOstQsa3aoRMCTLEfdPlu6Di6w+wTL6PWharsqvSo8eT15JRy1PJx/2Iih+HBeJaVUGVgynG+5Zlr8W0ZxR96hQ1BNPWZaPMZNhzRZ6Y7L4IW/KMqbKW+/ppAxAeQnrWtQdGTVuLA47GLpjkY322C4MdNN3Q6YFASesGHBGRv5XhwLpxGF51jxlIdTRxubZp0mOha4n0rdtvdwiHkP/qVcttJlMr+tBHkaVcZ5OQ9rW5Rpjrl8q3e+VjWnk7g6gn4t7V9sLOvQ2y0upTobneOkyHqpMO9dYE67JS0+n1Bz/1BOdwxS4oVKBobxISVDvcKUrNt1cThyMk5LoWr9XxAUpdu6EJfNXjjIdo3htzPjqOgyufxr0efdHihXuf2YqDX+/EjIccuYNU1v/YiY++Mq+vpli+RPIrb6Ok76t4uXcLNdIMLwQPn464pp9i4oKtqHnwqDmKzUjClgzx7Rvs26DYEDM74ootMqLW60VrsE98Pb0Hb6v3MKvrAbf7uGyvDWlzps2xwQ/yGk0utl0u3deF9tqeLTe0s+r1aurPufMbp9p5J68lo5bnqKj7q2xroiHvajtdA87pYAWOpNA1N+xR0qnTN9O2UZS5OL6j0I6tt6Bgh5pGq/zpbbnj8lfTZCef9uRt6MOQvFOTFN3sNNlsjp1z9cypa1YUISNlBhKGGvPmiq4Y7uNkffbktWQ8pHeOcMshLD22HIlJR3Dq6HIM795HHv/f2C8QHf5ICSZFiYpd7sRCK3Tugj5oHzIAY9eQo3BDe/Qb3RN3k/u1ZdE4xExLqSp0Dc/cV4OE7tcNkd2A9Xv323T4jqS/iYJ7Y9CpnRrhSX4hBU2ivJBjJyvt/g8oXyJvFPZXd9q0/JaeScHYyCFIPAT4d/FDyG3UOfxxPxYMbIP2UZPx1iFK/X0xGBUTAOrVYcGoPpi0w1p62vWWo/AnNUKmDIXivl8dQ8HaAejW4yVsK/Gi+wSg8deF2JI0BE+uLVTPrcaT14LIH5XnqHfOwK/nFCxb+hw6YD+WiWtt2ouMz/ZTKEG5erot6n3TqaLF34/2A6nsLL7k8AfC9ycykDOGoGeCrT5ZijPlPGQUGyugkrdUpK4agk4hQ7CqwIJmrQPR+U+lSNuQhIGRsUg16bVY6HdCL0ctyobXA8MwfUpf+FF5TBv4EMaalIcpmm7o9ECgpHUPThXS9QZQ4/H2MVh8A9D5HguO7NqAsU+8hAwTA+eRNOnxos5GCaVvxgxsP6bGGSjBvreSkLimFN4ttJ4rNUKyPlCnIbMUzcKHYVS4L85nrsWoHg9iOOmEtQk01y+Vn47IxxKP2eut6CHbsKgPelI9EfduHPg4hlfdewhW6yZkVctqP87f0g2jRndDM1HPqD51e4Zsi/VDKofpUHVS1F81pkbEKnJ9xP334iSobKmuNz6VQul8CK+mq+fUhBt2QZRZWsJDCB+1FluKxIOyQPj/7zfYTOc/OnuPeo41pHfLSa4Dk7B+Vyl86Td3+1pw4E2qa2Op/qlnMQ2XMzvnY8mJ+zF+TG+Hbx5l/vggRrxA5+1JxN+/sLYGzqHYDNJh+RVmCVKXKzbEaEdct0VG1Hq9dK+ywuMxtZ2yV9dLXLHXurQd8kLnQWMwvWcLnNpjv80xxxvn0+JcaLtcvK+L7bU9W67Eu9afc+c3jtt5F/uTv+RimSjPGfuBB56jvE9B5J1nsF3kfU2KmvdClDtUIld00IKS/XTt5fuVtOj0zbRt9PGGJZWOP7/GdN0LWHKxO5GOHwR8b1HjqK5kzOhB/Say5dQ9aztsGIYHAgVCX0J6YJrNA081TUmZKDF5cWNP3ko8/aaMZPhkH4zdViLrpm9LH5PpMc7VM8fXtKAoJRadgnpgeMIOnKKY7qMfR6RaF6Jik3DEKv2O0+5a/8uT1/KM3jmBZJdSaXtcS6mF/9PS9u/VKJWcN0S8CI9IU/cUq7GCYvU3raX5ByvVOPtUfvqaNPu9I1Lpf9QIGbrGuNam1/DUfUtTn5avszSXfvleNP3/rLT7B/WgoPKgNL9DS+nRNQWS9P170khxzzeOqAc1jkhL5bTMkXLUGJfJnSOnw/baCkp+H5H69m0tPbepQCpX4xUqpaw3X5I255aq31VK3pOeo7S36PCKlGUlCk1+It/VaPmg0PclaXeJGi2ga8l5r9NrlUu7J4nfREvritQoGVUPTO5tS/V9Q+PWSPl6Qf1H06eW0qQ9RglqejAy1SjDKj17aLC07ivjb4q3Pi0Fi2OTdhjL41+Z0mwh976UXr0u0Vk5bzwi52/zaTWKsHfvKn2Le49qYDXa+ULHn1xzRHfvSinntYfkY0++p68ThItpcpbKg6/IMnj0Laof1px+R3qSjgXrdLr84xcUmfWluqIXWvkRadWTSp6mfmyUs7l+qdRQb/QUbxL1m9Iz7h3plP4WpBe7U4+Q9FR+2CNNFbKi+rb0kCGRUv5b6jWm7jGWucN02LEPdspXkgqkVX3F+aKun6pOF1F+4j1pqnzMjjwMuG4X8tcIXVBl9C81UlBeIG1/RTlmncfqMrXSrf+U0v2jlWM2eTTyzT9Oy+HXS5VyyFnZhe41Vdp3UfluEy5+JL1C1+2xMrc67ucz0oG/z5bG/19H6X5xT//7pD6jxkprss4Yf3vpc2kRHb//9c+lX0s+kd4cHyH9VZzfvqMU9+Yn0nnDuWqga+9bPVaK7XOfIgO6dtcIYUuGS++drj6v+O/DKW6g9F4R6cqHlBb1/L8OnSq9V1huvKaL4cAicV99mC0dMDnP5fyd3ijFGq7bUor9u7XMKHw+23COWTD93aVc6c0edHz8++ayNQ01/0bTGfvY77cI3LFFptitxwru2OvKTxW72nd+ptHOlB+Ulor6/+Q71Co6prrtelbafMKYD3ttl2v3db29tmfLq9LqQn/Ond/U2M67cK38t0TZtZZmZxokSNdyvj11Swdr0Dc9Sp/Wtr8j0NpuvSyq7f97UrG+L16yQ5r6qCKfVYVqnIzjOmZP3kp8a+rPPiTrmrHfbwen6pmDaxa9I81+K1MqNohCKy/bOug47UrZOFufPXktT+idM9RqDuHw9R/i1Z76oUx+6N7/cfq0IPfbmt8+eHWZiOkx7eFzgxoh44fI/jH0aUFmoflgzdreV49fxJMYiL3Y/ln1U35L7h5sKWuP4RFXwwqaRShu+zrmDAqEcQaGFzqPmYeBwVbPVlr0xcD+9Fm2H4XfKFHOEYP1G+chUj+yp8WjGDiMPstyUeLSim0uXKsiGwdS6LNnDLrfpUQp+CFqMP2gzM6QXlNGYNmKEWirF9QNdJ2Rz8nD3rbs2ANn3ilpjH1tI4a3M0rdr/9EPHsv/ZOSigxdPor+noTVZX54ccYUdK568ibwRoehz5GO5SI1u/aDjzu/+iHWj2iv0wUvdIhUlp/OKPqGakA1dZUmr9AYWQYFqepTSx0lh3Ygg9L0dJf2akwhtiz6gOTeHgtfnwLDNCLv9hg1axa6U6rXL9pg+zS2tlTsxapFuYDP43ht+jAEWOlFZN/2lFKFgm1JWE/K0X3eCoztaEgk2o6eh4XdhComYYvpW9HaU5G+BonizUbMfKrrxtXjvO+JQb/u6pcacdEukIy2JAod6Ik5QkZ/VKJlvAMRFUUZt0ErUz9MT5pl1K0bfNCZ7HeI+tUV/Pzvp79ncMHsybfgpzJ5OOFdzasHpF7YMxVPTHwbf//igrogSgXy9uzErMFPIdlk8ZULOfMxsu9TmLf1G2Vo4oUL+HDBU5iw1fo1yDf4+9gIDH9VP0yyAt+ctPcI9mfkvv0Uho2htKjnn/l0EyYOex4f6RagqWucz18dc+JTfEDyHxLxEG5So2rmXvy1HzUaWz9B7s9qlEepf1vkvL0WI6M2oOzeEZj+Qjfd+YR3KIbH9QT2p+CA2TBBE8a+tlJerVpPddv1DnZXXcfF+3q0vVZwpz/nyT6g89cqxMFU8X0YHuumlxSVaf8RiBRbbKSbjIAyUPc6qPRpqb+Tbj3yzYKcz8Rqnd3w2ANq+6DZf59hWPZqDPz0ffEWj2P6lGEQk6YS3/7AZhSde1hwhPqHr77YzarfXxscXPOuYZg+uhv8DIpN5fX4MHSm/zKOHnMpX670v2rC+Wt5Qu+co1YOYbMmtpMZvG9VGusDZW6oz28WVFSU4NS3ygvhgl/NxevR+97SDd3J/0zbpo7R1ipNt77ofKccccUZ2Len0VDb45cKVJwpQpEsghJYXNFOukMTfWdQhuJksRaizF4nzRQXrvVLufL6nyqyzepZauUu/cWljNhyb3tlYaBdhbDbnzPhRlODFYgOEeJzP/KLtIsVISddGNWe6BRsq5u4pQX8yf4eoJ54bY2qt3cT9T8df/KhJow4U6q7fl2mKRCRT5PDd+xN7M7WC7QMR/aTA3bvcwgPVqO+zUWGcKJ6xeBhs/p056Po14s+j+1BgZOdHWexfHVQdvLQP8rKIbamCAX7Re3vhn7dApQoAwF4uL9wjEqQ8ZXrDnTNWJB/6AP5v1GPO1nXXcGBXZBlJP4Z/QS6O5SRDq1Mu1BjJDqYHuIm3xZoik9x5rwaceItRN0TLa+uKXPhDDV9Xgho0VSNIBrfhfGLNiMj9zhOfi3Clzi4ZjCCyaFb+8mX6kk6Pv0Sn9wRjUUffiGfn//RdPSg6E8yvjDMXTuzdRqmZgCh8auqr134JdISH1TPsOYYNm44jsAJ63DwqDj/Czr3ITS98Ck2furSkzkDwfFavo7jvRfUSEc4mT80j8ab6nVPfvKqfI4p971odf+n8Z72OzW82VtXHioXivJIIg+ivZVTUhN3tXqI/u7EsX8o3z3KFbBFTtvrb7ORlkfmOvJRdDAx1963BVDHvBAFSiWuEcdtVy5OlahGwNX71kF77U5/zpN9QOevZYHF3gPBRsqHvT5rFfWhg7f0RNQYypPB8RcUIjeF0hcThe63KTGa/fd5kvq7Nn02cjm69MXTwndMOYJ814rVLpFPPi47PZ7E+WsKH6MMRUWqo/9juc7xqhnn+1814/y1PKB3TnLlVxm1lODIDnUxg7vaIDCoKyKn1ed6zt7o3PNx6t/vUJ6CWbKRsdyCyP6PKgVzFWBu3BUsZ3ORqk3uvvd+BHbug2mb1YPXArcFIkR0Kg/ZOmslJ8TiOV4IEp5LrWiBu3uKzxKUmcyzcxXflqHyZ8mPWpWtQNln4nMHFg7tg4E2YQa2icMuGp/aUbdpUp5CWrDls9zq35/NxO5dQNuobtXG+acSHBCfrUXHwgwygPKqia4+dKiZih8Vox8ZGEha5AhNVgHwUxtKa3z8FUfRrQddNUL3l3vroQhq6TilzuKsXaiSUeu7apCRDq1Mg0lecoSHaNoC4r1y6Q+KjM98/Tk5Fcew8wvVoSJP9gI5GXp/sGnEi4jrfT9aVHVmvND0oT7k2pNTclmJMdD0ISxa8ir63K04Kl5/7oGej9I/6d+gevTAMXz0DjmTD72IOS88VH3tG7zQ5A/2pdRjwU6sGf0gmsqneOOumDgMo7Rm5xyvk+0cTHEqf3VPSfGn9PdetLhD+e4sXi3uolpA1qCkDiR2BW1RjWhp2znDxFZTSBKv5Wr/cNSm7XL1vvXSXl+tBCBQjHISDrWVs2YpKpQXCIz8cw0WsV500Aude4tRUblIO6Q6PoK8PXibjMDAiOo3wZr9D7Gbbj/4PSA+PdN3kmlUBxtnOLrmbxUo2q8tmCN8jAcR/sxapRyuCTygd05yRR1CS94iDOzcFVGJ2UD4RCzL+AKFJ/+BktQR6hn1g3eXJzDWR6k8lkOZWI2e6NflajdqFnlRh9C/DsDsg17oPiYZmTlfouif/0DqRPWUa4JADJ89Am3LNmAhNT4FstGxoGx/EhIW5cKn/yxEaW+brnZ8AtG+Szd0NwmDRo7B9G5XYCPZukqTeAo5Gihb/l7V5PWyQ3uQRg1IvyuyAfH1AJWE+sTPfdy0C+400v/jYW1ufhdZA9Kjn4VCVeCbL79E7DPRyD7wpexQXTgrHMO70KI5fWj8dgHZG8R2CA/KewEqYRCWqIdtCOmB0JqcFMsFlIrhpsHk0CgxThF4p/XZLdBCjJ11bahG7XAmf1czXl4uDDG9/mgW2N7UVncPj8GzU8agu3/dtCDO3/c6aq9dxhvdn50nD9FbkLgIB84q9bri2AZMm7YBZcEjMDriKuk33tsTw7sAGW9/UDX09MhnlEbq23Y3TIm4zhELtT18P8KHv4nSFsMwPe0TFB4jH+NzUY7XCvWnd1fOIfxxLxJHLseBFiOQmvEhFo6OQee7fMS+m/WPV3t0jvFCxgcfYEt2CjCspiFmV56K9JcwckEh/CduxP4tr2NU31AE+HjXv8PhAbw6jgQVP46sm4zI4L/IS+q2H74B5yNmIUWMa1fPc58zOCm/dPaDjwfKtfS0svGx3y06wyrq47EAPDx6IkbZCzH68eL1QJ2myQsh4WJ+wQdIy1Y68DlZ+6khikEn/TDCRl7Kk9DSMjrDjAqUy2OQSHNr7QxZob5ZLynT1iRzgJJIlJsnEhU/KNfw8XQaVeRl4vENSmv5ZsJlu+CKjDRqLFN3IQfqUeCj78j9s3yJ7E3R6PpEMHrs+QS5JJfSC/8AIu5S7i1zBh9OsZ7n5wHIIa3Pt2nXLxZUuuoLm73V9RRX0hbVhJq2AqoApnZaDQODa9eC2LRdbty37tvrq5gWfTF6YgDK0pdj4F/FVgF/QWDkDBy4cwS2JE9BB5NhlwbqTQcD0PlxMa0jBQfl4YaFOJJGldG6b1uj/S8lnVH+83IwUu3qpBCrnxuHLb90w7IDX2L1lGGIvNcP3jWV0dVIbfXOSa6cQ/jPI/L8nsgnhxkn1l4R1Ffsny3CtOXA2F5Wk6uvQk4dExOTQ/FU/9CrPq01UbB2CMYWjEDqsX+gKP9LFIpw7Dgy51ktcuEux3KRKT5jOiDIbs/YWciwylsA9ERIoHaxQLSPEf/vxRF7Y73rnbpPk7a4jDx5XV1soPOTPY1j+e/phIGiBdxz0HwOgqUQOfLOBjFof48cY+CSyf6RFntemxU+geHyxPGC/dlwPPOvWlY5haaJRH6uMoy9XzuTt5//MfnNLxXQpsLVjA/8AkU3qgQHCnRDfNzAVbvg07KDXF4Fn+XS3Z3kzrZ4THzaK1O3aYoWf6GPb8/gwonP8cHgv6Ltn7ui56MfIzuvApZfzwB/1i1RfmIn/rbDgqZ9pyP1c/28ts0Yr57iFk1bUHeKKCuDcW2TM8j+9Av1fyf46XN8LnT7Dp/r6K0XdWSdWPDFz1/MBfwSZ1xdUOfcN/iIPgL9bOcl1ppa2qI6RUtbeq7nF9eqwqTtcuO+dd5eX8XID9wWtSAHQ5f3/OM4uN564TY71KMOKtM6SrD9s0LqA4l9tYFRPY19W9FGivXK7Nr/b3NxQPQfuoSjbZXh1aAMmDzAKa+4Sh6nnSVZioXaBo1ElCtDPa5Caq13TnLlHEK1o1diMyenDAc+3q/+X4/c2w39xJsNnxh0bq919OsYbdNnd560/0f8OYNS6x/+uB/75I15rxVKyBhRd71DB7SixsTL2xveIrjVsJSQPqn/avxWhPXzF1Fj5+Xygh3FxbaGrWjDDCSSgfQxLMKhPFDoQPdPnGK7t82VwfU0Wb5JQWJ8HFYfdtagq4vLpKQhI11MTg9EVKjVoixeoXjsWYoTQ4xW6eYbylhwZNUMLKPbdZhO9U5X7XxbKHNdMnOtVs86k4JJk5R5LTVy56MYKCbof7YIb2yzbe4s3xSqjaAmKwuWka7Y7E2UtwgLl1PKgyeiXxddIn0ClGEn1p2p30qQOi1OWazFSdp2iqH7AxkL1uKAdVmd+QDbna3TrtoFYffEEK/9SVj3mVUPhfKRlmpii71D0X0YyYHKdPU2a1e7AgW7UuR5De7gcxsZ4a/PIDPnY7TvEEyOVFMEd74XG9M3Ie9rSq5vUyotFUsFRF/F944W8FM9Lst3X+LDFa/j78pXN/kL7h1MH5vewLtfKIK0nPsCK+N6YyI5oPaoLCenVf3f8tMx/H3uNEqHF+K6Plid5iou4JO50eh0z4MY+bcvrerF1YlPU9FA7sTfPzyGn00e1OhpGhCMe6l0vjzlWst2LP9j+tsb94oHA27hBW/ZLpu8bXfTFpnyxyaQlx05XebCgx8HaGk7tgjTllqnzXWKv3ey7XL5vp5sr681xIPBD1B2bwcEkINRlXdXhrV5UgdrQl1cRqwGnnpkD7VRw9D9AauL3tkXw4UtJ/u/wGaPWmrH3kiSVw0f/lRf3ZtfH/jJK8xm40ChsX5XHE7CpGmeWfFSpjb1THNWz1n3ry0o2r/H7Taq/vGA3jnJlXMI7+qA4T5AQdJ4TEvZjyN5uTiwdy0SxIbZX3vLTy3ql0AMfHMjtmx8zsWKSJ1os8nYIiTudTz06K72CBdPXTYswgKSwYHsbKRR59KZJrTVfY9TtRSd/cnYsj+X5Ee/XTcOA3vEofBWbcn/awFf+ImnlRtewqSkDUgjGQg5VIVjJahwunXci7Eh92OUdh2hT1QO06hP22HiRryo78w7wZbnH0Sn+BnYslek5QOsn9wHMdNyyTEYgTUvdDN28u4dgVdntYdP3lpEPTYEy3aQTn9ThIJsMsZLYxHedYaxo68N1SjMRIE6JtzjuJSmMqQtmozVu/YiccAcZDjZj9O2bRk7fgPQjRoxk5XT2g5bglcjvHBk0QA8kbBWLWMhzwEYuagIPqFjMH2Q8c2bX/tHlSeXSUMwamkKMkSaV5F+R61Fk2fFUsvO4IOoKfMQ5WNB6vgeGDhZu7fI/xCEdx+ApXvVGqqX1RBy5uQyV+rU8JFrccQnEC/OGGF8+0lOa3exegl1pkbFJyF1fzYydiwineuBdd7PYay8kJEVNzRW9OZ0IQ4cLanuEIhl3ycqHYWBalnJ6ZTz/BI15s4NxHLdLgRiOOVLOMOrhz6oyro6H1O/ovJTz6xGzGmYRXIlB5bqRJVc925AYvxDiNxZAX/1TFdp0pQ8gRNvYOoCb3QNUt4StWj3CO7d+hbWUguu33ICfwnGEDrl2IrR6BCozB8M6j4IE9/4EpW1esHkjb9GPyuvVLrkSWVuYlDXp7DkaBvMeFl4iuasHPkggtR5jEF/jcZUch6DX1iH+AdN7M65T/D3dcfILazAJws+kh1bW77ESvV6Ijzxhoh7G09ocS9sledWusOFnaOrrnt312nyW7mPJnapiltJ5W6NKAfx7OCjWdFV8hbhuZ0mqWj9EB5vDfw941Ort6yOOIbPt58BoruivduvVL3Rqp3Q8xK8tWiRope6bRPcsUWmeN+LtnLdfxMLl38g24oMqrNOv2U3QZ+2cNme5KLoG7ITlP5loi1K2l9tLxzihX0zHkL48861Xa7d15Pt9bWGF/zvFMMw38SrkxfJ9t6Q97wilDnx4NVjOlgj6sg3ap/GkpPmM+ZRhNiYIrLlY17H8GBqI5/vgeELFPsvl3282OjdAr+Y+RgdYXyU3raTmC5CfaSpQ5CwTuj/B9hCbfWjcbl4bIrYNs5D1KaetQhEiDBYKS9hrPgt+RhH5Hw9iPD3KhCkn9pyVeMZvXOGK+cQ3tIT098Ru+0XYX1CLKKiBmDg1B3wHvQ+9v9tCkJsXk/XPd53haLzPa7euAJHPiPjaRbOlqvn2MErFC+sGYPOPooMBg6kzu8zO5Bfw9NXgXfEfLwzKxR+eSlIGD6A5DcEU/c0xsCNX2D9C6FyZb02IKM1YiVG3VWBtFUzMIpkIORQFSK7IvDuHpiW7oQJ6DUPae+PhNf+JOU6o5KwJdsLkVM24p3nq/ecc45uWPbhRjx1wx4sGCXSMg7TNheica+JSDUds+2Ftk+9j71bJiLKKxcLnied7t4DkQNjMXZrBTo//Sju1iXAJ/QJ5YHIqsl4Vd7yoC5wJU0+CHggUNWbMyh1dkUxdXEZQfde3czdFi9yOlZ9hPUTQ1GaopaNLM8ShExMxo53J9rK885hePVv5GD6kF6QozpcpHlTGSKT38erMR2Up4bO0CIGyz7aiOl9vXFys3ZvutY7RegwJRkvPqzVFEVWO9aTs/nTXkyTy5zq44wPUPzACKxP/RBjbbbv8MPAOaS7oV4o2bUWY4cPwfDnN6D8UdK3WcMQYpZIn27oJ57IHtuAsQv2K0u4y3ihw/MbkTqF6vS32XJZyemkPHdf9ilSZ5h5l7a4Yxe8gqfgnfcnki3WZK3mIzwZe9+fpwwPtYbk+tp78yjvwAFNrlTfCm+bgsx3/oanxJtZN7jp9rsgt9OtH0Hgn+Uo1bmwiC31EHCbztO76RFM3vAqYrs3hRzbtClCo1/Amo824WV3NkLU4dX2BSxKfhp95Arihbt6P403N6zDEJMtXG4KGYI5zzyC0AfVdIjzH3wE45fvxDvx99M3E5p3xf89dS+dT47viz2UPF/ttH4Waze9iCGavB1yL3o8eT9AjvzfTfaDNMNyYCvWnvBCXN9HajXE1i9mCVbHeMvzbWS9HD4Zq7XVFt2xRaaIuv86Bt5pQcaCcbKtGP78m07vE2iKnLZPsWUKOWyHhD0hB617Hzn9m8tDMTq8ptWSVXzI6fsoGYPgZNvl0n092F5fg/j1n0fOnIVs3nLZ3hvyHtUD7e9tg+FrCx077h7TQSdQF5cR5Tawi50+0G098eo772PhoADkL1fsvyj7BYdIxxe+jz0LH7dp171Cqc0Q7UxZIbbMEPo/DguO+mF66vsY1cXP5CGiu9SmngVi1JuifRYjb8SDVWoPhych/76VyH1/JQbKq7leG3hE75zg/4nd6dX/rxBiXxAlG15/8L4GJ656ALH/orqPiMsysFSoT+S86uQVct1TIr+9mY1Z2LGwL5oY9lMpR3HmWkyjzukRn2HYcmCWnbe3uVj25wFYgBFI/Sc1eBRjqVCGb7mjU0eW/gVRi4AXU/9BTgBFiH3cxPCDRs4PjdHuLxCv+E2TrZWdC9etDU6l6dsNGNg1E8NzkhFp5j2YcGRpG5JXIBZ+8j4ZbjXSHq7qepV+O0izs+ivVcO9q2TlVNlU2zBKpBMLY2nn26mznsizW3bB1XwouCarav5xWmnVb7vNzl4fzLXNL19gyeCnsPLOV5HxRrTjFVstX2LlsEHYcOdCfLCgt12H8+zZs/LnX1rWZGh0emmvDtSm3a3CvTpTI7q0uVaHrXC17arxvp5or69VLNTW9UFURjekbpyCtper21NxrLQwBW+MXYTUsvbOtYUCj+igI8qQGv8gxh5ysjxcbXs0/aqNjjpF7epZlS3wZB2tN+pA7+xw5d4QViEUiQpJKJ/HK8M1wg21kIFQcPm315yWy1SkL8LYbQF48YUY+OnkoAQ/tO37nPK2ocy1fXCEMXNLnmb8UU2PC51d7f5yGtQ4G7SyqwdnUFBzmsjwfLABB7qZTSC3gyUb+94h8xTzJB5zxhC5qutV+u1Ajs6iv1YN966SlVNlo9NbpxKpnW/nZE/k2S274Go+FFyTVTWNGinNz3//+1/5k7nO+OODiH/lady7Zxrm7ZA32rSDBXl/m4Yl3z2El1+w7wxqeqLpTU1U2zs7ylybdrcK9+pMjRjawlpc2NW2q4b71lV7fU1wjJzdRUUYNVF5g6dvT729fRAQOgZPPSlOzHV+D0GP6KADvt2D7WJv4JFOzkl0te3R9Mujym9G7epZVVnVdTLrgrrQOztcBQ4h05ApL1M2nbaYrFYl80sh8g/RZ3AntOUXCXXHb2U4sHwIRr7jhVdfGmY+9NMGbRK8H14c7NqCPQzzPzf8j/z573//W/5krj+8OryAGS/chY9efBZLDpjPeDyz43mMeQMYv2Ip+jjYQ1HTE01vmPqnIbfXlh9K5cXD7OYdRTh1hD58YhAoL7pypdEWhemG0Y97Yk4icyWoT71jh5C5ovjd9yg6oBDTJk5G6rEyw6vwimMpSHwmDqshFvQYpiwFz9QNFdlI+ywAr7z3PobXMKHJcngtElclYdrwBxG1qAgdJi7BKJO5VQzjiBtvvFH+rKy8JH8y1yNeCI7fivcm3IHG/2tnZmAjL4Qvegtx9zm2IZqeaHrD1D8Nub32Cuwkz/tfP2kIlmWXwKJb68FyJhur4wcgYb83Bs4ag+5X8Oloyd4kLFg1A2N79MDYbUDU0lmI4ofp1yz1qXdXwRxCpqFTcXg5pk59E6lfVzcvCl4I6PscXp0uFt5Ro0yxnUNYG2zmEDIGCtY+iMjEMuDOAAx8eh6mP1XPG+4z1wW//fYbikuUoYS33HILvJTd+RnGBovFgh9/VMYg+vu1wA031MX4OsYZat9eX7uIrZkWzE7C6v22y3D7dRuGF6dMRNQ9V7I1LEPG5IcwfLMFPve0R7+JSzC9p3PjfZirl/rSO3YImasGS0UJThWegVibtbFvAFq18Lk2x3wzDOMUP/zwI8orKuQOvnAKGzVqpB5hGIXLly/LzqB4gNDE2xu33urBnZgZt2nI7bWlogwl3xThfCV9adICQX/2q7e1AJiGS13rHTuEDMMwzBXj7NlzuFRZKTuFYqI8vylkNMSbwYqKCtkZvLFxY9x2W3P1CMMwDONJ2CFkGIZhrhjiDVBpaZnsFApuvLExGje+Eb///e/xu9/xNPeGhlhNVCwgI+YMXrqk6gQ5g76+PvwGmWEYpo5gh5BhGIa54mjDRxlGDw8TZRiGqXvYIWQYhmGuCsTQwJ9//hcuXbqE//z2H1y+zHsUNjTEPoNiawmxmuhNN/0vLyDDMAxTD7BDyDAMwzAMwzAM00DhCRoMwzAMwzAMwzANFHYIGYZhGIZhGIZhGijsEDIMwzAMwzAMwzRQ2CFkGIZhGIZhGIZpoLBDyDAMwzAMwzAM00Bhh5BhGIZhGIZhGKaBwg4hwzAMwzAMwzBMA4UdQoZhGIZhGIZhmAbKVecQVhzegNWrNuDIj2oE40FysezPf4Hfn5NwRI3ROLJUxP8Fy/LUCOa65Woua67/CpZvPsD6VWuR9o1FjWFkzqZglLBh8SkoU6OuBa5knWNdqlvKdsTKZTtqhysaWYbUeKETsUg9q0bZ4xrV+TpFk8nSXDWi/uC+0pWB+wZ1z1XmEOZifdwMJCbNwMjN9V/RGYa5knD9VyhDxpvjMC0pCaPe3MudQKYWsC4xDHOtU4d9g99ysXpoHwwcuhYFapSBsx9gmji+YD8q1CgDR5fTb/sgYUeJGqFhQdGOGRjeo438AKF9j1isPlyDBT66Vr6WdRg1LQmrUz5Awdm6fah3lTmEgQh/tj387myPZ7sEqnG1IRsLrtBTJIZhzHBUJz1d/69VfBDy6OMIuNMHAx8NpW+1he1gw8XTusQ0JEq2DXHuLSbD1Cl12De4wQe+fyjEgc8yUXRGjdNRUZiB9Z/R8eWZyDfxx0qKDtJvC+Fzu58ao1CyIw4xz6fA0mUK1m9JxouhZ5A4IA5bvlVPMONyqXytAyXGG53asxaJCeMQ+df7MXB5LrmadcNV5hB6oe2I93Hwk/cxqp2XGlcLzpagSP2XYZirAId10sP1/xrGp+fryPzkCyzs6YEuPNvBBo1HdYlpUJSeyVb/Y5grSV32DfwQcJ+4ZjZOmjz4OHVsr/rffhR+o/5bhQXFJ0Qd6YagO5UYhVykJu5HWcx8rJ4+DN1Du2HgC89hIMVnfOXEOI3oedjy7odVITPnHyj6PBljgy04sGAIEvebvqusNbyoDMMwDMMwDMMwDQ7/e3rKn7lF1o9OC3EkzYK2E0dgFErImbM+XoTCz+jj3g7w0z9vO1uEfPL7IsNC4a1G4Y/e1f+7gddt3fDi1BH0nwXrj9bNI17HDmFFIdKWxmGgPAa2DcIHxmHZjlyU/aYe1/NbGY7sSELC0B7oJI+X7YOEpR+gyODIkkBXLcLqdGWsbVn2ciRE3Q+/kAex+qgchZJ0Ok7nZFi9VlXi99IViLJsrJ82AOEhf4Ff1x4YNW0tDuid7opcbBH3WZuCHPH9yDvyNeWQkms+DlhHWV4KVk8bYsz33iI7r2krULSX8j3wQbSvyncKjjh4CGD5+gMlLaocDHyzVz1mUuDfKsfWZ9tevCx7LabFO5K9Z6lrGYn8iLymHrPzctxSiFQhp83ZNuWpl4WpflRRgSMpQi824IiJrCryxCTmRdiSZzxorYurE8S9SAZrax6SV2M5ndkv33P1jkK7sqxKs25ytWvlYYZ7spApy6WyGIdRhvKlfP2iHhc4WSft1X8N58vWqpxUWxbVlX5H9mZgwnLnJ6e7YgcJURbLEvro7pWEtK/1cqvZDjqre3VpB+3iTHmrKPlQdYraiAPrxqlzKu5HVPwMpDpY6MRYVwZg2rpslN3QBL7qcWepIHsrysOunPS4kDeNmstbI1TpNLiti9Z6Q/J5Rklnp6ghinxMdNJh3SVqtElWOJ1fQ70R5T3OtO0yQHY9TdZRVccNFCn5p2O2raMqmw0kAzVGw1D+DstHq1927I/a/pq2246Q6+mQKnkNV/XP+xb1uLPc0gReVGvltlTYiyo7X2i/Lqt1bpSz56sockjClgzx7Rvs26DIxSibmu0YSR8l+zcgUdMXTQ8czaWqoHIWaVbroCPdNsNyjNpCkS5qQ63z6ZKuW+uvqjdefzAODawRl2yK630lPbXrB9RUnu71EWrTBuixVzc90c57B3RAZ/o8UPiNUWfOFiLnGNApOAZB5DMeOHTMaF8qzqCYjqNLIFopMQp/VNqpkrJS5TtRsucdbEcAQlrVYqSGj5+czjpDsscPe6SpD7WUWvjfJ42c85q06q3XpNljH5CC/VtKwS/tkcrV02R+yJTmP9GazqVjj/SWRk59QZr0hHJuiyfelPIr1fOkI9JSEffGQak49Wn5eGjf3tITfV+QdpcqZ+S8Ie7ZUlqaq3zXUOKflZa+NVgK1X43RPz2Pvn8Fh2elraXqCd//540UsSZhbj3JPVWtljl44lJr0izJ/WWunUQv20tPZdarJ6oUS7te0W5f2jcK7KMVs15Wjm/A+XpB/U0a8pJtiItQ96RrK+Yv+YhJZ2PktzUOI1SkplIh1E2xZSGR9Q0Py3NpjTMnxoty6hF3zlSzr/U02RU+ftTvBqjYU/uNtSXjArflB4VaZ1qpWsqlQdfkfXnyff096uWRYuHHiE9fEWaGveIIgv/R6SpH1unrVTaHieOke58r0bpUOTdUhqZatQYRVYkw5L3pOdEPuheTwx5RJq0065mEc6WU4G06lGK6/CKlFVVb3RouvOkqjsul4e9snZHFqVS1vzeSj3v8ADJ4Flp9pxnpSceUdMz7r1q/XayTtrXQ1fLtrqc9n31pvQkyUOWD9mMvrJdo9DXto7Z4IodFPJ4TSePuBekqVVl0VtaVagVaM120LHu1bEdtIsL5a2i5GOwtPkgybEv/U6uK5Re9TfCBuyzsQGVUs6b6n1I7n3F+RSEHIOfoPJzOv2VZE+jles8FC1NfU1ve3RyknE9b86Xt1ZuT0vr9tRCFzW9eWmOtCpOlHe1bLTr2C8DW11yre0QOJ/fSrLfIp8ijU9OpfS+9Yr0nCxLc5tUDbUXU5XrbT6tRmlobYL/Q3QvNU5D1fXgN46oEQJd+Yv0WtnGJ9cU0BlG7NsfIneOfKyF4R6O5EspyH1NekK+n66uCjl0oE9RH+zYWwNaPX7pFcXWy/qpXEvJS0upL6XJprkoUesc5bXbWNH2zpGmPqnYCdPzdWhyMAvVsqnBjhW9Iz2n6qWIt7bZS3NtU1BJv5mk+80k6kuOVG2bwd5qMrEqC0lrk23010VdL9lRlQ6trio29j7piSeUPlqNfSWXbYqbfSWBG/0AW2pql9zrL7nXBthir24q8bVs56WD0nw5La8Zzi3/+AW6xtNy/vPfFOm16pd99Zosp5FbreV7Sto8hK6n9vGL97wkt1s11Tt7NkbDka3xBHYdwuJNveUbT800Jr/8RKaUY1AGyviTQvCkdJsKjB0kqlTbDZVeVbi+j0h9qUHefMK2q++40Ck8NFha95Xxd8VbFeVtMWmH8f41CNeWSinrzZekzblWwtaMjHUn/fQ70hPi+q9kGgu5vEDaZ30NA9UVS+sAKihK9MSTohGzbhC1htKYhuJN0RQnZH/KmAY1zcHzD+riVfnXxiGsNxkVq3r1rIkhpDTMF5XTaJjy16gGXxja/6iRAtLDqcLJokbI2JGojUNIOtzXROft4Eo55b8lGpzW0vyDhjNlFAOlT5OL5UGYl7V7sqj8lByk945IpXp5U9ltHyfKxyQPNdRJe3roetnqbIZwGPfoDTalT86ruYz1OG8HtTIWaXxHOqVXiv8US7tT9Q1BzXbQse5RqFM7aB9Xy1vLhzj25JojunSR0/ea0rEyPtRRdFzOR1/SXX3d/w91sN5UO/hOOISVnyoPjfrOzzTKo/ygtFR0TLSHKiqu5s358vaMLlbbb9FhXCPlW91TSWdLadIeQ27t6pJrbYcL+f1XpjRb2B7r8qNSyHlD1ONoW2dPh5be56wesMl1cUi03Ol7gtKsR7OLsz+tTnG1HlF7p09v+RFpldpnmfqxUVb27I+Mqw6heJgk5EBlPv9T47HSg6+pDrMLDiGl94nXMo36qemyjZOs9suEfSky6pViJ5zRN8dtQs12jNIw+01p32ljfCXJUX6oY1X/qvRGyCvTKK/yQ+9J+/QPcMwcwn9ReoQsbB72uKrrBdIq1ZG2Pr/8xHuqk+1MX8lFm+J2X0ngej/AlprKszYOofid822AGfbqpmdsa6m0e5w419gnz3mN4tSXM4qNMb6QUfJGcV+pETqK3xM695D0ZKyweeYPoGywY2Mqy4ulnPcUpzLY8JLNs9gdMlpaVkh/A9H2TuMETu97uqHDbeoXomL/WizYD/gMex1zBgUax8i2eBxRwSYTQPNK0Hbe6xh4j+sjase+thHD2xl/59d/Ip69l/5JSUVGrVbD8kLnMfMwMNjqlW6LvhjYnz7LrCaV/lSCA/TRuXUL+qUO70B0t76GAR90kFdK2o+cE7rX5WXHcOAzSsOzz6EfCq0mnxahcA999ArE3drNKvZi1aJcipuFVwYFGNPQIgajR/qhbPke5Dg/btAJ6ktGfnhssBjXvRcZh63GJ1hycSCFMtXrUXTWdJFksSWxSCgilr0aA78b1HgB6eH0KcNI6kVIfPsDm2Ek7lGE4rYmOm+Gi+XUtucIdIYFWz6zXk2qAjn7P6DPnujXRZOdi+XhYby6TMT0mPbw0cubyi6yfwx9WpBZ6IGx7rUs2+HrP8SrPfXDfPzQvf/j9GlB7reOh385awerytjncbw2fRgC9EpxA8mjb3tjuQuuWjtoH3fLu/OrH2L9iPa6uuKFDpExaEv/ZRR9o9PzQmxZ9AHK6JrTk2ahs35Y3Q0+6Ez3CVG/OqaIrrMBZfeOwPQXuhnrqHcohseRbdmfggO64Ucu5c2d8iZqo4vVjMCyFSPQ1uqeUSOfk+W5ZceemreXcNEmuZLfor8nYXWZH16cMcVYflQKHYYqCyukZtu3Cz73hcvDolK/0g+bL0PBoUL4hE7EKLJrB8g26vOoLPzQDUEBWio0PWqPha9PQQd9er3bY9SsWehOV19POmK61LwHKNiWhPWUyLZTluDFKnut4BP6JPo9oH5xlp6zsHBiN6N+arqMEry1M7tKXlq/LHL6fAy8y6iJip2wYFlm9fm1wq4dC8DA6WPQ/U5jvFdwDAZ2oX/2H8EpncFW9AboMJ3k1c0oL++OMejeQv1iSglSpw3BgrwAvLhmJaL057qo6xXpa5Ao9hiMmU/tu/F873ti0K+7+sUJXLIpbveVBB7sB9SiXXKE822Ae9TOtvqg7QNKnzy/qk0oxJF0+ohoL6fRO7ATIulaB05Ul1lxEVUy6o8FGhaUUWhyWyDVgBJkpFswav2nlPdAY7lWDcE1GR6/aADEVhVaCAjqiqiEFJT3n4V3/jYGbY0X8hh2HcJW9z5OIirEgsRFOGB37wsL8g8qm6X262nV6DpkGPpFuKdsNxoqlkYgOkSITyrMIo+YuGp+qUDFmSJ1nHkJLPrL/7kDhlP9O7BoMpZl0zE12hn87ntUVrLteaLDqWA5cQSpiEH79nfJ45XTDuvm+RzLxm4SdOcuZFzUKMtXB+UGJ7JneFWcnmYt7qK/desQyNSRjLy7PYmx9Nstm3YYK8yxTGyhfA/s+6hRFvTp82RfdP6jEqfHq0tfPC1OTjliunSwOwzs29MpnXe5nO7shqhuZMNTrJz5imxkbKDPmEirjpYVjsqjrvnNgoqKEpz6Vhk7X/Br7W9e27Jt1sTWenrfqsxEO1Cm65GY4JwdrC5j9I9yXDYGriE7aA8ny9vbu4n6n44/+VCTTZwprbZz3+YiQ56TMQKRwrl1l2+zkUadOp/IR9HBpPH0vi1ALtcCR5PlHOTNvfKunS7WyL3tES4+dxXiZA3F76pNcj6/RcgR8999eqKT2cPgW1rAn25oM1dHz53t0V2U/baD1c6apRA526if0a49/FuHUh4PIr/qAsrCD+gSXv2QRtOjXjF42KSzhjsfRb9e9HlsDwrM5gvWmiIU7BetViCG9/TQMvlU5xur/+rxDgynjiq1F0eLoGiq1i/rhsceMCtdX/i1po/PCnFKiaglztsxS0UFyr75BsXyN2qnqubRqXpD8hoY4bq8SrbNwFjSj6ilf8NYK71zTddJdofEQ1dg1OPOte8u4che1qKvZIrb/QD32yVHON0GuEltbatfANkVoqhE7W2eUeYPDr9P1Udy8ELILlU/jCrCKfHgoEsHtDKIy4KizbHoNnQDyu/0Jp0rQcmPleoxHdSf256wHIk/eNnOix80BVu2bFTD61g4ZQxGxQTAQnoe2bUPFnympMDT2HUIvSPm451ZoWicvhwD/9oGnYaPw/r9RVaFRpVb3rdD/2TuyuDbUinMkh9rq1ZUnGdzkapNJr73fgR27oNpm9WDem7pienvTEHkH3OxYGBXBHQVCx/sR4kzSbg3FI9R5S87VFjl7BTkpVADJt4A+iHgAaome45UGeySE6Jx9EP3+wLUGJL+j8ovC96ONd3McuyaXDpaNw5BvcjIi2Q0kuSwf4fhSf6RzzZQheyJ7h2ra6Emi5A/658Q6fGDn/xEtgRlzi4mUgPmnXJbXC8nP3Tu1V54hDiQW114FYfSZMdouMnDF6fLoy6wlCgLSomJ8He1QWBQV0RO05Zqrj1Xomw1nLOD1WmMDLR+Cli/eNIO2qUuy1t9So7gAKWj4C7adXbOMK1zA5PI1hKlv1gZRyfzdrWUt5EWuFu8LHKiHrhqk5zPL/UJxKp72IGFJtcdOHQGqN8O/FjuoMMbiA6RdJeybOo4q1HHDmK72s/wa90JbbG3+gGa2nFr2619tc5o5d9aOP5mUEdUOEXkTJb9JEd4GE0OoWhl5pB6khbUXxCfn5WoDqHWL8vFugSzMojFKlG8xxyVgeeo+GZ/1aI6AUH3o333OCyTZaPHfXlZ8pIwdrx4U0OO7u02XWsXdV2TXSiCWnqoZjtrL2vTV1K5ov2Aa5072yKKPtJOKG8rK6jPnUZ6ENJa622pdkl74GY5g1NCZ63aqor0lxAzmfSx/zzs+OhDvNLfC2njn8GyPGNtq8hOpf6cF8aGh9ra1Nvbo3NoqBoex8DREzF94Uc4mL8RL7YoxLKhNexn6CYOVhn1QtunNuJgzvtYNrEbvAo/wLThPRDYlRLi5KpA1x4WHFneB6F/HYDZB73QfUwyMnO+RNE//4HUieopVnjdOwKr931BlXAEorwKsX5GLDqR0UtIqWllp0C0F6/yP8vEEXl4l/KUU3sD2LZDT/iU7cUR8ZSTjNSp3Gz5qWsHk6fmrdp2Q/cuJiFyGKZPGYPAP6kneoT6lJE2fDIX69O1N6m5OPgO/aqmt2RXIa6Uk1+XGHl4QvWwUW246DBEdtG7g66Xhyex5C3CwM5dEZVI+hk+EcsyvkDhyX+gJFUsj3w90BDtoH3qrbz/xzOdsWaB7c3rXHgMnqU6192/+j7Xvy7bUmdthw+1b2bXpTBo5BhM72Y1dM+KtsFiSF31tImCI3tRpr0BlB+mWrD7iNImKB03LzzWwUNv4q4bAtDWRP4iPDaYymBKB9s3Ex6lBGkJ5JR0Jwf0xwAMnPIhdWiPo+SfX2CZeDvrCY4kYdTItSjuH4Ph95Zg2Zw3UWDHLLum66SdjdR/a4GrNsX9vtKV7QdcF/jchSDRvz6mPFgp/pqc9ns7IUA3/LjVveKJm/o2+ZtCHKSPyIDqlzTCZslD1bXpLV5+iHqVnLjgIiwYOQSrq1bNp/NW0vW7TcGgUBfaOu9QjJo4jP5xPOzeXRxvOyHwaY+o50m5Pv8SaQt7wu/bvUh4IgkH1Hx5yXn5BqV18pTNeUpPU4Uj/G6xfnfiPMKzH7mgEP4TN2L/ltcxqm8oAny8HTZcMjf4oEPfKVj20XEUps3CwDsrsCWhD97IdlSFvRD0gBjfrA7vkoe46N4AkiL2I4Oq7HtSiBwxVLC/eDKqQ31D5dU+BqNGT7QbunvwCWX9yohQh08WbN2vDB9Sh87avCVTZaFf5tdIKemI8p+Xk2/2PIY75XTbo+hHfaKqYaNi3iTpgM+YRxGiE7bb5eEJftyLxJHLcaDFCKRmfIiFo2PQ+S4feHv65ldD2dZgB2tOY/3gCTtol/oo70Zeyhud0jLU6h2nep2CFo+a1jUtDAxW5eRq3q6S8jZyBiflFw9+8KnpYZmrNsmV/ArBHwvAwybXqwox+rlEtnjd1wnD6TOtUMwjVIZfVr8BVB6mFuzPpRYSOPWVeFAWg/b6h6U16lEFyuWsUAF7oONvipIAlNfhy3qZMyUkIaKLX5WDp/TLvBDSy0T2VYHsmHx23VCw9hmMSrEgasknOLiC2vyegfBzZCzckRfpQAbV2TWvziOnbhh88pZj2lqrufcu6rrH+rTu2ks3+kpXtB9w3RCAQDG39TMxt5Xq1Fckb6vtJJR5hCXIOVGCiu9PUZ+U+vEtZcVVULepwKBHq6e3/LE9xr45D1HkxCU+KZzCCpRsW4TEPC+MGkFOo3qas3j9r1KqtZ5iYELNDqHGDd5oG7MSy56n/6smqGoTMclxOeJ5b9V51Mmf6ImQQPerwKljYhJ6KJ7qr9tM0kW87x2Gha8pm0fWtKCGolzA9qOFqCg6ggPohkAxnF3g1R6dh6njlb8tIlUiJ+gB40IFPoHhEPOb07Lzatd5coH6lpHo3MiLyxxLwUGqaAUHU6gSWr8lq5ZFAclLGSBiBTncB0RF7RKOtrr6q0AV/7L6r47yCs+M03avnLzROYLyXZaCXEq3JTcT26n0B3Yx6oAnysOIC7L45xFlbsaTw4yLNniY2pWthzG1g0oaxUIYBfuzlc7ZFcEzdtAu9VHed7bFY+Jzz8HazfW9pxMGCl1Iz1UeJNWEi3m7OsrbimO5yBSfMR0QVEPxu2qTnM8vOWsx4uba6BY38W5Pzgx9bhOds2+o7gOd7tGexKsPU+XRNeo8nmGdjHnWyt+eHok5iWKRNuFI3iPHGLhksuedxSVPhTqXj4rPvcgprI0i10xFYSbS6LMttQ1K55L6ZaHt6TMbBwrrq2dgTRmKcoWmDKO2yZkurzpiCh8gQzdNokZ8umHZm1PQgTrfYgGX14Z54ciCyViv0z3XdN0HfoEivSU4UGDa2jiPB+yls30lz/cDHOFCH+GawkuZn4w8FBUeQ85e2z63No9QDCs99a0wPOYLyuCnCqOutYjBa+/NUpzCyPvRafx+eSHOF7q43k6XnBLeAOlVC893duw6hGV5+0027LSgUq6rLeCrap1fN+qc0+eBN5KQKo+91mNB0de1rFRWFBfbKl3RhhlIJAPgM/oJdNc/GfVqorxRc/Zp83/EnzMotT75x/3YJ2/QasXZXGSYbHBrUYRU81P628RwJpL1V4XYLZ5yGho1b7QKJGd7VyEOfCWcxUC0NSztRtzZF8PJACLlJUzd4Vk526W+ZUQoi8uUYPtnKTgiJuqPDje8JZPRZLE/CQtsZFGCVNLPDKraw5/qq3siQ8ZfdsBtG86Kw0mYNK16wZ9a4WY5eYdGYTjVobc/y0bB4RSU+cSgc3urjLtaHnZxQxZqp6nE5klVGQ58LOZ0mOBqnRS4VbaewVk7KBapGCg6sJ8twhvbbMvY8k31XGFP4Ek7aPkmBYnxcVjtaLNogTvl7SreoeguyrpsA1Zvs+4AVaBgl7rJfk2I+cfPkgNxbBGmLbVerdcEV/NWz+VtpITSqf6r8VsR1s9fJD+xdmoxDFdtktP59ULn3s+hA31LnJKEIw429HeMuhJ3GTn0e6hjjcfR+b5q26dsJL0f+YfoODmLnQPvMuZZK3/So4WrrMvfgiOrZmAZybDDdLKpOpPq20KZg5uZa2XvzqRg0iRl3qlzeCOkm1iQyoJlb6XY6ELF0RRsP6R+cZaKEpy3lmfFfrwxVbwWbm9YvMYvYqS8QMmWqeNM+mXO4qVunu/O27JKtU6VoNRqPqvlmz3YZ5N3L4REjpDt1PrXF5lsfF6CIrMh+k8+p1tR1Bvdn51F/dEiJM7fUC1zF3W9bacY0l8gY8FaHLCW95kPsN3ZdtVVm1KbvpLH+gGOqKf+0hXEL0BM2SpB8Z5M7Dbrc1OcPI9w2x5sFyuXWi8oozqM2PAeMqzqndddwzBnlhgVqODfqNy2vGqg4usNWLBAOITd8FiorrfzSyG2TIvDtBT9ysyuY+4Q/rgXC0bGIrx7HySs+wAFZ8RqRYVIWxWLhFWkFv2fQGetEt4Wg+lLu8GnbD/GRinnH8gmhdmfgmXxDyJ8SBLSauhnuMKW5x9Ep/gZ2LKX7pH9AdZP7oOYaSSg4BFY80I3Mis67mqPcOFEb1iEBSn75XSlpetW7rSi1X3CgIuGbDK27M/FkTw6f904DOwRh8JbxRM3PWXIeGMIhvd4EAMnr0XasRJ59aiCvcsxdpoY29cN/fQFZkoA2najc/auxfp08vg7GofRKCuRpmB2IjmL99L/Nk8iyACOeR3Dgy1Ifb6Hko7sQjKcuThA15w2/H4M32zVqZIfKhSRY2VcGMOrkSK5/CPUAXawIEH9y4hQF5cpSJqMaZ/ZmYRrJYvhC1KQUaWHfTB2mwV+MfMx2mr1rLadxJYFouEcouruB9iSNASPxuXisSliHosncKOcBN7dEDnGC2Vp1NF/x6KssmmVcdfKQ8FeWbssi7uUVdEKksaTIdpP91bykzDwIYz9mvKsnmbAxTqp4F7Z1hpX7CBJLmrKPET5UBrHa2UsbNR+pC4dQtcYgKV7PWcIPWcHy5C2aDJW79qLxAFzkOGoINwpb5eh61CnLoruk0F5qpLj3g3ktD6EyJ0V8FfPrIm2w5bg1QgvHFk0AOHxSUil+lFEjousN0J+SfurG0+X81a/5W1kL8aG3I9RSRtU2VA6h/bBNOpjdpi4ES869dTZWKdqtkku5PfeEXh1FnWs8tYi6rEhWLaD5PlNEQrkc6k+dZ1h29E2QWn/srH+bXJ4enVCkL56qyuRbk+cQc6icbE1DX35P5GgpVfUlQEYuagIPqFjMH2Qcd6hX/tH5bIuILs3aqmwM5TmVWRPo9aiybMj5IffNmjDaQszUaBbidg7YqK8oAT2z0DfgeOwXq2rsk3tswPl+q0RnMDnxFpEPjYA01Yp9i9jRxJG9YnF6jIvRC1dgoH6/sEtPfHCa+TY6Ptlx4pQpLYPw7sOcGJRCm+0aifakBK8tWiRIj+rrVrsIxbGE2WyF1MTxG9F26TpygZU3Gfb7nsFT8SrE+k3Qm/6KHoj9yXletgD4RPXokB1suzSgvqj8yjNJPPEqgcXLuq62KpGpKNsAwaq+ivruawHL0Es7ucULtmU2vWV3OkHuEP99JeuIOoIlfXrxAP4biZ9bnUeYVkK1otpXDaLnwVieNIIdIBS7xJFe3uskGyf0kZ3i6e+fHBPecXQI+smU114EGOXfmD70PnIO1i9SmxJoYZF4zAq6n4E9piB1LIADP8btZG6ba9KPpiMhA17sT5hMjmqaqQ7qPsR2lB+OlNaNfYBZWPXqtBaemL2e9Kpf6kn6Sg/9Kb03CPKxrhaCH7kaWnVQf0mldrGurYbo2s43nzyaWn7Vwdt0hUa96aUY7N5uUJl7mvSE/Jmp1p4RcoybBKqp1LKf3uwFKq7dvATL0nbxQadX70m39OQrvJT0r63npa6Ga6v/sZqM1i75M5R82K9sayA5KVeO9jRptLlBdL2OdGGdIuy6jZ2jrTbanNRbYNv6w3upcI3lc1iKeg397XlCshIoG3aWtMGq+VHpM0v9TbqbYfe0qT39Bui6jHPz26xsS3J5FH6bm9zcGsdrREXykmj8qCyuba5fghcLA+B3bJ2XRaVhWukkQ9Vny9kPTtVbNav6q6J3jqqkw5l62LZOryWk5u1u2oHpR9s7VOLDg9Iz711ULc5cc120N4mv3VhB/Pf1mTqeMNwgavlbXfTboG2ubTJJvOVRe9Js5/QtyeqzMuLlc2GndiYXkZsZm9if0KffEFaZ2ib3NNl58rbM7pYpTeU93yb9vY+aSTd06weOCwDV22Sk/kVlB607RO0eChamvq27bnmqHKn3z26pkCNqybnDfXaHezXI7Fp/r43jDZNltUbmVKxnTQUf/ySsa48NFha9xXJonyPNFV8ty6nqg3obTfMl/51Sto+22izNPtcLJeLvU3fdaj15Lmdp6RTqa9IT9roqNVm6zrERuqzn7yv+nz5N1Reb+yguqSe5JBiafck4++rNxGvyY6R7K3yLmxUFqlh6U57ea+0zaP43ZOvKG2ahtnG9BqVlC5583i6vn6Depd0vVTKectKb0gP5P6sWl+daf9dsim16iu50Q+woabyFLjeR3C3DbDGng31jG3VOCVtHqJcr8WcTPN6paWZwnM7zVNt5g9Z28nS3HeUuqm3X1p6bQLp6RODpalv7ZDyTdr48syXlHrW4SVpn1P12pz/J/6ovqE5lgpUaA+9vLxrnBAr9plRTveCtwdXGziy9C+IWgS8mPoPjA2mCLHHihjH3IjSZLI3mQGx94u634vXH7xrXniiKs/O5kHsLVMlJI/m2yX0ZeVALloZeXlbTTrWZOpEOde7jM6mYNRfJyNnzEZkv2j2htAKnSxs8mmGlnd30uYqTpaTS7haHo7K2mVZVJetU/VL4Gqd1ONq2XoCfZm5VD/cyJ8D6swOfrsBA7tmYnhOMiLFI2CHuFHeblLVntS2nujyTql2oNdu5q2OyttILpb9eQAWYARS/zlFHtZWZctre0+9fjsjaxfyW90noHPrq75a43YfwMk0a+fbk51H2xedjjopT0MZuKEr1b93I/1u5r1W93SEK7ruqh6Y4qpNqT7f5bxXpdfDMrPGo/p8/eKM7bP8YoHXH2svQ/lezvRNHFCzQ3iVYNMRYhoUJSkD0CmhDNPTPsEo/WpyDNOAqBs7aKHr9kHUkWE4uH6Yx+dhMp7C1iFkGIZhGE/g/CqjDHOlOJOiTKTtNQb92BlkGM/xWxkOLB+Cke944dWX2BlkGIZhmIYIO4TMVUoJ0pYmYXVSLMKjJiMV3bBsSow8oZlhGA9RkY20zwLwynvvYzg/bGEYhmGYBgk7hMzVyY/HkPHOWiSuygbuG4bVqcm65aUZhvEItzyOV7fMQ9RdPA+EYRiGYRoq18wcQoZhGIZhGIZhGMaz8BtChmEYhmEYhmGYBgo7hAzDMAzDMAzDMA0UdggZhmEYhmEYhmEaKOwQMgzDMAzDMAzDNFDYIWQYhmEYhmEYhmmgsEPIMAzDMAzDMAzTQGGHkGEYhmEYhmEYpoHCDiHDMAzDMAzDMEwDhR1ChmEYhmEYhmGYBgo7hAzDMAzDMAzDMA0UdggZhmEYhmEYhmEaKOwQMgzDMAzDMAzDNFDYIWQYhmEYhmEYhmmgsEPIMAzDMAzDMAzTQGGHkGEYhmEYhmEYpoHCDiHDMAzDMAzDMEwDhR1ChmEYhmEYhmGYBgo7hAzDMAzDMAzDMA0UdggZhmEYhmEYhmEaKOwQMgzDMAzDMAzDNFDYIWQYhmEYhmEYhmmgsEPIMAzDMAzDMAzTQGGHkGEYhmEYhmEYpoHCDiHDMAzDMAzDMEwDhR1ChmEYhmEYhmGYBgo7hAzDMAzDMAzDMA0UdggZhmEYhmEYhmEaKOwQMgzDMAzDMAzDNFDYIWQYhmEYhmEYhmmgsEPIMAzDMAzDMAzTQPl/EqH+zzC1pjT/v+p/DMMwDMMwDMM4wjfoyr+fc9oh/O233/Dzz//CpUuX8J/f/oPLl7nj39Bo1Oh3+J8b/gc33ngjbrrpf3HDDTeoR6phh5BhGIZhGIZhnOOacQh/+OFHlFdUqN8YRqGJtzduvfUW9ZsCO4QMwzAMwzAM4xxXvUN4+fJllJaW4VJlpfz9xhsbo3HjG/H73/8ev/sdTz9saPz3v//Fv//9b1RWXsKlS6pONG4MX18fNGrUSP7ODiHDMAzDMAzDOMfV4BA6TIHmDIqhgbfccgtuvvlP5BA2ZmewgSLKXZS/0AOhD0IvhH4IPWEYhmEYhmEY5trD7htCbZio6PQ3vni7GsswRipv/l6eX6oNH+U3hAzDMAzDMAzjHFftG0LRwdfmDHpTR59h7KHph9AXoTcMwzAMwzAMw1w7mDqEYjVRgZgz6OXlJf/PMGYI/RB6ItD0hmHqgtK0AWjWrhFi086pMVcWLT2vH1UjGOc4vxmxJLdmkzajVI1irgey8boo13ZJyFFjrmZyVom0cv1lrjCu2MNfj2PXpsVI3nccFjWqvrja2l/G85g6hGJrCYFYQIZhakLTE01vGIZhGIZhGM9RmjUHsfMS8PL4OUi/oEYyjIcwdQjFPoMCsZooUxOVyF8XgaB2ARi/z7NPTkr3jUTHdncgel1enT0NKk4bifFpp9VvVny/HeNnbUax+tUemp5oesMwDMNcTZzGtvH8VrZOyJtex28auewYBd/7ojE4oCVaRUejY1M1UoZ1hKk9pg6htun8NbWa6NEkW6OsvYpfla1G1AV52Lc4kyrhaWxKE5+e4hyy0pLJGaPPxWnIV2M9iYVkFvfSblTamfpnsfyEyk+GotdUx06hpiea3jAMwzBXE+dQvE/9l/EopeeOq//VFVx2jEqzfliyrQhZM/rBV41SYB1has815PFdrQTj4QnhVDlDERslPj1Fc4RFxsKfPiMmRyJIjTWleDtenhSGla48ofx+M8aNmw6MeR+v92mpRhrxahmL119PhP+HkzDX3ltEhmEYhmEYhmGuWdghrDWNEfRUOvKPZmFuWHM1zjP4PrwGh49+h42Dg+FwaZ+Lx5H8UbYLw0rPYdviodh2eyLmPRXq8Npe7SZg1ujbsO2lBGz7Xo10m4s4tS8J40e0RVC7RgjqH4HxqzYjx2osfPEni7FyXZryVvJCJpJf7Y2w7o3QrHcYYl9dgSx7Y+cvZGPburGINVx/O079qh4XWI5j1zrd9Q0cR7p67JQaU81p5VhK9Vvg8qPJdG4ycn6mL5fPIWvTWAzpfweatQtAr0kkr9PK5v02yHkagF69KU/yuWORnHUa5ephh/xM6UhNwPjRYego3n6rMsm5qB6vAbfTTJQXbcfrr0Q4KAu6XoqQn3p9AxeRs1U9ZpNWOpYqjlFZOaHEzf7QmORA5bhqpCLD7m0R/UoSdhXZEYI7MhO/IdloutRx6AC8vInK/rJ63CGVyP9Q5Gcxtp2wuoma7ugqmY/FXFnntFCtl9b1YOUrIv13IGxDnnxcw1AuNchCueZipJu98i9OU9LwifHhT210pvTQCvlhlZB7UP/eigwb3Yxm6vEa+TkbmyhNm46K/Kj2Y2gA3ZvkMGIkXt933KTeqHVVzUfpocXKb0g2KwvlqCr06avRvqiUHt0sy7sm3au5vlRjlo70YttrOnteNaoslifjY/G1eBf+Jr7LwdYGuiMPp1F1J1YuP+fqlK0Mp6tpV4OVrppiXefU8vL6Q7B6gglOtCVKvViMFbuVEUiHP6hOl6KvGhdRnJWMmZrOaDY/z1G5Ca5A2TnThtql5npX3/bHaVzI99VgD1emZqt2zzUdsaGW/YkqXOnTGOqjIztuH8d2sBKnPhL5J/0/r0ZZc57SK2SkLc5jaGfU64+tbvtnpjlYxId0ICeN2iVVhlW6Y90HMst3WraTfYr6gR3CBojl0HLM+Kg54sZMQFCNi8g2RsiQRMQ23Y4Z72fWYi7jRaTPC0HY+OnIujkS8RMWIp4c6MPvDUWvmJHYpTNApScSMHPxNjLQA9CxewRWnqhEs1bhCLv5HHaljEV0zFAr5/QispZGIKh7GOLeyUR5o1BEPxWLu8nB27R8APrP0Q159boNXmfE9Rchy9pankjDvMXi2HSkn1DjNM5/jk10bMVPjaveAlu+203n7sbJ42l4efgdiN6Uh0qfNggLuIQcMkhxzyQg3dqwnlhB6Y/AyxkXcXfkQsycMAjtfqXfxwcgljr6juR7KnUoOnYOwJBXtuOkeHP8VDx6qTLp9VwScpxotN1Ks3BwNpBT3n8A5uY2RpdoSnf3O3Eyw7osmqOJZRNdfyR2Flg1imRwt84Ssh2JrV9Z3+A4lR8do980cWJR48qvFiG6b1tM3nsaje8gvfgLcDJ1OmKpgX39qPG+7sjMcjoZ4wfRb+atQH4l/SYmHkH4EsnzIvDwq9trbLiK00Zg8NQE7LSEolfrm9VY4vvNiKN0x753Gv4PJ2Ll/AnoiDS8LnTu/W1Iz95NoboRVepBHkrF70hnZuYC/qEt0bHZbeoZunLJOodmYRMQR3XqfJaQRSCGmOiTcs0EFNiUMXExTz4284RxLrS7OpOzluQ1gjoGH52Db2g47vapxGcibvIiOD2Y4ddvkU5p2pq+AjNHBCJsziYU//FOhIW2Af6RjLnj22LwKuuHYedQoOajOG0opSEBWaDf3B4K/6qeF3WE5oUhSKSP6npQzATEtgbyhX0hO/KyqaNBdmY5pX/oUFnejVvHI7ZK3gNkO6XgbH1RyN+kyGnnxTboT3ZxZmQwLJ9TJ7O3/prOn2dElcUq6sCKryfImRXf5UC6JZ8jcEceLvC9qjuiTuF+xFI91OpU0PCxSDd52CjKTsjwb9+3RK/n38XKwaHA50ly2pPTRV2h8J2ZIusQ8+AHUZ2jDvNJkM6G3onGpDex/UMw8xP1HAPOtyVKvUggB0apL+kpmlypPnynlgfZkrjet6JjPLVx/wCa/ZXk2qM5Sj+iDudwW3tlpD7LzoU21C4117v6sz/O4nq+rwZ7ODPrW9XmOasjtniiPyHjQp/GcmIxhog2cPlunL/lMcQ99Ria/bhbtuNhYxcj34l71mwHqY/mdZryPxYzPzI+PNUozl6El6kPePGmlsoLEVWu6f/IU+vSYhz9d3Pc/UAbVB7djpUvUfv7iYmSXczE3NEd0Osl6jOWNaa6F4+IW84hnXQnbDzlR8v8RZKHbIcy0SRsIsloIiJuzcbfXgpzqk9Rb4iN6a355h+n5fDrpUo5nD+wU4qlU8NmFEnnj142DYdnhEtAvLTxgBb3g3R4xTIptkeo5E+/pc6i1OqBWOnlJQVSsdVvd42h400TpfS876StE2KlEH/1/MiF0q5Pjecq4Qcpa0miNPiBNhJ1zpVzA1qKDfall9/Vnffxu1Ivius1p0gq3vG+9HKUmhb/SCluvm06XArqtcU9tdBr/nem5+bP70fHB0nJH1O650+QIgKay+f7h02QVu74xer8LOllq+tiTJbVOXbOsw493pXybX73g5QcRcdaL5TSbY7ZD+kTgumasVKyVXloOqLpjP6YIexcI4WJNA3eaZT7gQJp47tGucn6IM717yfN3fyD4djhOYOUMo96Xzqpiy9elSjFzc6S8vOq484fLZJW9hGybi6NW1stZ6U8IPV/zXhfWYdDI6WIpra6fnJZvPybuFW21xHXj0jI0aXnF2nXaCEvSBGz9df5Rdr6lDg/XJq7Q4tTQv7adCn9sDHOJuxYI8VN2CkdrqpjItC9xoSa3Ms8uJ5mIdsJssxDRqQbZH7+AOlgO7pW2BrpsBb3bqJ8ru/zOdXnURDXAEi2YXT+U+lGHUhZKAXRbxzZFxGq0t40XBq3wlh2J9cnSiHimLVeuyqzz9OlOCp/INTkHu9KG/dUf9fSo7c5xZR/kQ7fPu9Wy0QOar0jGRjLXtXRplOkrVblr9SDUCmkXXOp/4wCo+wpCJ2U60K7RGmXPn8HcqSZQs5UxrHLjPVHq1sGO6kFSrssXyt7447OVKeN8qW3GcLGPx+pHDO1T1ahys42l8KGvS8d1tdvTf8QLM1M0cVrtrEdya7pIGnJNqMMREhPUMpfLif9Nfe8L1Fnmo6FWl1T2IdI9TdrpCy9vPOKpOT5WVU67VJ9OUz6JtIaukzK0p8r5LQqp7qeOHuevaDJ0Y7M3ZGHbdDaJNJHQzzpo1xOpMfUFut/c/i1eLnuo51Vvf30fWmwiA+j/BrS867Un+qnL8m2xjzr70v1R3/+yW3vSrHyMdu64EpbIoLDOnW0QFoybKG0cadRBzU7YdAFe6Feys71fNuGmutdfdkfV4Kr+b4q7KH1uTXoiGlwsW3U8m3s57rQp/mU/Ai1bX15vV43fqD+pWpbY3batHOG4IK9HCfuZdrPLZKWiPaRfI4qO1XVzlAautJvdDIpXj9FsVE2dVW9DumBTftMdW/lu9V6o/hHkGJXGHXp5Lad0q6Plf+vBpx7Q3hTc/i3BrIu2F9Fs/RCJtD0NjS7SY04ugId48XTkGz1Ccs5nDoknuja8bQvHMS8cR0QvTgZOfIP6Py0BPSaIhZW0XMRWYt7y2+aNh06rj4BoXOL7D8FK/9qMWKfGYC5qWpaxNAE8vjHfeTZVUEdcwKbxNDHlxYjvUi5b3GWeJo0B1nWj/Hrkp+zkZUKBPUJdzwv0Yqgvw6m85ORZfN2x0kunkMWfYS1am0conpTG0S0Mx9qOy7xfcQG6t6wEP59JiKedBGpG7FPNxzAK3QKZkaFwreRGiHTEr16U7eC9GPf19UT/30DHwM5p9hWoB8GcA75uZnw7TgRcb1J17M/NzxdO3ViG/3th3Z/UfZc1BM2LR0bhwWjifpdfqv6sJAXkP4P7Ume4CJK5Sfhwbj7djmiCt8HqDxqejvWMhYzn4qEv1bHZOhekbFyftILTjj9pMn5NB/HxuWLUdo6EbNGh+vOJ24KxdNPx5KwNlW/bb0nFNH0UXo4z1BvTxZuAvo8g7iHw4Gd2YZFkkpPH6TvzdGllflcVmt6jV+Dl62GZzcJjkd8FP1zYhF2HtI9dXdRZqdSp2PlBSAkYZnJPQYhwqrcDKjzcnPaJeLtqYPgr0bLqPUODw9BhCGbLdF/AMnwQhJ2fW5Wt8hmtV6LedFtjLJHHjYtX0E6GoklSVMQos/fTcGIm7wGEaTTycuTPbYglfM6o6UtGDOnJSJMX4UbNUdYnyHoqH51modfw5KEfvDX129N/+h+Kz4xWTjs6Gm0m/EmBgcYbQh+TsOmhXR+0wlYKcpJf83b+2Hm+AnwJbnP3KR7cku/Wbk8jX4TT+mIRSu9vBuRnYnUht67WF/ILsr/3tPGqC9CTqG6qQLOnucO7sjDBco/ScbMo2TjnnrXZr66f4+FVD+pnh1NQPK+av0v/yoDZDFIrpFoZUjPIDxDBqZ07TZ8ZjMs3Yh2X0S9KdcfvYyaBAxCdBf1ixWutCU10waDEyYgwt+og17tBmFIKP2TlYeTNeTDIR4sO4/l2169qyXO2x/XcDffV9QeegKP9Cec79PkfzgdydS2RszYgHHBeiHcjKCnloGcK5SmUL/eenSWHmftoFc4ej8ZTP0BsrXW1yvOxC7qjPo+EY4QNaqK0GXYtmwCgnQy8Qruj2jR58w6jmKdkpVT/32uuE6MSftMda9/u+q+ouwfgeThb+w/NgmIRIjT44XrHieHjN4G/1b0cepbtZN8EemvNkKzxdoQwnM4L0optE31WOhGN2Pw5J3I+vQXkPcrh5Mpa9C/KXVSPqqeh1VNGtI/aYnY+QUgTxvnDxdhSQ+KztqNHN1wEsuhRYhblw3/qDVIr7r2Lzi5Yop6hi1ZKStwNDARWz9Wzj+5TUnHtq27DZ1Wl2g2CMlqvs5//C56qdH2yaP8nUbE8+nIz6Pf5P2AraNJYakj+Nkx9RSZUIzTrns0Cy+rsbbozns3UY55+V3td2p4bZDtIjen88ito/5VWwfzJ8xoGSwbieQTbq6o5h+M2KZUFsvH4vVD55wy3jcaDLRGMDp2FZ/bcfQfDobbXK5E+c+ncbJE6WTk/6o7l9ISISq43jGxHMfhD4HowFDS9X7ARwdxtKqhzsNhsaVI6GOmlbfJTX9S/9PxJ6oz4vP7czqj2hyt7hO9ADIkSzYj303fuhqRx3M4dVp9GHLxotONotNpLs7GLtGZI0cuxKTX2aR5S9KxTOSfVjPjRXoSQ5/ZVG+rHPbTyD98DmHt70fYXyj/F7bhcJWRvoijR7bT52CE3KPE1MgNZvujUqPSkcqNbFFOyVklyhRHMjuNw7JjEY4hXV2sH/RbeV4uBmHlAnLQ/qBGa/x6EbI4SKdtHik0UvJzXq+jOgb3ijQ2NoJisidChj3IwTS0jCr+jyFa2M8Tu5HvtpEz4rzOqGkLjUcvUc88gZnciCZtusu2tzSXGmslSkcsorvadkotBRmyDfR9oj/CrMuJ8Artj2fEku6pB6uG/Mi/EfOxevdHF0f9XFfrS7PW6NiOPtdNx8y0PJTbm0/i7Hlu4I48nKcS+UdW0GdzPBMRbuK4NkZYxBi5ndr0VfXwMsuvah02q+s3iD9nUeFweJl2XyCOnEqb+uMKjtoSN7D8TJ3o0yfwT/lbTflwTJ2Wndv5Nq93tcX5draWOJnvK2oP6wR3+hPO9mmoD5Alhm/2Q3SY2YPflojoI9pvklWhgyHOLtjBoO7xiKDrrSB/Q5+P0sLdSKd+ZHxXkW4rqExtbcVtaCYX6mmUVuWP7Msh4eRTn5FsfU32pVXreNnuz12YhKzztbMfdYmTDmFzRSDFZ5VODajznEIf63bjsCzpS2TA6cO/ebUDEhiPJYMj0erm6ma8SevH8Eh7+sdiJpDm6D9/A+ZGqp62FynIw0JBtqO4amL0RXz2URJKm07BkqmxCKq6dmM08XawiX6Pd7Fr2RSENVPObxIQi2eeaE6d1gzkuzrpuhaEjHkfySPClSdR5DCHdekvx586V39vKku/y6W//XCPq08lvO7E3aL+VD0UcJGbIzFzxTL0+kMa5o64A/69xYTqNBS78XTU11/oBakjGSwDFnVyr5gYHvxH3N05ABGviubSGnIqH6byv5CBk1ov8utsbFXfAPq36oQg6toXaHbp+xOyAxMUFqwY+1oQNGwDNg4LR/GmoYh46A6EvZSEbUddKP/LF3EqS5tQLfJI1xhLRkY97HHUN7vYOx3RoyNswxLxHF/vzNyMdh2UelvlsJ//HOnZ6hvAgE7UXSAH+7SWZ9WWxHR3Yj6rY/xbtJE/bUYyOC2zcyiVXzR1x90uFXQlclYNQ9xH9G/TlrB6GaAgGjLRGcg9hpNWrWzxqYP0tzna3WF8I6lh+mBEK5dWd1bbXAPNlYd41AhVN2L1hJa2dlZPceuC2++EnM1sKjs5Qo95m1B+UanYHf3tvZGmMhTtlK4DoP2mVxvjmyYbXK4vwYhbsBNxD5xG8kshuPuRtogzWWjL+fNcxx15OI/2BkE/f9OKZi2VNyS6TrRvS2GDgcOnrBdzoI76V/TRtL3968lo9yWb/mezRwk14HRb4hzlp9OqFt3w73wrgvr2xuuyrakdHi87j+TbQV/sasXD5W2gPu2hq3igP+Fcn0ZrW+3XW987ZEV1OBLRJTvo3x+Do6jPm5qh+ikCKot924HWgxFWK+dcZ19MRo1Z06TrQmya3A+NP6F24ZE/KqMnnV1IsB5xelEZf9EJP/GTYpxPZGNfjwmIC92EnK9FxDl5D5ReBqNkXFFSrComVtaRO02mhJKzaM+oafyE0hL6aH8v7nal80idJuuK6O8vvJtKWOpxhZ9HQh2v6FmvmL59c8SNaGwYWuA6Xq3jkbzjO+yan4j+v89D8rze8qTm8akOVnByErGnYnTkHei1MAMIm4qVdJ+Th6vfnloT1E4MB8lEeqFifPK/2oZS7Q1g61D0bnoOO79SJiSXU4d9F3Wwe9/n6lsjM1oiIiEdWTt3Ym5MMCxp0xE39A4EjZiOrJoabLFAQt9bERa/GOdvj8XMlCKc/Jzy6NQb6trRrE0oIkg+NiEsVl4gKOKOaqOoDcndelSV3wkhP/UN4E3kjPcAdh3JU4yhsCX00auDfuiNB6kHmR1eMwBPLz+N/oPjEXQiCTM2mS0OFIzYl6cg6EKS7klqJUqzpmP88jT49nkN/cWTz+sJ+U1Ow8SV+oLbIzFzbSEOr1iG2NaV2LZ8KHp1vwPRyzONHQZnz7seoLZi3uhglK7VvQmgTnv68pGYm9Uc/RMG2Q73soeLbZ2rbYljTmPXKwG4mxzAlRdbYsj4HBw+IEYqfYeV4g3+VYRn833tUG/5vtrsocfaxlr0adzBaTt4MyIiJxinY5zPxE7yQYIec23KVO1pjKDB7+NwRhZWjhkErxPkhMeTXeg9Eps8sUquh3DaIVS89+MoPg8UF+5Gk9BY9KaonbnU6ftZGQ7Vqrn2hFs8Mbee5+cJyCu33Q+AcZmLqHTZA7sEeMJ5btQcIZFTsHIbGd2UNRjsfxqbXonAYv28rxooLRZDDMmpv1l9FXMxDTPHkfG5PRG7dqRjyVODENayucMVK73adoeYfbTruHBGleEM1W8AgxHSm5xEihMvEE8ViKFHLgxpdIIm/pGInbYThw9/h42jw4FD1CjZzJfVk4eVLw7Apl8HYeWeIiRPiEWv1i3RxGSYkEehzpR4A5V/u1gRbILdMLid7rWYOiRXGcanDt2qegNI5R9K+U3JkIcwibdj+QhHRKD52zFXKD6jDGcOa6pdy1WZUSddDK/CWVx04c11+idp8Bf7eU5W5kPlLB2LlYW2+uwVPEae55gjP0kVD8j+iKD4ZJzvugbbrOcc1oRaLii7aMcZuIiLZeKTZOHyw59aUmPaPMj33ypbxITqRqfURCPFGSu+YG9o8VllCgTpg5cmuxp/o+JOfZG5Gf5h8Zi7ogjFH+/EuAeArFURiE/VhiloOHueC7gjDxfwkuv9tzj/k/zVlp/OKnbPS+ck071CnphIVjdbeRMQTPWl4x0YsvUcIman4/XImh4eO3FfM9xoSxyRv2EYYlMvof+cIhx+bSEGP0xtzE36fNYST5Wdh/N9zVAf+a5Pe+g0nu9POO7TkJ7W0LaWkx0Q+Ko67Rjn7KBX+8cwju6bvE9xFssLMrCL+nfRf639w3237EvTUPQf/S6yPv4B6bNj4V+cjPH1vY6IA5x2CMVQqF5igYML55CTfZE6cG2oYzcG53dnIl+eHxOOP9+qnvtzJrYuzwbaTcFGdd6eEmr7VOw2ZfhD1dBVDXJAs3er/zvDRRzOFk5FS/h6fqj7FeP8TzU/jlEc+0yc1JbFdppz+Fq8yrE7RM11mrSOxZJEMffThQnrYrihvFx4LDq2UQ1HcZ48v6fXE4OMi2s4Qn1TJeYRnvz5BPJJXcMClCGHwngFdYhX58GdxkmxMIEHhjSa4tUcEWPWYNbD9L+jBQbOn8BhkY7oMejvaGETTxMQisHCkH9iXAjGMeqQXHlI9nHkf06ybdO66g2gf+BjCIIYXVBJDqEYvkHfaz2W5iLyD4s6Tc5ooNpZdFlmZNN6i88V2PeV8/XDt8+7WDlavP1vjLDYtYhtmo25c8Xy+kbyNwxA3Ikp2PX5ZRQf+AEnRfj8O2TNiEUrVxtirVwy7MwNslA9yRD/DEZIgBxj4JLJwx1LRQ3OjrP4B0MWo720eZDy46KBB4JCnR/O7du6OyLoMz/buPBRFWRP5IUIQqnOy50Y5TfirXd+VrbJHqU63KovRryaReLl2a/JT+kdLezg7Hk14Y48nKc5gjpG0qe4hrnTWnyC7AR9ijnG1W0LdVjHDUX+6Cy6/S9KXaFQ/HEBlkTVMGxXRiyEJzp99u9rijttiV3O4dRXYpxcLJ6xWkzHU3is7Dya75qpU/vjCvWR73q0h05Tl/0J0z4Nta1R4kHtNhw+bta2VsqjtATR5Fu4gkM7qC0uk7obWRdFvz+Z6oIn5nKSXWtPTi/Zl/Sjbqyr0ehmBEWtoX4D/X8hDfm1eJ7nSZx3CG8lA0sG7vyJ3fgst78yH0asKChW8Uk7Ro1yG/hqc2y1BRSat8Td6jw/y8XjSN80HRvFFDa3ERNYqXBPLMKKD08rw7Iu5mHbvAj0Eg6oPSwXUa5VRPo/f+tzmJxKxnTEY+ho0rJYTqxAbG+xweRI7NItaHPVcnNzZcGXDzfVvFBJy2D5zViWSyulEerQvtjWrlXWKs5nI91k82ZLpWIcqt726fjnd7ZjyU+lTMdMauB8nxqMCO0nly/JH8U/WF//IrL223tQoL6pupCL/H0HkYx4hLWtfjLVRF5EZzuO5n6uOIs6h8Z9yOhlm2/EXCkvLHAzbrbXKGm/OW89eb4Sp7J24bD6zeMIg/p0KJV/Aibb7PdmH2VI7mYcpQbh8AmdkyaQZXsOn5EzKJxF/DUYdytHnKL8/FmbdJRnzZHrNMJ0xt5lmTVGx4hEeShJ8luLTTbXP41TJsM7nqHORJUzcnMk4sb3k1dNnLdVb+VPU9mLh2SdZOfP66ab0UQEd5/IauUihqCusy6XSuSsm47XqaMTkjAYYTob53u7Mv92nzocugqxQuoryiIcteamUDwcQ40/pW3lTuuWjuzvRxtd19efz9rON/45DUvmiHk+kYjt7sITX//+eFqkL2s65qZZp+80tq2ajnSyD7GD+1eXq/9jGCIeIGXPwWJqe6yxnFYXtXG1vpDjnnXIZM7Mb5cUnf0T6Yj4dPY8e/xB3fza5mEq4Y48XMC/2xiIBcXSl0632YNR6N3cpcrqrXEP62yEcGSow9qxLTl/jRordYWCK28ogzoOloeVpi9dgSzrhVu+346tn6n/63GjLdE2uLd9IKuNqqF+k9Uhy+nd+NjZvlB9lJ1bbajr1Iv9ISynN2PmpJFYWdPm//WR77qwh9Y40hEzPNafcLZP0xhhPSZSfTyH15dS22pVHy1HF2PuWrJv7RYiOtTBG0I37KCyuEwy0j9LQ1YKdRF6hLtlx6zxD3tGdkKz3ppja9eEHHU7H5QeTbPdqJ7OUUbq3Ylm3nLEFcd5h9CLFI46WsmzRmJT71Bl/K28omAeVrxDjbJ+y4lm9yNMzIf5aCQ6dlTmD/o/1BZD5u3GSeUMtwnqMVVZIXRqAPzFvMSHQhC3iRyVyYly4ZiytjfuVtPRrOOtiJi1GaViafgRZqueAfmfjMUuat1Li5Kx9SsT5SNK0wao8yIpPDJUfkq966U7quJeF09f3OFoUvV124VhrohbHlYVF5tmkh4xRE+W91h1KJoaJlE+lTOqIeMUFkV5FG921ShnyP+cnE1yJcPuc+eV6kWkvzUAQ/oHInrWCuw6cVpexSt/32LEzVlMujMI0Q/YPkHdRPLsOCkBm/ZlkhHYTroXgf6vUudBlN2zurJr2UnucOQvHouXU9OQczQbWftWYPyIQMSdull+gmqG8qaKrruJrtmjE9rpnTF12OPWhZPIlFg5NO5yYgVmjo5AUN8BeD0tE6cuiNXmMrFp4UjMJV8h5Pn+9se1366urpX6HOLXbqfOUjZysjbj9UltEbb9ItrV+omXfYJilmFu1+bIIT0Mm5SEbeItyWkyzOL+L7VFx6rVhqvRhuTu20Tl3VR9gKShrkSatXwSVpBzH9vBlWXzm+PkOyHk943FyjQy8IfSqNMzABHxi1FKerRyWmy1sXdDZl7tJmDeGOrQH52OXoNEOYl7kP7J+kT5n74C+SaNnx7/PgvlJbTTZyXoGorb4N+aOgUpYzF+cTJ2iWvqg6gTNXoPRvTl0p86U8o1RT3pjaeXZ8P3gUTMijY6Sv73Paa8UVj8f4hdtRnpQn7rRiJ66HLc/PQU+zbUJajOxb5GdlrIIEyp8yJt+5KpkxaCiL0XXW+QsxPQq28Exq8Tac5EeloSYgf1xsoLYjGyZRjs0gUpfSPXIrYdtSMvhWHIUuWasj5PegRxH56Df9SbiDOslEj3mfCu2vbo8qTqXxilbYlYiZhwpb7kpyQgeoSwc3SemF4hVvk7RHKaPR1ZCMXL3ZTyc/Y8u9zUGkHiqeGJRZgn6oIsw0z1rZI78jCDOnLyW6hcHM46Xt3RvDkS42fHI+TCZsQN7U2Oi1Kn5DIcNRTbLrTE4MkTqh/wCZq1RFu6VvLCEZiZqqRXH/K/d2IFxNbxmCXq8oXFiI7R6rKm78/hKNl1G9xoS+6+J1J+s5m8Zjo2ZYn0bUf6UeFgtESr9nR/akEmT08ifSH7Qx1DRV+SURFYQ5lp1EfZudmGukr92J9z2LV8KFZ+RPVjODnE9kbdCOol33QdT9tDaxzqiAnu9Ce04cnHqf6dVx+MutKnEfOCJ1NdEW3rqJHyME6Rzl2bRmKw2K6paThefjHefh+IcMsOqovLbJpKOoFIRHf00Nv6ZoMwc/4g+Mp2jdqmTaqd0uQ4iur8BTrvYhrmjusttxHiHGG7yr/Pw651Q6k9A3z7DEGYp9/Suou6H6EBm43p5U0Uf5A2xigbN+o3O9Y27LbZEPPTLGmmthE8WkohPSZIS979TtoqNia1OlfZrLSftFLdoFELZhs/i1CcskaKDVM2ovcPi5fmik0u1Y0lDecepvvNniANDg2XWskbYkLyDQiXBo95X8r6XHeeVShOWSb18hfnxkrJuo2o9aF6c1LzoE+HvXycVzdiNWz0qW3OaifY2/xeyHtuTGRVPuVgZ5PS4rVTJF/YblptN6ibdZttBuz0xvQHiqSNEwYZ00fB9wHbzfmr9GEz6VBkG2XTVjX491go7bLaHF8Ercyqrt00XIqbLzYLzZFeFve0t7m/mp6gBONG6iLsGiM2phXXst5oWQnmG7Wqwc5GsfnvrpHiVN2tDi2lXhOyHG/IKsKenVLcA2qaqn6XLuXnfScl96HvTmxK606a5SA2fjUpP7n+rTXTye+klT3U80w2m62uP7b13l5QfjNISt5ZIK18KlK1LUow0yM5uCWzX6Ss+ROkCL0+UfAPo3voNlu2W68pFG9WN56m61dtZvsppaWl8ZrGEEp1snozYMcbXqshj+rVmH4GWch5HLPTuEm1LhxeNkEK05ejfz9p7mbK14GdEjnxdjeGdlVnine8ayV7sbn8u1IW2QJZN5zQ16rrU35sykSt47YblNvbIN0qHMiRlkSHG+yLuObg2frNpq2CaNesbBKatpH6yzqlO8/Z+kLn7aI2ylrXRJnM1G/e7Ox5jsKe9yVynHW/j5SW7NQdd0ceVkHbJB2YIG3Vb0pN4eTmNdJggz6IehsrLRG6pzuv6vwVE6RWunNtQrt4aaOd9rk6/CDtmmBVP4TMRBmoba11/XK9LflF2vW8ldyorVSOUf0cZjwm2rCtGVSvXhtE3520f/VQdu61ofrgXL07XA/2J32yJgsrOZkEV/N9VdhDs3Nr0hHr4GrbWLWxPKSwGdXtlKt9msMrEo3ypuDfI9GJukzBTTtYvGqCcp7N5vJqcCTXqr6MeV09uX6h1D/Ayq4FDFJsjHbOzp227YZW/qovcjXw/8QfSpyBf5z+Vv687bbb5M+fT/2P/MlcL5zGtkkBiCuegl3rEm33TDNQify1EYjYdCeSN7+LXlZLBt/U6j/y59mzyvj///1XTc+6xF432rA7MRTIdnhAzqpG6LVc2VdxnHiK9etFZZW5RjUNsau+duM/uDa8qN7R8kS4mlaxj5Wcy9+TPJx/teYZxB5NVUvmm5dfvSGGgv9b/FNzOtyVWdXvap1XqnNTwzADr2HX7H5oYtjb6icUZyVj8ktJyGk6BVvTEg3DPJ1CVy5O6VOV7Oh8MRRP+bdOqJJhjfXXhPObEStGYPR4F9SBhq++jnsq3e7IQv8bR/J2ob44q2u108lq+dmtC7XUDS199n7rVPq/F0/dJwEJWVjZ/U9V6ZH5+TT2vT8WcWuz4TsiHTnPm4/0MeBynnR65qx9rrLpJvlydMxp6r7s6q0NrXU6naA4GdG9MxCbQf2WpmqcXeop30St7GGNOKEjVlSlx5nztXIzS7uLfZraysEpO6JxNAlBQ6ej3ewibIzy0BtCK5xKj07vreXtG+T8gM26wtQh/GdxMS5f/i+aNWuG3/3ud+wQXo9Qgxv76FAUj87CrjH2t8MQSzL3H7oc/vOpYTZZ2U04hP/9739x/vx5NGr0O9xY3kI94j42DiHDXOOUfzIWd489jiU70+0MbzyHbZPEtjz9sPLj99Hf6sFLg8XGIWSufy4i/dVbMaRkDQ6v0g0B18N6wThErHQfgV5fxeLwCjs6xDQQKpG19C5Er30MyZ+uQS93Zj3VA1eDQ2iagv+5QXEA//1vzZVlrjtuV8Y/n181AOO22tkHUEz0HjcdEEvqO1jmW9MTTW8YhjFSfkFZxKlSfYJqw6/HcVQsMtGuO4LYGWQaNOp+w9SRszdP0PKPXHnhixDDyqQMQ1w+h6y1A/D0e40x93l2Bhs62oI1QWNijfOUGRtMHcIbb7xR/qysVFZgYq5P/CPfxa75j6HxTY3tviFsHKYtqW8fTU80vWEYxohYwCgEmXh5+lhsO6FfEKMS5Sc2Y+bzYsK7mFQfi1bqEYZpmLREUFgokD0W4+ZtRv5FZSCWjOUi8tMSMHjqYkAsmhTl5qrXzPXLz9nY9XkbzPrbTsTW4WJrzFWMJRvJi8kRfLU3woZOR067RMwb5rgfy9gZMvrbb7+huOSM/P8tt9yCfxf/r/w/w1jze/9/4ccff5T/9/drgR+P1/61Nw8ZZa5HyvMWY3LiImwrsl4puDlaRU7EvIQJCKtxrksDg4cGNlAuImfdcxj3zmacEiv16WnaBv2fXIZZw8LhW4dzvRiGuUY5sRhhMQk4hZYIiZpAbWs8guxt6XWVcNXOIRT88MOPKK+owA033CA7hY0aseVljFy+fFl2BsUDhCbe3rj11ltQmv9f9SjDMGZYfj6Nk8e/lZflb+zTBq1ub+7U5H+GaXCIRXnOH0f+GbGNQ2M0+0sb+Deto0VIGIZhrhBXtUMoOHv2HC5VVspOoTd1+L282AwzChaLBRUVFbIzeGPjxrjttuZyPDuEDMMwDMMwDOMcV71DKN4AlZaWyU6h4MYbG6Nx4xvx+9//Xl59lGlYiNVExQIyYs7gpUuqTpAz6Ovrw2+QGYZhGIZhGOYaxKFDqKENH2UYPdowUYZhGIZhGIZhrk2ccggFYmjgzz//C5cuXcJ/fvuPvE8h07AQ+wyKrSXEaqI33fS/8lBihmEYhmEYhmGuXZx2CBmGYRiGYRiGYZjrC54IyDAMwzAMwzAM00AxfUPIK0UyDMMwDMNcPVwNKxEyDHN9wtaFYRiGYRiGYRimgcIOIcMwDMMwDMMwTAOFHUKGYRiGYRiGYZgGCjuEDMMwDMMwDMMwDRR2CBmGYRiGYRiGYRoo7BAyzDWE5eJx5BzKRNaJ07BcViMZhmEYhmEYxk3cdghzVjVCs3aN8PpRNYK59jm/GbFUps0mbUapGiVjL74++PU4dm1ajOR9x2FRo+xRmjZA1snYtHNqzJXmHLZNEvVkALadV6PcphI5ayMQ8lBb9BoRgeiYAMR9VD/5vPrkyjDOkI3Xhd1ql4QcNUajPC8ZK9clI+eiGnHVcxE5qYuxMjUb5WrM1Yi9fsFVJW8X2hSGYZiGAr8hZK5qSrPmIHZeAl4ePwfpF9TIBojl0Bw8vTQTpe2mYOOeH5C/Ix3j2zdXjzIM4zx5eHviSMxcPBJPv5+nxl3lFK7A068kYOYrA/B2oRp3zXB1yZvbFIZhGFuuvEOYN930iaLnOI1t46/Q2y2m1vjeF43BAS3RKjoaHZuqkQ2Qk0eTZf2NGzMVEbffDN+W4Qhqphy7khR/KN4eeuINKMPUF23w8NOR8PePRHxoGzXuKieA0hrWEv5hE/FwgBp3zVDf8nbc5nObwjAMY8sVdwhLzx1X/6srzqF4n/ovc+3RrB+WbCtC1ox+8FWjGiKWy8pwzZv/2Fj+vFoo/X67+h/DXCs0RtCwnTi8cyfiAq+u+mQXr2DErSjC4RUTEOSlxl0z1Le8a2jzuU1hGIaxgYeMMgzDMAzDMAzDNFBqdgh/Po5dq0Yiuv8daNYuAL1eScKuoovw+kOweoIJF7Kxbd1YxI5oi6B2jRDUPwLjV23HqV/V40T5UTHJfDFW7M6Wvx/+YLH8XYRNR/Uzzy+iOCsZM1+JQK/eYsI6pWHSWCTn1TQ7/TTSxfWWJ+Nj8bV4F/6mXn/lujQUy+dUU3poBV6eFIaOYhGC3mGIfXUFspyZX2Ah+di5JnBcSQMdO6XGVKOmLyXTOKzFCdlpFH+iu69aTrKMurdF9CuLHU7g1+c3qH9vvLyJ0tHoZjgchXjzzfCi8ji1LwnjhwZQWdyBsBEj8fq+4y4udOBCmf6cjU1CTi4sptDsD41N5KHobTWVOPWRkB+Vs73hjuczkSzu7cziAxfo3FcHVN1viKo/3jerx824fA5Zm6isHcmyOI3SuBhbv1K+VtUTvTx+Jl1KTcD40Ub9NSt/RWcWI91WWavutfKT02qEfZTrTMfGz8S3b/Hxe2q67F3bGfQy1HQi67R5uRvskit6WItyd+WeDmWp1n1Tm2FOOV1PyKbKDgvZHDJZ5McF+6HY4GTk/ExfVF0cUnX9BGw7XamcWCOqTTDcczNy7NjP8qLteJ3qflj3al11ZGuNtkrNj0hzLbCuB8VZyvdtJ+zkWbNDW23tkOvpq0T+h+J+DnRQ058qHXSgM2Z6mZaNUv0qxA7tqLpgjaYLVpQe3YyVVbpXrfeuLMhiane0NNkLhrrjTJvhZJtfQ5ti0E/TtqMat+uQK7aOYRimPpBMOH/0shL2vC8N9ockTvMNCJfCQim0a0nfW0phDwTL8S+/q54rhx+krSPCJV+KR9M2dH6sFPdUrBQW0Fy5Rp93pcPqufnz+8lxZqHX/O+U6+1YI/VX7+/fLlzqFTNBiu0RKvnL54XSvX/R3ds6ZEkv665pDInSrqrziqSNg0OVeP9Qm3vELivSXdMs/CBtjBHnhktLdlodS1koBcnXCZZmplgd+/hdqRcd8x2TpcY5Lzst7Bojrj1F2rh5oRTRtLqMQlSZod1CKd3qN+eP/iLtel69D5VjiChTCq3E7x+g34r4Hu9K+frfqGlF9BRp3AOUHjl91b8T9wqhfBTrf2MvuFqm2r2t02QSNJ0aPGKKFKaTR9gDbdT8Gq9/clm8fH5QQo7hOlo4PDuSjjeXxq11pGeXpeJ3E+X7aXmS7ynKrSl9thPx/aSVH1v9bs9OKVY+1lxqFTlBmjlhihQbJuqWlSzp2iLOJqjyyJo9SJWdKMt+UuxT8VIvuY5SXDvS889196Sg6Ix1vVWDdq8qnVSCJteqeklBu45ZML12TSFlmSJDktng0QsN8gij8tHrVjHVK6HvsuwesKonXUnnrfJsHdwpd5fvaUeWStBsk94O2Qu/UBnH6so4VoqN6afW8ebS4CU/qOe5bj+Ucu0nLVmr6iLZvyrdla8TL2381Pgb20D2b7BSTv49hB5T2T01SLELTWOlZMPvf5HSEyKVNPpHSrGinKvOHSSt3KM/V4Rq2+wbMEiKo2uPi4lUZGGi27bBvpxt6oFqq31HpJvaMU1nImbr2wP303dySazJ9apDeoJoX/U6aCcvn1LZybrQUur1lKg3C6W4SMXe+Ua/L53UznNoR7+TVvYQ17CyU5+mK/ZeXEvY0qgJUlyUZvObS/3n26bdnn0xjdfSZCeETC5QznO6zXCyzbcrC51+ijpkld8IKzskglt1yAVbZx0YhmHqCgcOYY40U+2w9p9RYDBSJ7e9q3ZmbQ1/8apEKW52lpSfp48vklb2EQbStnPtsIN6tEBaMmyhtHGn1ulRguiAy45L2BqbTo5NqMGhSE9QG3TRYdKnmZzh2NYibaG2zpxV0DrM/V+r7jCLcHhGuITQSLkjGTbD2HhqHYy4VbpOp5uykx3XJcaOitLA2/5G3Fdu8NpNkbbqG6q876Stz6uNobWsqhru5lLY6J3G9B2gRljWBROn1zS4WKY1lJ8+aOUgGtpxK4xlcXK9ev3WOif5MHV4RMOsj6sKRdKSMHEt286kIYgOmdxhCJXGrTLmKX9toupEWDuE2rUHSUt2GMvn8JxBVAYu1BPqLMVN2CkdPqCPJ6d/jKLX1h1Oh/XNBYdQCXY6ki6HX6StT4nrhEtzdxiP5a9Nl9IP6+J08n55vV7eP0jpE4QjR3U5Zmd1R9gsuFru7tzTQw5h8aoJVfV1Y4b+2A/SrvlU7oZzXbMfVfWFjonObnX6SX9GKw/87DksVWHnGilMXGPwTmNH9kCBtPFdo75oeQkhp8sgK82GWNX9wzMUx9y6/Tm/512pP5WHPeetOtiXs209oPZO2PumZBf1+iYH7aGfUc9rlb5P35cGi7SZtmFaWvTpNs+L3MZQfOwKKzu/bae0S18nHdpRe/WY6uXzE6QlVuWo5c9MVvbsi0O7ow/atcmhrq73Hm4z7ByvbhtJxnp7eoDKQ9gEKuvYZVY23uU65IKtMwkMwzB1hd0ho+WfJGOmWPkz6k3Mi24D/Tz2JgGDEN1F/WKFV+gUzIwKhW8jNUKmJXr1puYP57Dva1cWkWmDwQkTEOFvHHfn1W4QhoTSP1l5OFmboUM/p2HTwmyg6QSsnDoI/vo0394PM8dPgC+yMXPTdodDOXwDHwN1irCtQD+M5hzyczPh23Ei4npTUrM/NwwNPXViG/3th3Z/qZ5k767sYlekY+7DLdVvgpZ4uE88fZ5DTslZJUomD5uWr6B0BGPmtESE6cXaqDnC+gxBR/WrKQ+/hiVjIo3puykUTz8dS//kYcVHmU4MI6rjMiV6jV+Dl8OMWzI0CY5HfBT9c2IRdh5Sh/F4haP3k8EUtwlZJ5SoKoozsSuLyvaJcFCnwy75H05H8gUgaMIyvBxqzJPvA7GIbq9+0VGetRhz6dq9El7D4JbGRRb8+0xEfOtzeD0r27khWS1jMfOpSPjfpH6XaYyQyFhZJ9MLTlwDw5AuovR78RmMu2+XI6rwfSDcsIiGJu+IGRswLlgv75sR9NQykDOH0pTp2GRdnnpcLHeP3NMtjmPj8sVUX0Pl+hphWBHxZipjKnf1m8Bd+xE2LR0bhwWjifpd1p+HByOI/kv/x7eO9fDiOZC4ENaqtaGNwE1tENFOXwfVvLROxKzR4bp7EZoNyaLy0Mb1kW1euTwN6PEaZlm1P7h9EOKp/ErX7sZhV8YtOiQYvajMcSEZn31lNczv52zsS6HPqCF4WBtTX9v03RyJ6KfoM2tbdZ41TmRiK+lS0JORDm2PoPRCJv2lOuJvtCNNAui3tV6FuDHCRizEYEM5EtQ2DqE2DRfSkF/z6HIXOI1tyydh24VQvPyyfvGcum8zqtvGSCxJmoIQvT29KRhxk9cggupQ8vJk5KvRepyvQ87bOoZhmPrEjkNYifwjK+T/4qjTYWi8XeVyJcp/Po2TJcoY/PxfnZ2XYo7lZzKop0/gn/K3s6gwmRvjLJaCDCTTp+8T/RH2ByVOj1dofzwjOmGpB5HvqOPhH4yI1vS5M7u6sbAcx+EPgejAUPi36gd8dBBHqxqtPBzedw4Ifcxxo+2k7Jp5267c1uRPt8mfWRd084yK85AuOq2h8egl0usq1NG0vRPdq0139KLP0sLTcGf3AU+WqcwNN6r/6KHOe0cqBysnOah7PDX0ts5saeFupFOjHd9V9DjscRr51BkRHbLY7g7m1BqgunVIdDz6obfpPoK3kb7Qx+fUyVEiXETozDmcOq321C5edM6xvKI0R6v7hJzJUV6yGfnm03UITd79EB2mfwCi0RIRfUQZk56TLjrC+XL33D1dpjgbu8RDudBY9+qrk/ajyU1/Uv/TQfZDdja/P+f4gQLZvliykVnLx+L1Q+fs65qaF9+HydE26fQ2ad4SvsgkB0NJq2ybyQnvRef7yjFGmt0uBCLOV757Av+Og+VO/6bPjQ9jynN3y+3E4K7Vjmzt09cYHcOm0G/TsCvXeFL+4U3UjgQj+q8125RWreNluc1dmISs87VrW53i14so//646oDlwfJvOdYjFH+YgLgPzyEkYRnG1bAaqcfbDK1t7DGEHE8lyoD/Y4juQZ8ndiPfZhKnK3XIWVvHMAxTv9hxCLWnWP3Q7s+ODbMpFup0p6mLDAT/EXd3DkDEq6JJdY/y08qCCmICtn/nWxHUtzdeV9aiqRXlF5WGuKO/WUdP0BL+8hue0yh1aLiD0fFh6txfyMBJrbH4Ohtb1TeA/q06IQjbUKC1+9+fwGHxBDgs2PCEX8bDsjOgPs1Huza2960Nt98J4cMg+5zhLagj6qpMHeHfQtkDy+Ak+/fH4ChyBFIzdE/zSU77tgOtByPMYUec8iunORR3Oy1QrW59ib+9EoHo0dZhKFaIBWROVDrvyF2+iFNZ2sIWQmfuQNhY6iCqh68FgoZtwMZh4SjeNBQRD1H6X0rCtqPWi6Zo8m4PfzsPUnzvUF7JGsrYDKfL3YP3dBWtvrZ3ob7Wpf0w4+ZIzFyxDL3+kIa5I+6Af2+xQFUaiq3f2Gh52TvdROcpLNkkn3ZedVo125y/cajp+XHvfE5HPeuQwD8cvcTbXoNOXMThz8TD0Xj0eqD6DZUn0ud1X3cMJmc6/aNM3UIxecj6MM8J26PQpOtCbJrcD40/Ibk+8kd0jPf84iSW89nYpi1a89dbcfejIXh5q3rQU3y/GTOnUt0LW4OVw8wd4TptMzT9bHWnqYMvHDn5QR053477AjXjnK1jGIapX2peZdQw/KhmLEeTEB15B3otzCDjPhUrd3yHk4cv4/y7ieoZrnAau14JwN1k+FdebIkh43Nw+MAvOH/0O6wUT+uuIoLaiWFZmUgvVAx7/lfbUKq9AWwdit5Nz2HnV+JNAzVspw5iFzUwve8zNnyelZ0DblA/rwhXW5nejIjICeTMJ2HX52pLfz4TOz+iMn0sXB7yUzNmbyRrojXakX5EmITeAxZi5oRgOx0TK77fjvF9b0VY/GKcvz0WM1OKcPJz0pmP35Xf2l47tEREQjqydu7E3JhgWNKmI27oHQgaMR1ZdfIU3RPlfnVRb/bDCq/W8Uime+2an4j+v89D8rze6EiO6PhU25Uom7UJNdX5iLBYxE9YiIg7jA8g725tcq4IEfFURxairXEUYS1R3/bqh41qw0Wf6o8uhmHZCrVKn1c4HnmiOQzDRtXhomFP9HNSBxsjaPD7OJyRhZVjBsHrxAq8HE/2tfdIbHJ6lVh7VCJnbQRCHgnDjMNAxMh3kZXxA4qPXsauMeopHuE0Nr06lNrESCyZHGvy8OPa6Qc4R33bOoZhmJqx6xB6ycN6vsX5n+SvznExDTPHkVG7PRG7dqRjyVODENayOZq4OS4+f8MwxKZeQv85RTj82kIMfjgY/je58cbSHo2UaxVf0M+z03MW5+WGujG8anCMvdp2h5hJt+u46AQpw8yq3wAGI6Q35YfixOVOFYgnzoMRco98UMHDsjOF8iA7GWUXPTuv7PtvlW01QpvX6MTUeZk6oPiMMocqrKlxqKZX+8cwrimQvC9Tlkt5QQZ1TpwZskXplud1ncVFF+awKHWrMTr2mIC4p+wF4/wwc/Kw8sUB2PTrIKzcU4TkCWJoYUs0MRn+fK3QxD8SsdN24vDh77BxdDhwiJycKcnqG5Sa5V3+k1KXfdW67Qjnyt2z93QJV+prfdgPRzRqjpDIKVi5jZzQlDUY7E+d/FcisFibr6vmJf/2x0x0vToMbqd6UKosve7rZ3qeFkyH99UC39AhZJmrh43KQ0PRHOPCQo3zBD2UvpCuE8nxqx42Wly4G/nkGEV3tDdqxQ5NQ9F/NDlsH/+A9NnkVBUnY/wzc5Dl9DADW8o/ScDTSzPhPyYLWWvXIC4yHK2aiq2HPEvx1rEYnwX0mrOM9EaN1FEvbUaNde0iLpaJT2o7augLOItjW8cwDFO/2HEIm8O/tegU5SHrhDbO0QmK85R5FU8MMk7KdotzOPWVGA8Si2f6uNg4Oolv6+6IoM/8bMVRs4HyIy86EdodQXKn0AE3BVMHnz53ZuPkzyfomuR4BChDFEWnMqhDPJC9GznnT+OkmBcUQ9fUt6welZ0d/IMh1gJARg1zIl2k/LjoSANBoSZDYA3UfZna5yLyD2+nz2BEBFrdW1tkJHU3si5exOHsZCpzZ+ZZtkTb7uJzGw4fd/ZpfHMEdYykz+347HgtHwefP4HDQpeix6C/1QIFNXFJv0eZiqXC3oORK4BXc0SMWYNZD9P/WdqiEW0QEiWceXvyrpTfzAuiA7W65wCnyr2W9/xN/dTz60Xn5toGhCJafKbsxuGa5kjVh/1wkiatY7EkcQr9p1vIhvIihkfiE908awdotnnX4S89+/CqJm4OR4Q8lFiks5I665vI2YpFl/uMDojH0tc6HNGkb+lZYtGx08jal0kNR3+EuevoNroZQVFrsHI0/W+26AvVe1st/sn0YcepE8pc52f6hNZuHQFHnFiMuFlicZ53MdO0TainNkPTT3ttoyUPhzPEP4MREiDHeA5TW8cwDFO/2H1DGNSRDB99pi9dgSzrzsj327FV3pDaisuX5I/iH6w7uheRtX+3+r8RbYP78z9Z/4auJXdaz+G81SHL6d34OFf9UhN/UDdbLz5r2wnz74+nY8SQnemYm2bdcp7GtlXTkU4d+NjB/Z14W9McIaFilbpc5O87iGTEI6xtdSeiSctghJETcDT3c8VZbNPa2Mi6ITuXuSkUD4v8XkjCyp3W+SWH6aONOKx+M+VnkqG1LvychiVzxBylSOPCKr/mYdOrI/Fyap5u2JiHyrQGys+ftRmqVp41B5NT6Z8wc0dPWWQkGemfpSErhU7rEe5Emd+Mjl3Eog7n8Pq6TTYPFcoLN2GrSZ78u42RF+LYNOc5bJPnE7qJ5tSdt174oxKnsnaZlqXv7WIBFGCfOny5iu83Y9wrykJSztNY3Xjf3kiCi8hZNxKxizebboxeDTlV2ZnGjbRVKuXf3YybZSenMZXLRLJLJO+li5FjdU3L0cWYu/Yc0G4hokOde4NQc7m7ec+mLZUhu9YO0GWyK3NGyIuU1IhXKHqPEXVqBZZsMNlE+/vj1XKtD/thxvlspJts2m2pVNwO/5vVN37C+X46lByABExe5cQKupptTn0Ok21sc11yM8IejicbuZz65nnIST0H36ju6Gj9Wsxj6aN2oQ+V8UdbkXX0c3IMgQinbI9C6dE0k03wK1EpC/hONPOWI4Bm6jzvfRlWC5lQHV1Fdlr4XNbIDzOoblfI36q5mImPzdp/l8nDylcTkNN0EFZOGGQnz260GY7afHto+klt49x11vpZSXZsOl6/AIQkDEZYrV6ROmvrCNM2lGEYpm6wP4ewdTxmjREGcjGiYwbg9TTqMB1Kwzbq4EUPfQ5HqSGzoWUnuaObv3gsGbE05BzNRta+FRg/IhBxp26Wn6hac/c9kfJQjeQ107EpK5PusR3pR4Xlb4lW7cVqXMmYPD0Juw5l0/Xo/qsGIKxvMioCTe5vxk2tESTW3z+xCPPWbqfrZyI9TZvET2kauRax7c5h20thGLJ0M9LpeFbWZrw+6RF5xTP/qDcR19W5iSr+gY8hiJy+5E3iiWcntNM/qVdXIt26cBLlyOQtlRuycx26Tuxr6E/3SZ8VhuhZK0iulN99yZg5KQQRey867Ij4nlqEiJjeeHmdIqf0tCTEDuqNlReao/9843Cf4rQEjE9JRvIrCdha5Sl5qEwd0hwn3wkhv28sVmo6S9ePiF+MUtHxmGY2R4VQFxnZNHUoVrowZKtJ1wmY1Uc8VBiJXiNGysMPhQ5vWkz3HLQNF83e3N0cifGz4xFyYTPihkZg/CbSyxPUuT+aiV2bxmJI797Y5My4odtbo2M7+qROabzQbdKZHFl32yJs+0W0M3F8/e97TNal/MX/h9hVohy1Or0cNz89xXzeoTa0+ngm8s/r3y/cjLvbiredeVixXJSnUneq5kMdXYFei5Oxa91QxG21ckD1nFiBmaMjENRX2JlMnLogVhDMxKaFIzGXOqohz/evnk9FdmneZLIZR6ej1yhN3kJuIzF43HTqXIbj5RfjnZ8D6Ey5u3PP2/+KCNnuJCB2UhK2kW1LT1uM8aPD8LebJmKceBtQI40RMmwZXqYyzlkehgj1Otq9o4e2xbgUVa71Yj+suYj0twZgSP9AxZacOC2vapq/bzHi5iwmp3gQoh+olmdQzDLM7dpczkuYnJdsnDqdp9jbl9qi42L9iq9G26zYqjw6X8mXmCc3ZGtNjhjpLckEyMXhrONOv8lr8tf+GCfmfC9KwN/Itj3TLdxkmKQn0qcQ1FU8lNiOvy1Yjl1iNdtQJ9+EXUzD3HG9yXYqNiT/e7ECaJ5c38avI3vdZwjCquxPMLqMIDslbO8kVYdVu/90QX/MFFPgrWjVVjzsysPMV8dS2yxstap3/Yei4E+i3tvi1Ujcg6r+V+So2j4n0EGO0dqxytZWf7kRxR8txsp1ViFVPARxo81w2ObbR6+f/V9R20ay5cmzeuPp5dnwfSARs6Jr2Ua5YOvM21CGYZg6Qt2P0ED1Rqg/SLsm9JOoA61uvkrBv580c+13VRsvW280W5yyTOrlrzu/abgUN79AOnk0R3pZbDhrs1HzL9Ku58OVDWG1MCJdPVYkbRxmPObfY6G0NeOylP/aIPru5IbYe96XyFmpvj4ipSU7dccP5EhLoq3SQOkePFu/0awzIUvJI/0+KCHH5viuMWKDaHFt8w2pXZWdO5uMi1C8410p7gE1LXJoLoUNe1fKOqBuaG9nY/r+rxVJWfMnSBEmabTegPnkCnWT36bx0kbDpukulqnLG9MPkpJ3Fkgrn4o06K3vAxOklVabwFsHsXG2fL7pZtEOwud0P6s8yffb9oN0WE6TuZ6e3EblENay6jdyaNpG6j/mfSoL47l2y3rPTquybCn1mpAu5ed9JyX3oe8mcju8bIIUpuqpHKhOz938A9WDnVKs+G6tM1Ubs0MKm2G9UXmRlBxlzEPVRszid5quVNVp85D/7hpbWch5yTKtg4dXJBrrCgX/HonSxj2259YUnC13l+9pVjaThU3RNjo3twM2QeiXlT6La0U8Jeps9Xmu2g9tU+1e8602HhfB2XpHNmPjhEFSK70+UbBb30gvt5qc7x8WL80V7Yr1+QfM8t5cahWZKCVT/bI53yqkJ4Sqv5lg2ETd8Ubpv0hbR6jl1nqhlG5zXBdqmT4lFElL5I3PKUS9b6fNMd+Y/uTOndLMyDbGtkuz55/rf0/h8xxpbg99HRPnvS8dzhNyEpuo225Mnz7Z2P5rdu385kT5njbyS1mobBZPIW5VdfnbylvLj4NQpXtu9AMctfmOdDuP7jXGqs8j6u2YnbKcDOdScKcOOWvrzNpQhmGYuuL/iT9kkAyU5v9X/U/FchHl6vLZjW9yZlK52P9KeZPQ+A90vjOTsMX+RvIwisZoYj1h3NExp6lOE35/s/liCy7nsy5wQ3ZuIvZyku/UiOTh0kIkujQ6kJN8fXuy9kiZ1kBVeTp5j6NJCBo6He1mF2FjlJNP6fW4maeqciDcLfOqa9iTtzWu6rp2vh1dqc6Ddd4rkbX4j4jzzkH+CCeerlfJ0DlZuK/DOlwsd9fu6YTdcRaxr6C2l6Dda9Wf/TCiy6cz+q/PizPn6/TV1bLWyqtObXot0ucR9PevQc9crjNV13bSrml1uLb6bo3L9rUWdU+nn3VWj5ywdXJZ6dLuG1TzwvAMwzDu4JxDyDDXPeS4LL0L0WsfQ/Kna9DLuVHCTE18L4bFToL/vG/w8gPOdOLqGy53hmGuDdghZBimrmDrwjCEtjhI0JhYRLBT4BHKizbj5ReHIqfHWsRflc4glzvDMAzDMAy/IWQaLpZsJC/PxvlfM7AtJQ3F7RKxa/UUhNT3cK/rlPx1EViCRCx5qg6XrXcHLneGYa5B+A0hwzB1BTuETMPlxGKExSTgFFoiJGoC5iXEI+gK7+HG1ANc7gzDXIOwQ8gwTF3BDiHDMAzDMMxVDjuEDMPUFWxdGIZhGIZhGIZhGiimbwgZhmEYhmEYhmGY6x9+Q8gwDMMwDMMwDNNAYYeQYRiGYRiGYRimgcIOIcMwDMMwDMMwTAOFHUKGYRiGYRiGYZgGCjuEDMMwDMMwDMMwDRR2CBmGYRiGYRiGYRoo7BAyDMMwDMMwDMM0UNghZBiGYRiGYRiGaaCwQ8gwDMMwDMMwDNNAYYeQYRiGYRiGYRimgcIOIcMwDMMwDMMwTAOFHUKGYRiGYRiGYZgGCjuEDMMwDMMwDMMwDRR2CBmGYRiGYRiGYRoo7BAyDMMwDMMwDMM0UNghZBiGYRiGYRiGaaCwQ8gwDMMwDMMwDNNAYYeQYRiGYRiGYRimgcIOIcMwDMMwDMMwTAOFHUKGYRiGYRiGYZgGCjuEDMMwDMMwDMMwDRR2CBmGYRiGYRiGYRoo7BAyDMMwDMMwDMM0UNghZBiGYRiGYRiGaaCwQ8gwDMMwDMMwDNNAYYeQYRiGYRiGYRimgcIOIcMwDMMwDMMwTAOFHUKGYRiGYRiGYZgGCjuEDMMwDMMwDMMwDZT/JxHq/9cNv/32G37++V+4dOkS/vPbf3D58n/VI0xDoVGj3+F/bvgf3Hjjjbjppv/FDTfcoB5hGIZhGHO4/3B9wn0ChnHMdecQ/vDDjyivqFC/MYxCE29v3HrrLeo3hmEYhjHC/YeGA/cJGMbIdeMQXr58GaWlZbhUWSl/v/HGxmjc+Eb8/ve/x+9+xyNjGxr//e9/8e9//xuVlZdw6ZKqE40bw9fXB40aNZK/MwzDMAz3H65/uE/AMI65bhzCs2fPycZcDAPw9vaGl5eXeoRp6FgsFlRUVMhDgUQDcNttzdUjDMMwTEOH+w8NC+4TMIwt18WjLzHMQzPmt9xyCxtzxoDQB6EXQj+Engh9YRiGYRjuPzQ8uE/AMLZc8w6heMKjjfkXT/b41T9jhtALoR8CoS9CbxjmquQ3C0qOZeNAdi6KfrSokQzDeBruPzRcuE/AMEauvEN4NgWj/vwX+MWnoEyNUsjFMhH/5yQcUWPMEKuBCcSYf36yxzhC6IfQE4GmNwzjDEeWClv0FyzLUyPqijMfIOHhNugUOQQDBw5AeI9FDu3flcU5G321YPnmA6xftRZp31wDTnZekqxvfktz1Yjrm4rDG7B61QYccfFFTW3rJfcfGjbcJ2CYapxzCH+rQMHeJCQMfBDt5Q7AX9C+xwBMW5eNsiv8UEUsDS0QE8AZpiY0PdH0hmGuHkqwZeo4bPnWC1HzPkRu/idIXRmDtupRpjaUIePNcZiWlIRRb+61evjIXFlysT5uBhKTZmDk5vp1gLn/wHCfgGEUanYIz+xF4tAHETlqLbYUAXd3CURnCnejEOtnDEH7AZORcUY99wog9gkSiNXAmBqwfInkJ+/H3T2ex0fn1DgPcSH9eXS/534M/9uXqKvn72d2Po+pO82V7cyeBLvH9Gh6oumNXQ4rT+jr/I2QU2RjQb2+Lajv+zEyZXk4sJ8+u0zBi4MC4ePthw4dA8DvLTyBD0IefRwBd/pg4KOh9K2hUILUUVSXbUbgXE0EIvzZ9vC7sz2epb6FgTq2w9x/uJaxIG/FU1j5lXmPw+N9Aoa5znHsEP6Si2XPxWF1NtD9xY3I/fwLbHn3QyV8dBy5W8age2NvNPmTev4VQNs09ppaGvqrBbj7njZkyNTvxIWdo23iPM6JjzDvCzKe//wYH+RcUCM9wQVkf/gxzpCBzl7wEY6psZ7EQjKbOPFTVF5WIwxYYKmoQObE3phYQwOg6UlNmw2XfV+k/ncVcLYE9Zqa+r4fo/BbpfIwxdsLyiAmxpP49HwdmZ98gYU9G447KN6MluxV/71q8ULbEe/j4CfvY1Q74+OPurbD10v/Aee24jmKu3vFl2qEB9GurQvP7fRk/8E9xAPiMW9QOn4zcwg93ydgmOsdB1bQggPLh2BBHtBh4kasHhMKnxvUQyo+oROxfssUdPijGsFc3bTugckPUoN7XzT+L6SpGukJmiK0zyNoQQ1712m9ca8aa8o/d2LWC72R7Irj+91WTIl/G3hhHZL6tlAj9XjhrpilWP5CC3w4NxEffqdGMwzDMAxzXaE8IP4CoYveQlwHZWEYI9wnYBhXse8Q/rgXqcst5PUNQ8Lo9i4OW6pAyf4NSEzog6iuYs7h/YiKH4f1h3nmxhXF637EvvMlTqa8iq4e3nanacRSZHz9JdYMu9exrlw8ho17vlHehDjFBXy4YBo+vONZzHjmfgfX9kLw8OmIa/opJi7YipoHiphTkScWN1iEtz7Ilr/nbF0kfxdhS56yGl0VFYVIWxqHgT3akI63QfjAOCzbW0ja7zxl2WsxLb4HOokhml17YNS0tcj4Vr1CRS62iHuvTUGO+H7knaq0rE7J1d3HlfpWggzx+/QS+VtZ9nIkRN0Pv5AHsTrb2fuZU5aXgtXThljJo8jJsnaQrqMipgJHUkRaNuCISUK0crMuIyVe/c1vZTiwbhyGy+kTMpqBVJcWGPGDvO5EWTbWTxuA8JDqMjvgwLRVfP0BllHZ2D9fzduGPSQF4vQevK3KPeNb+YQqzPTF3r1L0sU19irXpDSvThC/o3JZaxwKrL9m+x59kLD0AxTVVNhO4kp6ZQx1StHjBaoslKDmR8OF8+3piEFO6vXkekS6NzBhuf2FTlR9GiX0VNX3RMO9zXXVSAWKdPPzO0WpNsSriYO5o87Ud7U+LVqDfeKrTqesZehuvbWQXsvXU+usgW/2qsdM3vB9qxxbn12dXqUMqvXdJTuMUPiJl76ulB3jPM2j8ebXx3FShE9eRQ81+oohpr688jZK+r6Kl3ubPSDWcL9PUPIZ1cmEJBxwtyPBMNcgdh3CitwMbKFPnyf7orMr3uA3GzC26/3oNHwG0k4Bvl2GYXgvX5Tu+gDTBgzBsjxXOmBMQ8fyxUrM3eOF2Beexb016eEfH8SIF3qj6Z5E/F0MjXUDS3EmEpOWU0dG+X3GhuXydxEyiquvaTm2HMO798GoRftx/pZuGDW6G5r9uB8LRvVBt2eWo+AX9UQHFKzrg54Dk7D7x3sRNWUMpj9+LyzUEA3vOgSrj9G9filChrg3deDlrtP+D6rSkrhf7bC5XN/KUCh+f+wMSnbE0v0X4QA5Op1bUKfqJifuZ4bI98A2aB81GW8dos7afTEYFRMA6unK8pi0w6TDaIODdN0mjluoEyzSkokSE9lq5aYvI4ESvwenCveSPKiT+PYxWHwD0PkeC47sItk98RIynO40euN8Whw6hQzBqgILmrUOROc/lSJtQxIGRsYi1abzYEHB2gHo1oOclENe6DyIyrhnC5zaY32+mrfl+1Egvh7bj2Wq3At/kk8gqIM/owfak76sLwTaDqNyDiQdEvcO6YFpJp3yUtLRxKQjKD2TgrGRQ5B4CPDv4oeQ2/zUM6qvubuoBSJJBwc+4IUDi8Yh/MkkHHFCh+3jenoh0inq1Dtn4NdzCpYtfQ4doMpi015kfLafQgnK1dNdPd+ejmhyOnVUqdNi3lFjv0B0+CM5fOSoR8VSfVbPrUJMpxD6NGM/8MBzdO8piLzzDLaLe69JUe9diHK7lUZQgrSEhxCum5/v/7/fYDPVmUdn71HPscLp+q7Wp6V7lRVgdTol64SIq2W99brNC8Xieuv2GxxMQUFmknKvRXttZFf21Xt0bC0qGlcP3VXKoFrfnbXDCl4oL3Sh7JhrmjM752PJifsxfgy19WqcXdzpE1j2Y91QqpMpazHwnf322z2Gud6Q7JDzRkuphX9LaerH5WqMs5ySNs9+U9p32vi7ytw5Ul+6Xosn35GK1TiZ79+TRor4uPekUjVK4Yi0VMT7z5Fy1BgzvvnHaTn8eqlSCXmvSz3od6+kl1fHGUK5tG8WXbfH61JOVVypdHLvSumlURHSX+V7tpa6/t8oadGHhdJPht9WSgcW0fH286Wcn89I+94cJfXpop4f/7p04HvjuUoolfI/nC2N/7+O0v3atSPuk2W76PPq84r/PpziBkrvFZUr5/dRzvnr0KnSe4X28uJcUK4t7q2F4dJ7p83PdS1/n0uLDNelsOhzq3PsnGcdRm2Uim1+VyqljqdjhrKqKeRKb/ag34x/XzpveryySmccoen/0lw1Qs8Pe6SpHcTxR6Slh/R6TmX3VrT8u+Cpe+ibAyozpdki30PWUI3R8Z9SKevTAqlS/SpDdUeW0RtH1Ag9LtY3rV71fUTq2+FpafMJk1Q6vJ8ZlVLWmy9Jm3ONNVgqeU96TsipwytSliFDZtSUrlJpexwd939a2v69GqWjNPVpOc0jU41p0OKFDj+55oiuTCqlnNceko89+Z5RQmZo+tDioWdt0la89WkpWBybtMNQ5pWfviLH952fadSF8oPS0r50vtO2UJLy1zwi3z943HtS8X/USEHJDmnqoyJtj0irCtU4FSXNJM++raXnNhXY6GPxJqGr4tgpo76p5RY8/6Ax3gb7Ntr19JZLuyeJ+GhpXZEaJVMsbR/X2kSHXD3fvo5UlS2laeoefYnQtWSday3NP2i8WP5bQndaS7MzDSVO1xL5jpY2OzYvMtUyekc69S81UlBeIG1/RTlmWwc91b4Kaltvq+vkbsMlKI1DWkpPPBlN+t/bShbU/k4VvzFe2569dWiHCXfKTo9N/6H0Q+klut7/rS/8/+3dCUBU1f4H8K+iIC5YCCoJqIkbYCH6VPSpiLnlWm6kmbZpmcsry8r02WJWFi1mpWapWeaS/9zXJNQQ9SlYAm6YihoKiIEaDIjzP+feOzAMMzDDIiDfT4135s7lzrn7+d2z3DzXDOPXqeX9xXwn67clGsaVff7hn7M/6J8S455aFae/FvOTPuRFLS1dH9H/d23+dBT5ZfidtRfNfy9fctkWT9aPfkgch0oaHtI/9dpXFpZP5E/CPs3J75i+8v9O4df3/C9b8wSn9cvk+Vn8/uClea7ORHe1QltSN6hnrn52QbwQPOsFBDXJ+3cObUcguKt4E3YEpwutRlMMjZqhrRhcvHZd/ZzPdSTL+uQt3VFfHQH8vhBBz85TqjKqN+11OHNwFz55YSjeDzWT2OQD+GTyQxg7bxeizssRYvrNn2Hk9JUm1RLSEDFvFPq9sBRrDyZDbYYtpj1laQVcR+TScRgjp/9dnebi3pWYNqbkewUtkNXLV8quH0TEOsD7kW4Ft0vMwxudHnEH1u1BpKVdoJii/28ulicBQe9/icn/Mt7PneA74X18GAgkrZiLVQX1rpOSqN5V9/aCobxGUc1V6cXX+kL5Ih5vURfg+/6nCG5p6/FtjgO6vPA+gtuadNbhPhjBj4phUhhizqijClWi6crVZc4mLH/GX2whAwe066c+0iE0zvoqzJM/+ipf2jwenYbn5A665jtszaniGYdVISuQ5P0MZk0NNPpdwSkAY5/vI7bNGoSbVAk1K20HVr0Tp1Tf/3zOCHgYt+V2H4RZM8bAVfzeO0s3ijOOqTjE+36Kdx/zyZsGMc9FIZFA/7fw38dMejJ1H4EJz3og6YvtOFyU2+NFSW9aBMLXiGGfEQhqpo5SeWDIqDHygMK2fUZLZ+v0Vhi7fBPm9DE+Gj0Q9OggMdQh8pxxGVgM9q+Xn8fg4UDjtSr2qUefQT/5GIVfYrRxFhjWEfrg3Vlj4GXcDt/JB0OGiJOIWSV5fS3uceuKdkqvoGE4fMJoR0mKRfg+Me/nJuERsa5Cf1fqG2jiECMLP/v7oIUtNY8KYf22K0SdRvBoBUQkW754JCWLE7uLO1zraCPKTf5BXDKPLsSkMa/gk3VaWs4fxbfThmLG9jvVCcxFbJohlm3OZuw5pe0T589g58p5GDlgQr62fMnbJ2DQE5/l5HcKdWIvNp4ARj/UDYbVXzhb8wReGPvTccQcO47147y0cUR3PwsBoQ4ZGdrbEiB7e0o6cwbxyqc0pBWrKlIh6riivguwM95wao3Ft4NbY+waw5XtIi4eFufzZu651Q3sXDF85iJsO3BUrScvXkc2zMJAF504ye/VTsTGjmJPqDtGh6zDETn9H5vxbl8xeu9ORBmd8HQHP8O0b87AfegsrM+Z91Ec+XqUNoWpWPyw4jh8XlqG/X/IaQ9i2zvd4JK8Fz/stTZHnZ/LgEU5y7U/pJs2tiDWLR/gh+e1+Z46+SNe1MbmZzTdmieVMS+uMfyd9vpsaP7qH39G4Qcx6N7G+nBQatZcLuNmxP6pfi5ZcYgOkxmMQDwSaO5i4YWej8rM3AWRETLTfsbAzQft5Z2LRXPxzoYYpJXg8zytO97G4JGH8mYqS9RN8bsX47S2aBegszqwKJ10OTnV1d4ZuddVDcYvJpoJpMxzNOlYS+WDdg/JYSROX9AW9FwEtkWJLHO/vmhnJuPr5OYlstMxiLaisZ7u9/1YLoZK9X0zHXg5dB2MJ2Wefs0RHDOznoMH98kbDArKPEU+vV+fHmYfwdDAXUZZNgTyRoqU3pupajVGsX7z9bCqrfPEm0YLZ+v0VmhQN/+Gcqqn3jYMTzLeTjroLN3ssVMH0f8U/NuGdYQJIxHkrIwqshK9vtp43Ho82Fe5qfJzVG4ArDtxBOsxAv7+zdCmD7Dtf0btj2MjsFXsd126+pvd74rK+m1XmPpwbykGJ89o1/007HmrNVrM2yu2upSMJHkTp0uz3BvK5Sb/IALZlesQ88BzWL5Hnf7IJjUdm9bsNAk2S8fFda9g2gYd2o6ZI9KsXdv/2IXlL/kp+Zj3Vh/U1qMUi41fifXTagAW7NSWT0z79QR57mmG1zYcx4IBeXMFyXFR4q86wt/GG4Y25wmqOYhrRgnesSCqACwEhA6ooV1l/75h20XVIO1MGJbPHK008PZq4wf/oOfx+T7ty1LlDvf2YpCUBOVm0KXjiDwhTpTbD2onRBHsijO0fyOjxsi+T+LdMd3Q7N7cE0CdVr0RKOdj9orogIEhCzF7gLd6l8qhGXr0kicc8Rs5Z/80HNi+Eskuo/Du7FHwzpm3A+qYuXgZ9J63WZwQO8JFmcQJzUY8jzHinBhx+LiZC0tpsWb5Sl/yBZkb7QgvGzvAcRCZ2QAxjLlQGokVmS9lP/bS2rbl5+qpBooFZ0R8MH7BVxgfcAHLpwyET6eOmDx/DY4Y30y3Qdkdb7l0CZFYb+jgw9sPPl0GYuaP2pd3ufpN5R4nstAp2ja/dgHhcrh5NoIfH5j/NVcWb1kXtKSlqCUc7RvnKUs24gGPDnJ4AUlm2kOaC2IN84xe+pTZ9E3+WnY8Y0sgn6tI6ZU3SOR9n0MxMBQsGFw4IdPigDaeRiGErdOXKC/4jJHDSJw2KeHVxcUoHTL1s7jsKsM66teqmUip7UryeC/WcesdgIfFak4S20FdIrFPRYl9WykB9IBXB7Eeth/Bae27Cyf2I1qW3j1YXkteXODaRAzOJak3HCDyDyvF4Js9iFT2swzoZMDdxOiGcjnKP6DvHKz5aioCGqrT1GkxCo+PFu/D9yC21K/dZxCx5SjQaipmzxwq0qyNdnBHwIQP8aJYxORFIh3aaCT/iRiRN0Of0ejdWFsmMW33UU+it5hXZFz+BF+I3yv+9YZ7I/WztUo3T0B0d7BYZbS+u5rB2X+ygFIOs2RDeXFRCXoKi1K8EDxjE/YfO44L5w/i8/7aJKXKRb3Dl5imdCZw/eQBRD49CqPFCTFKVru8fFGcakR23MP4zlMazvwyD2880RWdc5610xXTLLTrl0FKYPuCereSxAVFVgcRuZbmBZy/TfmIC01eWoBblJxZkVmzfHeKWHnaXXerOYiLpva2XHPvg1mrDmL/8hkY66PD+pDXMKR9awSHhIk90lplfbxJOhz5YiACOg3D2/sdEPTCt/j18FHEnf8T66dpk1RSDXz8EdQ1MP+rxwg8N+MFBHnacHIoBc19zaRNvvqNwSyRPp879oxZH4x9+xn4Jq3AhyJYjlYCRR2SwubilZBIuD76FobIEvUctk5fkpwQ9Nz7StXQee+EIDxBPTenxa7AzJkrkNT2GUx4yMpg1M7WJ06W5PFeEsetD/xl9dJ9v+JIgvwcgyPbdDklgL7t+sA1aQeOKFFAGk5HRgCufdDOtkofd5SHp4hcTqSJtSOciMKevqPwVJd1OCqDFyTj4i9Ab0/j62P5yT+gZTORY8jLw7OjMtSVYC0U864jWd4F69PJTBMPd/h0kSk7g4uG5i8u7vCS2bAdm7Dnspa/0V3EnpVLsVO8db+3BK/iFSVPQFSGLAaEHq06K1VBosMiYEtIGL3kaYxfo8OQT/Zg/5dvIbiPDzzucNG7ckL/5Yw4peoQfXgzBnUZBf++e3EgWmSz/07CRXFCds+JB3WI+tK0nn5JECfHk9pbKoZkZNgaC5t9eH0JUvJ6iUi1ELWlXVXvLbtaFcg6wSPwGcxZLjJiB77F5AAgfP5TmLzGcL+9YOXheEv75VU8Oy8GntN+QNiqTzF+cAC8XJ2KVPJRUSWeVbvH93DWqjLZOSi7SbR7X4yfMM3iK7itFVWftBK+C0nqfpVfovh99Z2DmdJAs7TpHPxHmE2X4RUkS0tsVcT0OvzrWUwYARxZ9hr6tZWPU2gN/7ErcOWht7BGtkXUpjOwdfoS5T4YE6Z5IemXLxDcST6u4X749JuN8CbPYNW3Vjybt9B1ZF5JHu8lc9w6oE0H2VYvDMfixIn6XCRCY41KAL074xERxKrV52NweIUYPKrmLcorFw9ZZVENXC7+sQt1Rf6hT3sRtxwWUe11teSwmZshA8H8g61yj3k/DJwugtUTK/Fsdz81kH6gF55ddAZ4cKrIt1naE3XlL09AdBew3KmM9yCMlU2h9oVg2S8FlFfkueuUhLhIeeIfg3GPlurluEAubuoJPenycRzdMAABDzRDQK9uWBt+ENd1aYhFM7gYzufX92LjZ/IENApfa/Xu1dc+hMh6/UWmlezlVD0xEBeQcFntwUrXDuCAvNPYyPWuusOVeLXwMjD1whyLMxdtPPtfPqPcYcxbClxSfOA/Ql6oduBwjLl06XAscofy7pEHZIcL1nNwC8T0j95CP/E+9I9YK0oJy8fxdjp2o0hJgEhDQL62aiVPrHMzF/fUtCLWtS0RMTjyixz2QXsfLRPTsjOCZUT4S2Sxu7139emBIDGM3heZUy0vD5EJD5clMF17wNfKginDPLdFRNlQGm2doqY3esloTI5+Butj/0TcsaOIka/Y4/j1fZNOVzS2Tl+SlGAqxB2fhxv99rHjSml/FyvaBLo2bafecLW0jswq2eO9pI5bJ5/Oyjnr5z9ikBZ3BOEIhI88dUsO/ugyBggXy5l0Lg6yMu/YDrY+1/gOc2mG3kr1zWRxrU5Dd5F/aCuCwsSNexF7M02sM+/cG8rlPf8gju7I/XJ6d7iUemm/PRxaicGOA7nVQnOcQYx8qF+rtkY342Ox84eDcAnqhuEPantg42YYPvVDbFv6nJlSRu1mP47mljJaq1TzBER3B8sBITwQ/Oo0tBMnoOWvjcbn/zOTbUiLxOIJfpic87yiDC1AvIBEk7YsujPbsfuQ9qG0ubiLy9yfuLj3AHa07wQfEUm5tOmOgJWbsPawOHm3ckVONXzlBC+IINLQBkB37Qz2rPgAPylP5y4qFzRr6w6cWIhvNmi9GF6LxaY5QzFSXkAsyEjVqqoIOjH92vdmYq24fD7fvaPZi2jy3pkY26U1gp5diKjS7KynpNwjtw3ww4Z1iM15xpoF97fFaDE4cMLy+jIn9tgu8e8AeN+vfi4Kh5pqhutKvsDVAV0GyOed6fD5ByH5ntWmiwrBh1+ILdh2Gh7pWkC2RxeDcKMHM+e4pVMz6Pc65WbSDA+pTkwyybyX0vFm8fcsyJL/XJS1tPNKCcPuUO19sblCuT+ACITH5P2htP/NxcszC+nVsYTE/5V/m8WtmI13RA7I1biDEIcAPPycl9gZQzBzfmTOMV0kTQZj7BixL4XNxbx8z4a7gPWfzUWo2C/HjhtsfamYYZ5rXsUbVj0n0gZFSu8FERyJYKddOzQXwZyDk9j/5ctiYGfr9CVJ3vQRwZR3O3iJU3zOb9tSUucdiEdklVaxjpbtM9k7bl3AtvVh2gdjRTjea9VVOz85m4QryggjJXXcuslq0SJc/T0GW3/fKOLVzmiTsyqc0NzHB9gizne/y2DRB75e1oefls/DpcjFVYRPOiTGbsKBw73QVgY5rTph0Il1OLBFBhb3o77hOC9n+QdkpOF6TgYiGbFrXsGb68TcJvSGv5ndU3diKSb1bo3OA1/BTpMeQG3njU6DZJo/w1sf78VFw7VRVgP9bDo+EXFpW+Mew6N3YcnvLhj+2Lt47ZtdOCYD6Z2b8e7EAWhm4Th28Wor/j4WR63vSldha56AD6anyqiAgFDwfgGffzMC7ZJiMG9YR/SYMhuL12xE+I4VWDz3KfQIGoZ3fjHu5U02IpdVRXbgjVdCsC0iEkeiwrB+/mgx7QqkPWgmu1KthhronBUXjD8u5M04KXeP43AkLM62u9jOruKUfRHvz/oMdbv4qY2/G/uheytxAvr2YN5HTjT0Q8CDYrj9HQQ9oNb/b9NpAJ6dsyunIXxRefedqvbwNX0A2sjqEJ2GYtoKYPRM2WjavK+e7ahOq6RjqMis6dB26jJM7Ggus5GMiHXrEJEsLut7P8MBefM4n2RsmqrOT746T5N3C/diWnfDuHmIUie03e/zcubbouVj+ESO++yxnHGTNpupQCO3g7K+52FIJ8PfitfUdfmr29TpiICh4mQu78xqowoXiwM/i7P40O7wL0aRanOfQGX3W75gLlaFiSAkYiNCo7S90PsZzHnLH65RSzBk9PNYvkN+H4Fty/6Dsc8uwRFXH0yf/UwB1aJ0iF7xGoKDO6LzxLlYHxGHpLQkxEWswDuviYsQvDC9l782rdDMHz1kYlaEYN6aMPW3fpE99xXheLOGxd8zr/mDg8S6uoB3Zrwm1pVMg7ougns/j5h6RstRTL6d5eMKgFVvjMYry8R5SGyTVXNHo+/zkXh4xgh1olLlgN2zuynnwVXKNt+I5a8NxIiZkSKn8wy+nhqonss0vmM+wZyHHHAkZBh6yO0s1k3cGXGeC1uDz6eIbT/X2oceOyHohU8xtq0O66f0xth5axAqtokyn4kDMfn/dPAY8QEm2NQ7a955Br+2ROw/MSJ9keL8vgQzx/ph7I9mTyh5mT1HFyW99eEhS1dXvIqX564QaVGPqZxX7AWk5VlZtk5fkhzg2UTs17ELMOe1ELFdTX47ShzPhd6c88FYcY6QN5YWP94R4+er6yh0Qwheebw33vhd7D/alLmKcLw7ecNX1vQRaf3wC3nMyN9QHyRfcsetl/gN8dtiv1ku8gP9/mX8eBeRaqUn0jV4+x0RLHqL9zZUQy7wPFxaHFxQXwSBP8yah7WDtfZwDiKfMOqiyD+sFFGJ0SMnyln+AYsmoJ2WjhYPdMWQWXuR/OCT+GKC+RvKsaHzsPO8yCWc2oyNUeYrvCZvnpB7ne4+Uylp2zmta864r8S+auAd/CFeFOsjSqQjyN+Qjl549ktxBe/4HF4bblTuV8dVHAXJIs/TFe3a5+Z7WrT0Q78npuDbI2bS06obBoltszZ0r9ppoFVszBPwwfRUSRUcEAoeD72P1aGfYvpgJ6RuEBnWV8QFY/xsvLNIHCg+Y/D5zr34cHDuhcj3mW+w/Bkf4JcvMD54GIYMeQrzTnTGh4d34qNHDfVIjLgG4hF5Nzl2BSbPCzOqHiEypfIOO8LwztgVZrtTt0h7lpCsJtH9AcNvqs+iSU4WMzLuIQzNMHrRMrw21NAY2wlt+47Cu2t+QYgsniqOhgMw95tZGN1NvTy6dxuA2SuXYXav/OuhTvvRePfpXgjo6KKlzQHNOvbCi19sxncT/cyezOVdxIChQxEg/sC921R0kqur3PPGU2J9zx7lh2aF1t5wQvfBo+ByYqG4AFiXCdCFr8OSEw54fnCvYlWxdQiYga+n+4igbw1eGTtaBG8i2NtlKIVygO+4n7Bh+TPod20HZo6X34/G+NkbEd/hGSxfvwmT25rfYir5999i/Ydj0DxmCSYH94Z/m47oETwbixP8MeunHzD5AaO/dwjA1K9fQBfXOCx/5Sn1t57egGO3inC8WaOA3zPH6aEP8N1bAfBQ1pVMw2i8sb0Ggn84iOVTA9SYoQTIbaL8TlIMVs0W5yGxTeb94YFZ63/C+K4eBQTgJcRVBH07v8Vj2I55yjb/D2b+GIMa/adhvbl2Yw4i079oL1bNEIHiIbGdxbrpETQQwWNfw4+pAZjQw4bnTbr1wZzvfsKHj3nh2BevYazYJnI+8w55IPjDn7D9w0HWlw4aKPPchM8n+CD+x7li/xmo3OQLHh+C8LojEOyfc9vMggLO0Tan1wFdnvkK45ulYdui2SIt6jGV8+rXHT4temPmL4YSR1unL1kej74vgn0dwn/8QmxXk98eIo5n79YYuySmwMykQ1uxP/80Df2aiGUIUdfR2CkrkNrjW+z46X08rE1nzPbjXazvdz9FcBMdQufJY0b+xgLl+ZcledwqncfIUttYD7RvbvKXSk+kOtnxN1z7Bdh0nBZ8Hi4t7vKemGJ0e8O11wn+XQeo+Yf2RjeUy0n+Afd2xOi5ozC8i3fOddWlhbdW/XI62loocfMOmo7ejeW0AzCobaEX5MLV8sPz36zDgqm90FbMV3Jp4SeC2GXY+O3UvOloPBQTp8rflHkd75zp5Q1T+RzH90c9JoJN0yPIG72f8APWiTyB0slP4WzOEzi4w1PrkKrdfe7Wn6OJKrgq8un02vvC6dJy77raFVI9Rz7PSGnrY83zXHRIU2acf1r5jCXlGyfzjd3/PKv2++3mZuEZAFTBXcQmcXGZdu5JrF5p+cKm0B3FV2Mew4omH2LjvAFGQX9eCQlKd3i4v6kVt6qt2I8N+2ihx4QFOX9f2LEiq5NqzzdzqCmOB6MOOWw73qxU0O+Zk3N+KME0mFMay2orQxqs3eZG67LY6TY6D1s6L9rMlnO7icLO0dal9wLWv9gbb+MtbPhwMOrmeY5fKuJ/XYKZIlg64joGq8LfQhcHW6fXvioROhyZPxBDQgOx/ocZ8M3OreYvv0uMWYPPJodgfZI/PtzzkwjGtK8sMlz/BAex7q1Jq83HQAG/caeO2+IopWOe+Yeycz30FfR5/iiGf7cOL3bMW7vh+i8z0e6FdXB56UfsnyACQGM3D+KTUePwVZM5CP1sqBaIW1DUPIFyvhbhfXk9HohKQaElhHnIC4nSVsKKDEMtw7TWHFDyJG9+WkP7DEtzsbNTF+H27dvKkO427hg4fQ56n1iKt5YYP9TWlA5R38zEJ5e64fWplk/8hv3EsN8Uyor92LCPFiUYlHL+vrBjRXlYrjptvuDMpuPNSgX9njk554cSTIM5pbGstjKkwdptbrQui51uo/Nwia0BW87tJgo7R1uT3rRfQjD5/7wwfeoIeORZV/LlAd/BkzBOPlYhSX12oa3Tl6hYEWyGxGH8tGlKqXDu8StfrvAKeAHjnpATRiKpsHbSCqP0W7tBbT4GCviNO3XcFkcpHfPMP5SduBOblWYiOhHs57R7FHTXLyLyj6PK+z7NzTT6q9URE//7JLy3z8T7Gwpq5FeMPIFyTinHxwNRKbAtICyHqlerrgwzMzOVId2FGg3FayHdkPjlBMxYozWwN3FxwxS88Bnw4pfzMbCAh9Ya9hPDfkNEZS81Se0oQ6eUAplxMwbHZKcpbTvD18326UuS7mqi0nOsxd9GHE4fEQPXEbm9bVK5xPxD2fG4v5sI0i7i2+d75bZ7FK827dVHT7gEzcLjQXlLDg0c2k3F7KnNsHP6c/gk3HzbR+YJiGxT4QNCR0dHZZiRka4M6e7kPmAR1oT0Qg0nB/OlDHYO6BGyEM8/WPBdPcN+YthviKjsyY5H2iEGM6e9hvWx8gmyBjqkxa7BO08/j8WQnTWNgWy1aOv0JcnBpzPGugLLXx6NzyMu5Hngt+5iBBZPHIZXwpwQ/NYLsJCfpXKC+Yey49J3ETZ+Nx2j++a2e5Ql2UrfCSE/YuPno2D5fooD2k5ch9UvNUKN2hZaBjJPQGQT29oQlkO3bt1C/AW12oCzszMcHFjMT+bpdDqkpKj1xzw93FGtmjX1IInoTkj73xd4440FWH/StA6AA7wGT8KcWbKjI22UYOv0JUl3Zg3mvT0Xi8Pyd3blETgG02dMw5CWjAbLO+YfKjfmCYhyVfiAULp6NQWpaWnKwSxP6nZ2dto3RKrs7GzlxC8zAHWdnFCvnhVPjyaiO06XdgGnYy4iVbyvUd8Lzd1dC2xbZ+v0JUmXloQLZ+JwJUN8qOuONo09ityWmMoG8w+VE/MERHndFQGhlJBwGekZGcpJXTY+550+MpB3AdPEBV+e+B1r1ICbW0PtGyIiquyYf6hcmCcgyu+uCQjl3Z7ExCTlpC45OtZAjRqOsLe3R9WqFb6pJNlI9hwmG4vL9gHp6do+IU789eu78g4wERHlYP7h7sc8AVHB7pqA0MBQ/YPIGKuEEBFRQZh/qDyYJyDK664LCCVZDeD69RtIT09H1q0sZGfzGUOVjXymkOxGWvYcVqdObTYWJyKiQjH/cHdinoCoYHdlQEhERERERESFY+V4IiIiIiKiSooBIRERERERUSXFgJCIiIiIiKiSYkBIRERERERUSTEgJCIiIiIiqqQYEBIREREREVVSDAiJiIiIiIgqKQaERERERERElRQDQiIiIiIiokqKASEREREREVElxYCQiIiIiIiokmJASEREREREVEkxICQiIiIiIqqkGBASERERERFVUgwIiYiIiIiIKikGhERERERERJUUA0IiIiIiIqJKigEhERERERFRJcWAkIiIiIiIqJJiQEhERERERFRJMSAkIiIiIiKqpKroBe19oWyYlIiIiIiIiMpAlSpVtHeFsyogNEwih8bviYiIiIiIqOwZgkA5NH5fmAIDQsNXt2/fFi89svW3xTgxUzna+qCTiIiIiIiISpMWo1WpooddlaqoWrWKeKktBAsKDC0GhHK0fMlgMCv7thjDCJCIiIiIiKhi0KO6nQwMq+YpNTRlNiA0BIO3bt3GbfGt+KR9Q0RERERERBWBCANRVcSB1apZDgrz9TJqCAaVaqIMBomIiIiIiCokGcvJmE7GdoY4z5TZx04o1URviT9iMEhERERERFRhyZhOxnYyxjMnT0CYUzKoNBlkm0EiIiIiIqIKT8R2MsYzlBQaM1tlNFufrX0iIiIiIiKiik7GeAVWGZVfGkoI2aMoERERERHR3USWEuZvS5ivyqjypXzWIBEREREREd0dRIxnGgxKZquMsoCQiIiIiIjoLiJiPNNgUDJfQkhERERERER3FXPxXr4SQiIiIiIiIqocqogIUQkR5SA7OxtZWVkiTKymfElERERERFSZ3L6tx61bt5B9W3t2X1nVoKxSBVWrVoWdeFWrVk28L4F2fbdvoXr16rCzsxOzV+eXLyDMzMxEFbvqypdERERERESVRWZWllJAJgOw6iJoqmonK1SWVQcretzOvo0sEaPJAFUGcvbiVRz67CzY29szICQiIiIiIjKQsZBOl6nEfjVEwCRL58oVkb4MEaeJGBEODvY5wZytzAWEbENIRERERESVmgwGZZXMGg4O5S8YlESaZNpkGpXAtQQxICQiIiIiokpLVhOVJYOy5Ky8U9Io0qqkuYQwICQiIiIiokpJdiAj2wwq1UQrCJlWmWaZ9pLAgJCIiIiIiCol2VmL7ECmXFYTtUSkVaZZpr0kMCAkIiIiIqJKST5aQvYmWtHINMu0lwQGhEREREREVCnJ5wyqj5aoWGSalWcklgAGhEREREREVDkpT+CrQNVFc4g0q08PLDYGhERERERERJUUH0xPRERERESV0s2b/6BWrZrap8LdyspCfPx5JF9Nwm0RO9mqU8C/tXfFZ2vaJXMPpmdASERERERElZKtQdW5c38iJvqY9sl2/QcM1t4VHwNCIiIiIiKiYrA1qDp06ACSEq+gXr164uWijbVe8xattHfFx4CQiIiIiIioGGwNqg5E/IarV6+iRYuWJRrcFUVJBYTsVIaIiIiIiKgYMjIyRKCYbNMrLfVv7a/LFksIiYiIiIioUiqJEsLII/9DQsJfyntbydK6Lv/ujpo1bSvpk1hCSEREREREVIZ0ugwkXC5aMCjJwriEhEvap7JRLkoIr2zYhB4j09Bkbhf830tNUEMbT0REREREVFqKW0Ioq34eiAhXvrO1B9Hfj0bi4sULcHf3wIN+/tpY691FJYTXELYmDefEu7AZZ/C7OpIqrGgsDOqMnouitc+SNu61TUjRxhARERERUdkrBwHhvQgc4YQm4l2fj1vgQXXkXePcuq14rFsYDmqfiYiIiIiIyoty0YawweCBiM0YjZ8netx11UWvnLyGDYeytU9ERERERETlBzuVISIiIiIiqqTKMCA8gw9q/ICaxq+5Z7TvjF3D6tHqdxmHwvCIzw9o2m4TNlwCzm3Ziocbi899wnDwhja5Yb5yXldP4bPxq+AtPzdehSc/PoVUbao8/r6ADXM3oYeYt0xH03ZrMXHu7ziRM0/Npf/hMfH9B4fE+7/PYdmU/8ud95fncud9aHfOMvV4W464jB7aZ8PrsdXXlEltcmMP5gZ1xoSfZYtL887/PA49g97EPqO034zfj7XvTcFTQzqL7zqj38hxeHPRTpxP1ybQpGx/WXz/MnYnXUfc9hBMHhmoTD/ohRBsPZupTZXXzbidWDh7HIb3N8z7dWzVvsvH0w3OKYdFWsar0/cfiNe/O4wUFqASEREREZWJilNCeC4Wrw+/hB0izrsSk4ZVX+zAi0OvIeyK+LznEj7dYhJgxRzDk/7/EwFHttJhDa5kY/WM/2HIvHPIUCbQ3BAB5KC9eOztNBzU4tErMZlY9nY0/B/ebRRo5rp89ACefDAcExen5877pXC8viFN+b7U1HaDZ0MgLtFMojQ3E08BjvehXm1tBKKxYtzLWLjrMM5ryctMOoV9q9/Ecx/vwU11lJGzWP/OBEyYtw6xSWoQePP4OoRM+hxRJjHhzUMiaBz/JtbuO4UULbjMTLpqZp6a+F0IeWmKSEu0On36VRxaNgUvr4iG+XCTiIiIiIhKUxkGhM3wasZo/KO8OmG2Ntai79KwvmcLxN74F14VHzd8nIzLM/6FlEu+GCc/nzHpv3LdTaxufC+WHhyi/sb5B/FqB+Dgf0/iQE5EmImweQfw1iGgz9v/wtm/tfRc6oalE+2BQ5fx/v9d1qbNtWjKGYS1b4StZ4ar059sBtnJ7LINcRDxKdChp7Zco/Hrf+WIhvhV+2x4/TjyXvmFjerBrakYnD2r9dZ5Hfve7Yyen+7XAqqrSIgXA78m4hdz1es5Ce8t24Rtu/Zjd6h4rV+GKQH2yNy9CQfydfuZgNjov+D9xHysldPv2oH3hrmJ4G0dDsZqk0iZh/HNW+tw3qk7pnyVO+9tGz9S1oVZhzZhKwZi2lc71HSsFtN6Aue/24GjjAiJiIiIiO64CtSG0BGz3/gXmlSzUzueaeCEN19ogRr1aqOx8r2JB0UQtvVhjHywlvq5gS+ee0G+T8bBGHUUMs5gxzwxfMIXy6a3QANDjzb1PDByri9ebQDs2HFBDfKMNBjVAr+uC0RgIxE0So1bYshQMdSVdt1HERCKAArxV9WAMPskYnaL4cYILaDKhE6WvHneB2f5UeGL4W+MQgfPerC300Y5tUDXru2Vt+aS3HjkAoSMaw9nOb1dHXTo1kMZf/7yVWUo3dy/GRvS7TF41lsY3DJ33va1naCtlfwajsJHX72Oh1vWUT+7dsbjwZ3Fm02IMVdbmIiIiIiISlXFCQiHeqBfM+299O+G8KunvTfHywlNcqpNqho01QIRQxB09YZS5XNwT0/UVcfkquGJTrKoa536jERjnfp4KY/JyHUvRv4wGv/88C+IGLJUNWwsAqjLN3BdLsPZaPzWYagIyDYh8pT89irijwIdGrvJDzlM2/nJ1/B5+7Vv8+vQxddyUKdJvibXSnt4eRY2pRHPxmjsqL3XOLvLNSkCWbYjJCIiIiK64ypQCWEZaaCVSJYTagB1DgkpwPljYajVcSge8gN+kxHhDbXksHHD3Eg5M3pBvnZ+JeFmqmmYTEREREREFU2lCgh//y1J/GuPBoZ4qZa90tZuw+74/L2P3ohH2AYxHHyvSWlgUfyDv//W3haXS2O0xWFcSb6KmIPX0bVNE3h3GYar2/cjLj0N19ECbjn1Ra/j4IaVOC+WYPC763LbEIrX2umyqmbRNWwoq5yeRYrJisuMDoPshNVacZG/in9Fmp3Uz0RERERE5ZW3Txt0CugCdw/ZjuvucPcGhLeyce2GVg/x1k38vnor/jNDfO7jgUBD1dN7miLwCTH8Lhr/+fYCUg2dzVy9gGUvReKzK8CEPk3zVye1QYOGskplGpatEfO/pY4rFud68EQmEmJ24NCxHvCXncy08Ee/y5twYNt5EYw1gXNOQJiJ69fl8D40bqS188u8ivMRK7Hw/w7LL4rM2csXbkjAD0s34bxsv5gtH1XxHp6bIgNQCzIzc0sps8UyRIRg7rIEoPVAdLh7jikiIiIiuks5OdVFvXoucHSsqY2p+MouIDR6Vl/NGgfwlhz39oHiPafP2IYz8HdZpc6v9noEjL2Ggw1qYen8TkYlfk4Y/EYLjGwArJ64F273aOlptBcTvwOaPNEaU/sXr+iqSbsG6CiGG6aI+dfW5l+c5bN3gXNDYPeXC7Cvlz+8ZJBn3wZte4rgbPVPJo+cqAeftnJp92P+OPWZgj37DsRTb4i/vaROUWReA/Gk7Kk04j081VfMt1cfTJi3Ceg7CcM7aNOYOhqCCYZ2jL0C8fgb63DesTOmzRoqgksiIiIiIrrTKkeV0WZ2GDy+CbYeGoiRpl2SNv4Xlh76Fz4Z74hWWo8wTTo4YfbqbohY7F/86qIPdsP60CYiELIroQ5n3NDYR33X06+N1vlLHfh36Y3M9EygjVueR040HvY5PhrXHY21uLaWZ3sM/s9i/PD2MHVEkdVDz5mLMaWXL5R+XJ180XPCfHw0rQ/yF/Y1xkPTx6FnuxY56YBTE7TtNQkfrfgIDxsnmIiIiIiI7pgqekG+kYPs7GxkZmaiil115cuK6Qw+kCWOQ1vg7B3o9ZOIiIiIiCqmmzf/Qa1aRa/+mZJyFRH7f1Pey7aFtjgTdxpJSYnw8PDEAw+21cZaryhp12dnwd7eHnZ2dqhSpYoyjgEhERERERFVSsUNCG+L+GnHjq24ffu2NsZ2MhiUQaGtSiog5GMniIiIiIiIiqCqCKxatmoNx5omD9u2QrVq1eDmdh8aNizb9lMsISQiIiIiokqpuCWEZYlVRomIiIiIiIqBASGrjBIREREREVVaDAiJiIiIiKhyUkrJlAqTFYxIs1bCV1wMCImIiIiIqFKqWrUqbmcXvYfQsiLTLNNeEhgQEhERERFRpWQngqqs7GztU8Uh0yzTXhIYEBIRERERUaUkH/1w69Yt2cOmNqYCEGmVaZZpLwkMCImIiIiIqFKqWrUKqlevjozMTG1M+SfTKtMs014SGBASEREREVGlZS+CK9lHi3z8XnmnpFGkVUlzCWFASERERERElZqDgz1u39YjQ6crn9VHRZpk2mQaZVpLEgNCIiIiIiKq1ORD2mvUcFB67ryZng5dZiZuK53NlGVwqFfSINMi0yTTJtNoeKB8SamiF+QbOcgWPyiLIavYlVwRJBERERERUUUhS+Fkpy3Zt2+L97fLrsRQBH4yCJS9icoOZEqizaA+Owv29vaws7PLCSwZEBIREREREVUC5gJCVhklIiIiIiKqpBgQEhERERERVVIMCImIiIiIiCopBoRERERERESVFANCIiIiIiKiSooBIRERERERUSXFgJCIiIiIiKiSYkBIRERERERUSTEgJCIiIiIiqqQYEBIREREREVVSDAiJiIiIiIgqKQaERERERERElRQDQiIiIiIiokqKASEREREREVElxYCQiIiIiIiokmJASEREREREVEkxICQiIiIiIqqkGBASERERERFVUgwIiYiIiIiIKikGhERERERERJUUA0IiIiIiIqJKigEhERERERFRJcWAkIiIiIiIqJJiQEhERERERFRJMSAkIiIiIiKqpBgQEhERERERVVIMCImIiIiIiCopBoRERERERESVFAPC8iZpJ94c0hn9xi9DbKY2rkRkIva7cegX1Adv7r6qjStp4jcWTcHCaPMJT9j1JuZuT9A+ERERERFRWWNAaEHK9pfRM+hlbE3SRgixizrnG1fSUo7sxL40EVrFLcbeU9rIEnEKe5edEiHbdezbtR8p2tiSlLB9BqatTgZu6bQxxjKReeMG9s17DK8zKCQiIiIiKhcYEJYzzu16o6sTYO87CQ+10EaWiBboNq4F7NEED/fvDGdtrDkJu9/Ey+OWIVb7bI3M6AV4Y95h+E0PwXN+dbSxxuzR+JG5CBl5Hw59HoKtl7XRRERERERUZhgQljeuvfHm+v3YNn8UvOy1cSXCHt5PLMO20JWY1rWeNs68a3E7ERV/Q/tkhcxofDt3JRICZuCVvm7aSHNkGl7C8Lr7EfLpJiRka6OJiIiIiKhMMCCkYkvYPh9rL/viuQm9Cyx5VDi2x5jxvWF/KARrj5ZoI0kiIiIiIrJRmQSEcSuHomdQCA5Zigcy92N+UGc8vtKoEV32VcRuX4A3xw9EP/Fdz6A+eOqVN0VQYdpBSjQWiu/7LYsGkg7j+9mjMEhO338gXv/uMFLMlUqJeUetltUk+4j5qvOesPSw9qWpJnBzVqefPDJQTBuI4W8sQ1QxG+Wp7RONXwssVNm0cfmSNuH1PPPtjNe3m+lUJnpBzveTV8sRKzHZ6G8s/l32KexeJdISOAwPeWrjClGr6yiMbpiJDVvCcFMbR0REREREd16ZBIRu97UR/yYgOVX9nE/qVfEt4OGaW7UxZdd7mDxvJfbFXYUaR17H+SM7sfClyfg+ThmRR+b/5mPyuClYuu+cGnSkX8WhZVMwe4tJhybZ57DhxaF4eZGsJnldG3kdKUmWotVzCA2ZrEwfq0yTiZSIxXj5pcUl3CtowaxevtJ2dj+2XwZ6dgtALW1UoexaoNMANyBsPyJtqJlKREREREQlq0wCwloN7oM99iP+ijYibhkeDxqHDfHa5+QEHBVTtHA3autWvQmGT1+M77fsx+5Q8doVhu/fHYrGIkD74bdobSIjx6MR6zoQ0xbvUKbftmwaOojRsWGHlWDTIGHLXMwXf+417KM88140ub02han92LodeHj6MmzcJafdhPceaQLEL8MvxagC6T1B+23x+nykNrIgVi4fxDTvafPdvfp1ZRqzfCeZ/P4ofG74O+31Xt/8bQ9T4qLF77WHXytzHclY5unVWfy7EzHn1M9ERERERHTnlU0bQhc3+IlBSrJaIpdwMlIEFaew9YgWHegykSmCjAYu6kfJueckPNfXF26O2gg7e7gF9FECnExzTzlw7Ixp77+Oh73UQMXeMxBd5cRHz+OaMkbSqju2now3J3bOM29nR0s9urhh+MfLMK1vC9SyEx/t6qFD8GNKOrbFluhzIgpm1fKVvsvn94t/W8DNVf1sLfuGTeAlhucvltYzEYmIiIiIqDBlExC6NkVjMUi5KesLXkfc0T8weNBAxB08pjwfL+WyDAyboIlxkJGvnZ98jcda7et82nRHp4bae0syk8VvieEDLUWYZ62m8GxkEixqy2M2MC0t1izfHeQgg2NbiIC70A5oiIiIiIioVJVNQCjCL88OQJQsHco8hqjdA9HpUV90OLQfUWkiIEw5C/g1xr3a1MhOwNb/mrbzKwE3buStXklFpMMNW2vLZgNZ2lsiIiIiIiobZRQQ1oOb7JEy/i+knIrEtp7t4ePZGV077MHByOvIvC7CNM96YirN2R1YGZEJ+4BpWLTeuF3bYgzXJikS5/uUkj0kX83b26UIQA/ss9TLqBknD+M3MfCqX1v9fFdIxlUrOnxp2Fi2BTyGBFsfNH/5PKLEoLFxO1EiIiIiIrqjyiggFLGYWwsR6P2F3ZG/wq+dL2qJ8M+nYwvs3rsOkWcBt/ouyKmYmaGW5NVr5AY3rSvLzEvR2LpoMbaqH4uoMXx6isHuRVhxRC15zLx8GEtffAwhIgA1LxNZqbnfZV7aj/nvLRbp88XDHZpoY41dxb6QcegX1AeTv4vWekgt32rVF9sGO7F1+yncLOTh8c5evnDDKUSdtq3kNi72V/Fvb/iYW2VERERERHRHlFlA6HKviAQuL8bCZXXQyVstJWrcJhBuYcvww7G8j5xAkzZ42BFI+OllDOqlth/sN2Y8Qlb/gSxDRzBFUgcdHx2n9FS69hW1bWK/UVPw/ZkWeO6Zodo0pg5j/nj5/EFDOl7Ghnh7dJj+FgY30iYxlrQfW7ecEoHgdcQuC4OZJ2QI6rMFDfPM9xzA1zYpbSuLImX7yznz7TnyPRwS4w7NG5gzbqGZDlrldpAlp4e+HJezvuXL7HMIm3ZG34bAvvAI658pmH0KBzaLED+wM/zvpkJVIiIiIqIKpswCwlruTdSOXBoGwsfwQHMvGVxkIjNdBCVuRgFh7e6YvOB1DPatp5YaOtaDV9fxeG/ZYkyWjzQsBvvW4/Huu6PQwVXO2R7OAaMwY8ECDH/AQZ3ASOPA1/F4r/bw8jQ8YqEOGrfrjec+Xof3+lrolsa1Mx7u30LMuQ68xwUqPWuWe17j8NHHk9DTsL4LYtcCPYN9ARHI/2w+2s0n88gm/HDZHoP7B1r/7EIiIiIiIipxVfSCfCMH2dnZyMzMRBW76sqXRFZJP4yFT0/BWs/X8f27A+FWUI+jmdFYOn481jR6Ez+825s9jRIRERER3SH67CzY29vDzs4OVapUUcaVWQkh3UUc2+Op6aPgdug9zN9eUL+tmYhdOhffJ3XG5MkMBomIiIiIyhoDQioR9n7jMWNkExwKmYb5h8w/bD5hywxMWw0M/2AuHi5Hz1AkIiIiIqqsGBBSCbGH94Rl+PyJ+1CnpqGNpQm76ug4PQTP+RbaMpGIiIiIiO4AtiEkIiIiIiKqBNiGkIiIiIiIiHIwICQiIiIiIqqkGBASERERERFVUgwIiYiIiIiIKikGhERERERERJUUA0IiIiIiIqJKigEhERERERFRJcWAkIiIiIiIqJJiQEhERERERFRJMSAkIiIiIiKqpKroBflGDrKzs5GZmYkqdtWVL4moksg8gdD/24pLWc5o028c/Fy08UR3uaw/12Nd+J/IqtMR/Yd0gbM2noiI6G6kz86Cvb097OzsUKVKFWUcSwgrkbOhH2PF8mU4ekMbUSZE4LFCpGNjOMo0GZTX+Whc0onh7RScPZ+ijiO6K6Th6EZxzlm5EfHaGGPnzohg8LZ4k3ocZ6+p44iIiCqT8hEQJofi5+Xzseec9vmvnVi1/Asc+Ev7TCXgLyRdFQOH+9CwtjqmTCT/hRSR+apezwMlnozL4diy9gtsP5amjbjL3IjGnvVf4Kd9cdqIEuTeCo0cxNDBEy29WEZyV7vbj5N8xDknVQzq3gc3dUQe7k3uR3VxJaze0A9e92ojiYiIKpFyERCm/PknblRvgqZNtM8X45FV3QP33ad+phKQKTJF/4jhvfXRUB1TJrIuJyJdDOu5eKojSlDqpePKMt5Tz0kbc5dJjEN8qg617/XQRpQgR18EBb+EMcHD4F1XG0d3pbv+ODF1LRGp8ibUPfVhrjGEY/MhCB7zEoL7tAd3fSIiqozKQUCYhvjLaYDr/VBDhBTE/5UGO7cW2mcqEX+JgFAMapdCIGaLhKuJ4l8nONdXP5eky8myxKMB7i3LiLcUJSVeEf/WgnNDWZRHVDR3+3GST2KiUj29NG5CERER3Q3KrlOZcxuxck8csrWPltR98BkM8qskd7KlG3E4eugA4v5KRLpcOXYiAGjcEQGd/OCcZ7PcQsrxnYiIjkPKP7fUUdUd4Fi9Gm5Vb46eQ4Lgqo5V3Di6DD//noJGXV9C0P3ayALciA/Hod+jcfnvm8i+LZLhWB+ebXojoHV92GnTKFV7d0Wjpuk2yjyM7T/uRZLHwxgT1EobKcm2PEtwLPV+/HvMEDTVxppn3fKd3vVxIVWLa6Fl/wnoYNxJSlYiTh7YiWPntXVcVazjJh3x7y5+qFuUWyTa8tp1fgl+N1dhz7G/kF5dLOOjvWB/eC32nElBtrkOK+S2jvgNsZfF97INk50TGnoH4d/+98NRnQIph5Zgy/GCq/Y17PQSerVU36vTV0OboePQ8lo4fvvfEVy+LtZf1Wqo26Q3enVtlTNvuY0jIsX3qer3tcX3fY2+N0uuu/+F4uS5v5CaJT7L+TZsB7+ALvA0qQOcnngQRw4eRby2D6nLF4gAPy/UvmO3omw8TozXiWBXxxPe/+oHP49aymdVNHYt34mrXsMQ7H8Lh8J2IS5ZXUbH+n4ICAxCI9OVaO0+J6vPbzkKO3lMtUzG0d9Cxf6Rph6DdVshoM/DaJpn3hXoOFHOF/G4v/9jcD3+IyLOieWSx8Wg1ri8ey2O/HUT1cU5Y6g4Zxif6qzbJqrslKOICD+Yu8+J/dOuyi1xbXOC96Bn0E5WCb2dhvijO3H0RLy6D4v9smnnx/Dv+/PPL4fhb06K/T5TS4d9LdhXu4XMel0wKshPGUdERFTela9OZXSZhQaDUm2nyhMMpv+5ET/9vBHHLmgZMCn7JlL+DMURQ/tKxU2cDl2ELYdO5GYCpSwd0v+5iSyn+/JkcqWkFFk+6GxFydxNnN2zCD//ehCXUrRMlZCdnoizh/biT/Wj4kbiX8iCCAjuMdlGWmlkXWfTOr+Gtjyu+dKXl7XLl4K068qbAtQT6dDeSjeOYtdP3+PQn0br+La6jreFnRDLUwRpaUgX6wGX12P37yIYlOtMF4+TIpMbeloL9lKPi6BBmVqRfVlk/OW2/kv7XhmZhsvH1mP7EVmKqkq9UVg7r1qoW097K6jT14Zdwk/YEHpQDQal27eQ+udOHMrZj6IRIbaxIZMtv7/xpwhOC+pUIzkcW+S6O60Fg5Kc718i8IvNTbMke27csC0cZ432IXX5NiLijPa51NlynNzC5QNLlP0+Z50I2dfjcSzsRxwx2nZIVkucHG7HYdf69TiZmLuM6YkiIIky6brEln1O7Ety3o528cq8j/2lBoNSduoJRBwybj9awY6Tm2nK+SJdBIO//aktV+ppHNoh1q8IBqWsC9HIPdXZsE2E9NPrsXZLaN59Tuyf2TL9VV3gbGgfeGYn9hzTgkFJ7Jdnjx6BPDWZdfsvHNm4RP0bLRiUsjNvivWsg2NdljwSEVHFZvemoL3PKSWsUjWnDKj0uHjjQb8A1EyKwMWqHTEoeCQ6+PmjesL/kGDfEY+MHIl/ie+bVpZG/smh2Bwai3/gAOdW/dGrV390aBcA35aN4SgyifZNvNGwpjppypHv8GvcP0DN++HXfSiCugbCz+9faFH7Kk5fSEGdpt3RMk+1wr9w+nA0rlZthgf9mxXYmUvSoe8QGieypA710fLfw9GrWxDathXzvq8WUv9xwP3NPHNKkC7FhiI+rSG8OvvC1WiXST2zDydEfOD5QFe419FGSsl/4Mipy6jiHgB/T8utdaxfPkfc1zpA2Y8edLqCP+KvwbXdCxjau6s6Tnl5w0W9+aFk7A5t3oTzurzr+EHvRkg/F4ukZB1qi+mN4ivrXP4dh+Ov4kbqNdi5BWGwnx1Oxyfjxs101PYagiCPRMRdqYr7HvBDQ3sxffpR7N4WgRS9Exr96xH06d4b7fzFtm5WHUlx55Fyoyo8vJsq6/neptpyNM7Cnyf/gt5rGEYP7Gu0fO3RSNsvpMRTEbh0IxWXL6Xidq370aHXKAR17opmVc7gxOXrsKv3AFo0kIlIQcIlB7TqMRw9xPcu1yNx9lo1OHv555lfjvRo7Nq6F0mZItz0CEJQ34EIaN9FrLuWuDf7L9xyCYBnzrGqw8n9O3Exoz68+z6OXl26i+0nl68B7HSJyK7rZzRt6TG/H4l1Vv86jotAx/g4ST/5f9j2eyL0tcU66zkC3ZU0/wvN7BNw+lIi/qnWDK0baSVIiccQdT4FutTLuHG7ltiGQ9E/qDfatqqKizEXcL2GOx5spt15sXWfS4zGHxdTcePKGTFvdf9Q5t1czPv4BZEOF7Ro4a6UoFW04yT13H4RPP+NVNkOtsUw9HW/jJNXUvDPzWoiPWPg7xCN+Jv10KxNS6Utn03bJHkvNofFIAPq9jAcU95Nb+OvE5eQfk8LtGvpCbnni4TgooM/uvcZjIC2DXD95An8XbU+vLRjLi8dzv66EkcSs1HdxRcdtOPlwQf84aE/j9OJOjRsHYgm92iTExERlXf620rpYNWqVctBCaEiDn8liQzmfc3Vxvy3T+NSMlDXs03J90BZrukQ+7+jIgPogIadxqF/By/UVXIuImJ3vA8tg4blPhfu9gkcO5kG2Hui04AhaNPISavCWQ3VMv5Blggo69c3KbGztkOZzMM4Ypj34MfRoYmz0vuenLesChfUy7jKo9Zrac36cNXSapCYIkup8rdRsqpDmaIsn2BN+7qsE3tx8kY1NOxgtI4zbyIl6QL+FoEOHJxgHL9aK+ufDPVNTT/07OmH7Gsi6JGf7+2IoC7344Ysna3uDGdtp74cdRCXs5zQst8zCGp9HxxF7j47PQ0pV/7CDfmHNcykw6p2UIlIlRNJtfzQ95EhaOmiro/aNWsoQ/sahmpxrfDv/r3RXPv+xj/ymRP35C0lMnI5KhyXZTDYOhiPBPnB1bGa+oW9Mzw7PI5/56mGrEOmXI7bGUjPyM6pYmxX53606TrOZNpSYnE/Esuar2Q7Hr//Ho/s2to6q19LTHsL6TcSkZD0t7ItHWsa3cDIMtRukNtwgrINleMkQyy3GFSvmbt/2rrPpaT+rb3L3T+UedeupQYz9rXUoKUCHifpYv1IdvWD0LeTJ1KUWgtifTXpg76+Ytmv3hLLWU87x9i2Tc4eU8+fnl3V7SGPKan67Wx1mxj3anz/w+gvb2IpKzQN6TJZtcXxKT+aSj2MYxfEBHXEsd0v93hBVQdkpssyRXH+Y+dnRERUwZVJQCjbs6xYLl8bEZ8lMmjHv1c/r9iJy7fFNfj3JeLzTzitTX/XyzyGeFnjrn5HBDYvoB2LFH8Kl8Q6q9syCM1NbmefS5CNhMx0FmHoUObegnMuWafikCTWv+uDA/PNO5/bIviQQWY90+qp8biqBIoig2Wydxk6lDGu4phPUZZPBCBJV2+KvbkBXC0+UD0NMXHy72U1tEXa/idePy7Cll8OIinTAa4PtC9SD6xXU+UCV4Nn2yC4imVWO+0QGfrOXVBXBGlJshpmTpf3cTh5TlaPS8PJLYbj4GOsXLME28PjRNBXC8392ufrDfFysszIF9YZj5a5reqMNj3VtORoPgxjxr6EXs21z3nE4bJchDr10dDsGSEe5+JFmh19EdDBmtyvE3weaAXHqmk4+6s4ltd8j9BD0UgpUj3DIipgP0pIkkeDUUb+3FH8Ke9U3DiK7fIZmco2mY+f1q3CgXNiW9b0RRvv3AAqSdnBxfHUclDeNnf5gnbb97kb6fKgEulu82jeecMXvcT2G9NLRE5ShTtOdEj5W+6czvDu5CeCWu2GUnVPtAvwEm/EOeq6UeBm0zaJQ3yCCCbr+sFP66naIOvSXwXfSImPR5IYWOps68bZ00iVx7afyfEkjuv4y2J5zNwQIyIiqmjMZv9KlzXtWQQRUFSaWjjJKZDlAnXdWpjtFt1Yish0ZougoaGnyf3s1HAcvyyGZgKxVBGIyTvqdV0KbkCoBjbOYt6WSw9yXE6EnLp23bzzTI/ej9My35cvUEwRGUCRaavqUkBmtGjLB1xR96kC2yYalZ4Zq+4g1osvOvR/Bn29LRSPFUjL6Dq2Qkul5OsvpMp40MUPbeVy3hafxe86ivWhbNsbV3LbLhmRHVQ4e3RE9yFPo1MjbWQO7Teqi8xnQVUtr4lMtZi3nXsn+FmukZuf4e9EGs3+WWYi5M/bNbjf6kCgepOHMWxkMDq1vl/sUSm4dHwntqxalq/dV2mxuB8lhyJaxjtGGfkbf6cox0ceVauhupimUZtBeGRIbzQy2udSUmVAfx9a+uXd95OuySPC+IaHrfucdoxU90KbBwreFyvecaL9dn1f+MidTLuhVL1xBzSX2yFZfBYDQ+Bm0zZJjlf2X8eGTfPuv+LYizopN7blm1DqubEanOuZXyb15sF9aGgSaOLcAfwp15OTcwHrkoiIqGLIl2Uofc5o9+hLGDP2cbSsLTKZTQYpJRdjxg5DcxGHVPdSSzLGDA+qPBdapbMFWxgqv2lkm5/dB5VnbeEekdFVx+ZIUSIUkUEsOB7EdaXaoHUM1e7yZKRuHMVvx2QGTASKtU0zWCLDJ/PRhXYoI9m2fLhxAYkyYKnboICqxhnIlCu5YZC2v2mvUS9gUP/eOVUrbXcBSSInmxMsadVzaze8Xw0AU1KUjG5dQ+lshk7J6Dq2DM6TjlGPTUD/oC7wrKNVxcxD/Y3c6nQWaCVUrvcZ9+xqBcPfNZQlNWYoneYUgf19aN5hCPqPmIJRfXxR+3YKYv84oX15J5jZj/YeVZbV+IZFptJRiOxl02i/GDMFwcMfR5C/F2rnuUsTj2uyxLfOfWiUp2TIUPpmfMPDxn3utghsZNBUzxNNrTozV6DjRPvtnJte2g2l+m5aydzVFLGP5XaQZNs2UdmJgNFY0uGtOKls7Htwr4WbUGppvgj4LBQgGlQ13h6yPW1EnHLOLqzWBRERUUVQBgGhJvU0LouLtet9Wib08glc1FWDW6NCrszWSj+B39Z9jBUrvsCWY3l7QMzvJs7uk9VUP8aqLQeV6pWW2TKtlVzqKxm01ONbcUz2WCjH3dYh9Vw4dh0wl4FOQ0qCzMgAWclHEfrzKpyUwZZgZ6+2FTN2S7vVnq1FnVn//IX4yK3YuGVvnvTXd5ZtjlJwYt9BJKXLDJmQmSKm/QmHjLsXFdQMmwMclJ+7hRvnQrFlU6jSzkwyLTmU0yg9/93O1oY6pCfG4ei+Zdhi1KumyrblMwRZ2WlqSZd5Tqgj87IpJ3LXcUnQStec62kPizf0sHqvGrqp7SaNSiicnJQ2YOl/RSsPmbeOlknPuIokJYNrnlqtNG+vo9ZQ2605wFEmTGyXpLid2LLPaL9zuU95zEB2fBgOnEtBltx+YnvKHjV/CzU5BpLFPrsrFKfFOlanE8Q8b2Ro+5MFWbKHXVk1cP1epdpyyTDZj9aJ/UirnWDcA26dmvLou4lLJ+OQqu2/FhmCqnylqVrQnueGh437nBYkOeY7diypQMdJYhJSjdo1qjeUxHGhlXir+269nMDNpm2iuZF0FjfkvpP5F06GLsJ2+bgWeYWz2OZRKw21r6m2yxR/d3r/9/jN5FwnolVcuSD3X+08t2EnLmu7s9n1TEREVMGU2XMIlefiHauNTqOHobm4aCvPT4urj+6jBpXIA+nTj32PnyK1QKNOewx6tJv56nDSPwexZW24lrE1el6VObZMa7UUHN24DMfMdfl/X+/cdkPS5Z34aUe0SYmNAxr6NseN6Gig9eN4pEPeDGX8nvnYc85Mhry2H/oPDcotdUoNx8aNWgmDiYad87Y/MzzXMI+qTmjZ/B6cPBlv5nmHcdizUm0zaqq2cZqLsHzAn/jtx/U4a5JxzDNfIeWI2Mei1Qy0KdNprXb6J6zYfwXNe72ATiLGSBW/sTFafQ6gn8jTKus+3tPouYs6nA1dgt9kRxVmmK5nVRqObVmCo6bVLfPsG7Y84zEvNc0m68Vkv4vf84XYh8yk2XQf0p6jZzZulftHv2dM2sapzoZ+LNaJfCem6W9+GptY2I9cXWohKTkNnt2noLuhGmDmCREsbsUls4GHJzrJ2gvaJ/y5Hiv2/an00tnX16i07Npe/LzxMHTy2YRdcs9gtuxzNj0rtIIdJ+rzMWuj3WPB8LbXtvdlL+18r+27t4zO07ZsE8TjwJqfcNqkGLv6fX5wTzuKszDZR3Ok4Mj/LUOsdpPAwPgYzIpdhVX/U2s95JD7cUtxnjseb+F4JSIiKr/K0XMIdYi/JIIJ5yZooqQgDfGXRQbE9f4SCQYlRy8/NJL5taq10KhNO8vBoFTTFy081Mydo0cneBcU4NkyrdWc4TdgHDrcXx+Ohlpg8oHf93VE9wCjYFBq2BvdH7wPjtqWU3oh7TEGvRpXU+7m1743f2bNs0NvNDWqimhn7wzX5l3Qq49JJqluFwwaEISmzrVgZ9gzqjujYZtBCGimfdbUfqA32sie/7TpHJ1bocOAZ+BdQ4YCTqidr4NDL3To1Aq1jZavet370Nx/GHq1N0pzEZYPuB8BPbqgYV2jKmN2DmJnz1uFzLndYwhq44m6JuOLQ+1gJLcDD6V6rsN9aKjUyUsTn0UgnqfUyAFNAx9Tt7XV912c0Kb7w2huvF3k+qthvBx/id8SA6uq5OZV1/vfufuHhf3Os/s4dd0Z0iymU7Z5j2559yGXbujeoRWca+bdFnVF5rxTf7GPWwj0mjY3PIy8tpl9pwhM96O6nmgTNAbN7OVNjPp5e4a0b4Wgvib7vQUWe+m8lqIEwffUbaB+1tiyz1n/rFChoh0n18RxkdNuMwUpSqNpQ0dLakldnlJXG7aJEiAGdYSroXMdOydxzhqCwb08kS3vYTjVNxMMSs7w9jM6J5k511X3Hoh/3++Ukwa7uvejg9yPlYTmlnASERFVZGVWQkhEJMkqzOeiduJ/cSmo2mQQgrtbaMtYbPE4sOonnK5uqcSIiIiI6O5WjkoIiajSk9VLZVvctatwQASD2XXbo2fXkgkGL+9fhi2HjNqfZcp2ZduUHnAd3bwYDBIRERFpWEJIRGVDa2+YXrM+PFt1g5+PJ2qXxC2qrGiErt6JS+Z6RLG/H/8eOgRN8/QQSkRERFQ5mCshZEBIRHefG3E4tG834pJvqr3a2tWCc+OOCOjkB2ee3oiIiKiSYkBIRERERERUSbENIREREREREeVgQEhERERERFRJMSAkIiIiIiKqpBgQEhERERERVVIMCImIiIiIiCopBoRERERERESVFANCIiIiIiKiSooBIRERERERUSXFgJCIiIiIiKiSYkBIBUuPxsJXFiA2XftMRMpxsfSNxTwuiIiIqMJjQGhByvaX0TPoZWxN0kYIsYs65xtXUtR5G79EEKZ9V2ayE7B1ziSsFcury9bGWZJyGN/PHofh/S2so4RdSHF7CVfdPkBagpnPdOdFLhXrX26Dpbhp7nOlEo2FynHXB0+9EoKtZzO18Rakp+H6pWWY/DxvlhAREVHFxoCQLMhE7JJpCDnaHtPen4S2tbXR5mSKzPSkKVi67xRSLGWO3eppO1s15X/UdEQV5XN9VHVT3tCd5tpQ3Qau1ZWPsK+pDh9ueGdPDNnXcTrqV7ywbT0CN4vXlk34b8RxpGRp3xdZNlJOHcCcnZvQW8538yY8uzsckVcLmvF1nD+yDiGTZmB3QTd+nDtjyvuvo0PSSnz0XbQ4WoiIiIgqJgaE5YT3hP3YHaq+Ph+pjSxDmdGLMXf1X+jwn9dlfFCwM/ux4bKI+Qa9h++3y2X4CA+7at/l0IIOOMNOfle3rhYQImdId1g1GZkLnRqoJ4J6zuq2sNPG3xH/ICYiDM9eSkWMoRRan429V08ieM9hJBRWMm1RNhKidiH41GX8kpmtBWzZOJ2ehJcidmPLFdMZ++I5efzt2oFFEzsD6fvxy9Gr2ncWNByIKWLa86tn49ujDAmJiIioYmJASGYkYNtXK5HQejKeC6qnjStAdqbIcLfA8Ee7w81eG5ePHZAvSKQydSfjPgsy4w5jzt/ZsLd3xscd+iJswBCEBbTEGLEfZWZcxDfHU7UpbfT3H/jqUgYyq9XFB4b59uuLH++vi8bIwGenTpkv1bOrA69Bj2KwfG9FMOrWdzye9EzA2q83iaOGiIiIqOIpk4AwbuVQ9AwKwSFLN9Uz92N+UGc8vvKUNkLIvorY7Qvw5viB6JfT1udNrM13F19tC9RvWTSQJNu1jcIgOX3/gXj9u8NIMZfJE/OOWv0mXh7XR8xXnfeEpYe1L001gZuzOv3kkYFi2kAMf2MZolK0r++Qm3E7sdCwbDIN41/Hwt3nzGdyb5zC1k/Ha+37TF9m2iqe3IG1x4Guj/ZGYxHHWccF1R21t2bVQ9VOYuBbUysRrIMq3cRgoLuZnTAN6aH/h2vj39DatInXsBD8vfUcLFX2y06KxN+vzcHVB7Tp+4vpD6WYzdNnp55G2schSOmsTdtjDv7+2WTehjaOHx/TRhgcw99y/PhdMK4dm/7zBzlt73RHN+La6Fe1eX+Av4+m5UuH7uxBkd4PjNLwJlI+DsM/FhrvFZ7mNKS9KL+bjzQzMVRW+BLl765tTdPGCK5a1VBnR23opA5bNYTFTZm0E28O6YxBb+8sRumdQQaiLqWIQKoGpvp3g3/9Guroeq3xtL87Ooq3vySdxw11rE1uXEzCXtjh6Vbd0NEwX7sacPPuhun3iFNM6mVEW0q/vRMs3tcwZdcCj4zpDhxfid0ntXFEREREFUiZBIRu97UR/yYg2dLN/9Sryt12D9fc0qmUXe9h8ryV2Bd3VQt6ZFsfERS9NBnfxykj8sj833xMHifbtZ1TO8hIv4pDy6Zg9haT+/jZ57DhxaF4edFORMVf10ZeR0qSpWj1HEJDJivTxyrTZCIlYjFefmkxYi39SQnLjF6AyeNFMGxYNpmGuD1Y++4oPLfIpD1TZjSWThqHkI3Rltv3mYg7Iks7eqNnxzramELc0oYFagCnxR+j3q6RUFuqNUHd1eLz4l75g4/Idfhn9G+4vckowfxSQokAAD+HSURBVOGXkP30fNzYaRTQaLIiv0dqz++RvVxE5YZ2X5Fi+sEbRMiRV/aFXUjr9xWyPrwE/Vlt5AkROE5cjfRiF/FkIOuHENzoF4bboVqoduIKsvt9jZt5bhgcQ3rn1SK9V4zSkAb9hxuR/s5vRUyzExz6NRHDc8gON11HWdDtFWG/qzeq93TSxkltcE+C2Abv/xsO8qNDR/XzS/L4NC9FHHP7xOxvhoVgt9H9mqK5iGh5yNW6D91d1DGKv//ElpgriJLvb/6N88pI22Rm3Rb/VkWd6qZ3NOzgVksGiDokXFPHWJKVbd0BXatjX/QUR8z2I8VeIURERER3XJkEhLUa3Ad77Ef8FW1E3DI8HjQOG+K1z8kJOCqmaOFuVF2xehMMn74Y32/R2trtCsP37w5FY5EB/uG3aG0iI8ejEes6ENMW71Cm37ZsGjqI0bFhh5Vg0yBhy1zMF3/uNeyjPPNeNLm9NoWp/di6HXh4+jJs3CWn3YT3HhEZ8fhl+OVOtCPKPIyFr67EeUdfPP7hOmyTaRBp3vjV63jYEzi/ej62XdKmFW7u/wnfi/XqPW6xml5lWrEuRBRm3/M9bAydBG9tWtVVnPpDrCG/dvAqqCMZg8wE7Av7VbypjToFlhDaoGo9VJ0jAseYD9QAJeED1NoViCquEEHiwbwBk+4Ybr4aCX2SI6p++TxqnZPTfwynmCmwf9208eMV3HxnG26LoKrK64/DMe4DZdp74qahxifNS6At42lkv3xJmXdNJR0fwPGTBmL8JdwKN44I7VBl9L9hv28mnJTlE2mIeR7Vhomvlh9EZp7OTKxPs0P3fyvtM2/vijRZR5G4NV8Mn+sMRyXyKzrndr3RVcSUtdqNR9cW2siiSv1HPRarO4i9R8hKQmTEdgz47Q98eD1Lu7EhpimkKZ85znVqijNIFr48fhCn/9aCc911JJw6gC8T5drJwOX89xY09qgtdp2otStx6LIVx3TtxvBpKc4lf5zEHa4oQERERFRsZRIQwsUNfmKQkqyWyCWcjBQZw1PYeuSc8hk62SatPRoYlRo495yE5/r6ws0QdNjZwy2gjxLkZerUUXk4dsa090WQ5KWWctl7BqKrnPjoeeQWDJzC7lUiGmw9GW9O7Jxn3s6OliqNuWH4x8swrW8L1JKFD3b10CH4MSUd22JLv4Qg8+gebEgHur4UgifbucFeKwCp1XIgJk8eKrKy0ThwLDcHff5cmPi3M/r181XTK9RqORRjBol57T5mpvQlAfGHxMDLTSxpAZI24XVZ5bTvULwZVg+D/zsBXa0JIK3hNwj3Pt0Rjs7VZctDoTpq+HZENVnlVGxrvTJOlXXwILLFJqzy+RQ4PdIcNbSAp7pzE9SZ0g+11I+qswdxa5MYvvS4+M4fNWupHd3Y1WqEWsGPok4J9HZa5ctXUVfMWw28qqNmd381aLtlXCHVG3U/Er/n5ZzT1Y6dc3PYB8ng8VbeEldb0uzgj+rPiZ14lQgqje56ZB08hmw4o1o/b219FoNrb7y5fj82fjjUhurEFmRlQp4BGotD7XTUbjy7IxwvXc3AjSrVMaRRW3zRQF1WnfEGt1bTFphaQ+zjGQl49rctau+lu3bjMdnJjLIp7HKOnfxaYMTsSeiQLvbxUbJaeGcsNHPPKdd9cBMBIQ6dx2V1BBEREVGFUTYBoWtTNBaDlJuyddB1xB39A4MHDUScyLjKO+wpl2Vg2ARNjDshydfOT77GY632dT5tuqNTYb1jZiaL3xLDB1oWHPzk0RSejUyCRW15zAamJexGiszpd0aHB/JX57Rv2R5dxfDQ+dxooGEjWdK5H/v2nMJNrc3UzZPrsGKjeNPSLW/AZMxOa3dVJtLwz9alSBmmtcNTXh8gSwZGJm5duCj+bYBqXRoUGuxkXUhUgkm7niJwUkeVMJGOTibpcOsF54SP4fyIDPZy6U6E4e8X38xt8yhe/0w0FJnnsjXNtfp1FAHoFdw6YJhXGtK3xgLB/4ZDU21UeVHdHnIvPp94HM9euo7T4r1/vZb4v9798Z+24ojKUoNoh6IU3do1RP+Atph5T0001v7e3q46HqrvhQ+UNoXV4Wxx5xfsHZS0WccetUuqdJyIiIjoDiubgFCEX54dgKiLV0UUdQxRuwei06O+6HBoP6LSRECYchbwa4x7tamVB6T/17SdXwm4cSNP9dG7hcjL5nDuHozhziJI/HIcBvVSA+lBz4fgULo9eo7srQSyZqWn5W2LaMp1IN6T1WvXL8MUn1PY8OFKRJVIjdl03Pz4A6Q/fQz6cONSNfP0NwufxuB2xj/au7KVFbkUN3tsRPYqsbMX9Kw7weY0N20HuyCxXn46COUvUyKRvVzER8O6oCxDfLPqOsBQKbx5HXd83X0gPg5oDWcl8k3FVeUGS035CMuiqdUYD/27N5b3H6L0MrqzX3/M7NAatTNlldGaaGLcbjGPBGz7KAS7HYfho/VqNevnfLWvLNAVu4MdIiIiorJRRgFhPbh5ikH8X0g5FYltPdvDx7MzunbYg4OR15F5XYRpnvVyMos4uwMrIzJhHzANi7QMmvpajOHaJEXifJ8aECVf1Tpn0YgA9MA+S72MmnHyMH4TA6/6JVVn0jKHGvI39uPQH/kD48zYw9gnhl2b5IZ5N/dvxoaUJmjb1Vd2JinYw9m3N577eB1mBJorA1GDdZxMsC5YdmqBfoMHijhOTF/EJwTkkXoEmR+mA/7esI80tCGUr1dRXfyMqapuItrFFdw+XXiPOQ715bQiyDp+zponCpiVFR0L2V1J0aUhfY0IduEIux9ezWlDKF81v8xbiijZnuZGcBjdCAj9A1lngYwDR3DbtyOqdymdMtHiaQgfpZSuJkY+2F4EhUZlq3//iV/kQVnrHss3LYriShS++1scBfc0gI82Kr+rSDgOtB0+FG2N++CxSOz7smOrDo3FEhERERFVLGUUEIpYzK2FCPT+wu7IX+HXzhe1RPjn07EFdu9dh0iRkXWr7yJCF02GWpJXr5Eb3LRqXpmXorF10WJsVT8WUWP49BSD3Yuw4ogaYGVePoylLz6GEBGAmpeJrNTc7zIv7cf89xaL9Pni4Q6yl0dTV7EvZBz6BfXB5O9MegAtglr+InAWw30fv4UNJ68i06ga6Ny565Dp2Btd/Q2B3lUc2LUTmX5D8dy0ECz7SQbRYVg7/00M97NU7FIPLR5wU4LcOIudbuRlX7OYPZUY+yddbSPYqBGqaW0Is1LO4fo3q3HrgPwirxq+ascq2ZNC8Hf4JWRp7e+y5d/M35Y30G/trXS6on/5a6T9fBoZWhXfbN0V3Fz1f5D3IXK4aY9k2HYQ15NkKWQWMsK/x/VRB/O0YbSdCFyVnkecUKWps/Ib2boU5TEbGT/krzJqU5o1NXr2EH+TglvbwpC5/hKqPP1vy1WDbVWij52oC39X2fnLP5h3KBwxhs5f/o7DikPnsVe8HSLOE+Zus6TE7sazm9djwA7xd3k2sjlZyExNQEzUr3jhfxdxEDUwvZVs9Few6nZWPnzixikcPSp2mQdaQg3fiYiIiCqOMgsIXe4VwdPlxVi4rA46eavBSeM2gXALW4YfjuV95ASatMHDjkDCTy/nVHvsN2Y8Qlb/gaxitd2pg46PjhNh4TmsfUVtm9hv1BR8f6YFnntmqDaNqcOYP17taEJNx8vYEG+PDtPfwuBG2iTGkvZj6xb5EOzriF0WBjNPyBDUZyca5jl5tRy3EpMN417blNt7oVNvTJjeGfbpIhB9fiD6GVUD3ZdWB13/M0HpBVJVB84NRab2aAgmDOmDQcbPIRwyCi9/ugnnzRSsebUbCDfswb7/lWD1XGu5NUdVfzHctAv/NFHb1qX5zEfmzHPmA7Gmg+D4pVjxSSnIHhaCNA/1b/6Wf/OeSRcfDv6otayNCCDTcXviV7ipzf/vJh8g48XTJvNvhWpTxCA6FpkPyLaMr+LmsEjoPZxRpZDqgwVrgGod5U57Bbc6v6o80/DvJnPUx2yY65PIpjRrZOcy48Rw4UZkbRK/193cjlk0JfvYCaB26wfUzl8yk/CCofOX36LxTaY4H9zTGhNbmavomoQIrc3hjawk7LVQlB3zm5iXnN/mLei97yBeuJSKGFTH077d8JDF6qK2u3lwO3aLI6Zvu+J2u0pERER055VZQFjLvYnakUvDQPjI6qOSV2f0bZiJTBGkNDZuOFS7OyYveB2DfeuppYaO9eDVdTzeW7YYky0/Ms0q9q3H4913R6GDq5yzPZwDRmHGggUY/kD+Uq/Gga/j8V7t4eVpKIGrg8bt1OqX7/W10C2Na2c83L+FmHMdeI8LhJc2ujjc+n6EHz6chJ6G9SHT0VWke/FPeLOXcTrs0Xa4+rgNODWBl5dheiHtHKI2voen3jIKNg1a9sHw1sC+FesQV+xSIFs1QZ0Vj8Mu2BDpV0eVgd6otmUmHGSQY4bjI1NQ66d/o+pAo7sDvZvAbsPgfO3mqvs/iVq/DhLzF1GzodMi/0aw+2YkHPNswuqoPWUKqk/UomtXkY6J/eC4chqqywfqF0PNp6fBYVYjVDF08uLfAHafiHR9ZX5ntj7NuWr07qi2TwzuCHsL0xRFiT52QpKdv3Tvgo/r5e38RellNKBl7v6ahysCGtVBc/GudnVXdLNi+RpXr4mRjXzxY6++GNNEfRJmicg+h1/+bw/QehR6Fl7oSERERFTuVNEL8o0cZGdnIzMzE1VEhozuAtmn8P3T47C04TTlmY1uxt1fZp7C2qnjsPBkZ8z46SP0NKnrlnl0AZ56aSU8polgt38hOe7oBeg55Vc8uXgdHi+JiJeKLWvvEqSNjIXdTx/gnnLZfrAcu7EHcwe9juvTN+G9vpaqVqtSdr2M0e/9hRFfLMOTrc2Hr0RERETlhT47C/b29rCzs0OVKurd+DIrIaQ7IOUkYpSH/etwM8Wo9WJ2JlLOHkOk/K6hLxqbafhk7zce04a54VBICLYW9nC1GrXhhgT8sHSd1e0OqbRkIT10Ka5PigUG9oIDg0HbZCbg0NJF2C3e1qlRSIB3eRM+/HQ/3EbOwGgGg0RERFRBsYTwbpYZjaXjx+N7JSg0pwkGv78IUzpYeOJaejQWPi+f9TgU7308DR0s9ZiRfQ4bpozC/OPaZ3TGtNUf4WHj50hSKTuGv92W5vZE6toI1bdMg5OH9pkKIdvxGj3X1FHs8z+Jfd5SG+Ubh7Fw0hRsaPQ6vn17YN7SdyIiIqJyiiWElY29L55csAwzRnY3avcoODVB216T8N6yAoJBydEXz321GI83qlPwg7ftRGD5wWJM6WV4tAWVGdnWMbgjHHZPYTBYJGp73PcWFxAMSnY1xLoehZCZDAaJiIioYmMJIRERERERUSXAEkIiIiIiIiLKwYCQiIiIiIiokmJASEREREREVEkxICQiIiIiIqqkGBASERERERFVUgwIiYiIiIiIKikGhERERERERJUUA0IiIiIiIqJKigEhERERERFRJcWAkIiIiIiIqJJiQEhERERERFRJMSAkIiIiIiKqpPIFhFWqVNHeERERERER0d3CXKxnvoRQrw2JiIiIiIio4rMQ45kNCPVVGBESERERERHdLSzFeHkCQlmEqBQj3s7WxhAREREREVGFJ2K8nHjPiNk2hLezWUJIRERERER0t5AxnmkwKJktIaxSRS/+gKWEREREREREFZ2M7WSMZ4j3jOUEhIYvq1atqrxuZenYuQwREREREVFFJmI6GdsZ4jzToNBslVE7OztUq1YNGen/MCgkIiIiIiKqiEQsJ2M6GdvJGM84EDTIV2XUEDmqQWFVMYMbyL51S5uCiIiIiIiIyjsZw8lYTsZ0MrYzLiE0VkUvaO8V8qN83b59G7fETLKyspShXl8F9jXsxUyqoYr4T/5PRERERERE5YCI6kQkJ+K4W8jMyBSBn14pGaxevboyNFddVMoXEEqmQWF2dnbO0DDezJ8RERERERFRGTDU9pRDQxNAw9BSMCiZDQglOdoQ/MmXDAYN7xkQEhERERERlR+GgNDwMq0mai4YlCwGhJLhK0MAaBgaXgbG74mIiIiIiKj0GQd5hqBPvgxBoBwavrOkwIDQwDCJHBq/JyIiIiIiorJnCPoMQaHhfWGsCggNGAQSERERERGVb9YEggY2BYRERERERER098j3YHoiIiIiIiKqHBgQEhERERERVVIMCImIiIiIiCopBoRERERERESVFANCIiIiIiKiSooBIRERERERUSXFgJCIiIiIiKiSYkBIRERERERUSTEgJCIiIiIiqqQYEBIREREREVVSDAiJiIiIiIgqKQaERERERERElRQDQiIiIiIiokqKASEREREREVElxYCQiIiIiIiokmJASEREREREVEkxICQiIiIiIqqkGBASERERERFVUgwIiYiIiIiIKikGhERERERERJUUA0IiIiIiIqJKqope0N4X6NatW7h+/QbS09ORdSsL2dm3tW+osrCzq4rq1arD0dERderURrVq1bRviIiIiIioIrIqILx6NQWpaWnaJyJVXScn1KvnrH0iIiIiIqKKpsCAMDs7G4mJSUjPyFA+OzrWQI0ajrC3t0fVqqxtWtncvn0bmZmZyMhIR3q6tk/UqIH69V1hZ2enfCYiIiIiooqjwIAwIeGyEgzKqoFOTk5wcHDQvqHKTqfTIS0tTalKLINCN7eG2jdERERERFRRWCzmk9VEDcGgs7Mzg0HKQ+4Pcr+Q+4fcT+T+QkREREREFYvZgFCW+hjaDMqSQVYHJHPkfiH3D0nuL3K/ISIiIiKiisNsQCh7E5Vkm0GWDFJB5P4h9xPJsN8QlaakDU/Bo/H9GL8hSRtjjSQcWROCxf8XA502hmyRhPUT7xfr/SmsT9BGUfmTsAbjxbHhMXGN2GJU0RTt3EamirQeb8Zh27IQLN93QRtR8enObMTyRUuw7QyvelQ4swGhfLSEJDuQISqMYT8x7DdE5U7U1xjyyhd458XZ+PmcNo6IiEhI+mUuxs/+AjMfX4Lwu6KyUxJCF/wHM+eK5VqwgzeIqFBmA0L5nEFJ9iZKhdEh9puh6NyyI974JVkbVzKSf5mCoJZ+GPvN0VIr1bi4eQre2HxR+2Ti0ma8MWsdLHybw7CfGPabO+Z/c5W7gJ9HaZ+JLGncGZMDHODRvy983bRxpe4C1o9naQ0RGfCcUF65+vZAvyYO6PJMZ7S4Y49YLs39wRXt+w6CVxNXBPcNEJ+ICmY2IDQ8dL5CPVri93lo0bI1vvpd+yxdXodJYlyLL49qI0rDceyZF4tkpGHtpj1iWFKSEbFplwjGdIiYtxOx2tiSpBPrbNq0vcjI1kaY0OnSkBE6EyOmFxwUGvYTw35zpyT9Fae9IyqEcyCmrzqO/V8+A987Vgs+CRd2aG+JiHhOKL+ajcHiPcexalafOxg8le7+4NrnU/y65yA+7MNwkApXgSK+8qo1uk/3hguaYfTQ7mJYUlwQMLAX3OGA7jMHwFsba9b5zXhr6gB8axwMF+bSOsyYuBSYugxzB7trI/NyuH8U5n75JDw2vINPLJUiEhERERFRhcWAsNgc4P30Ouw/uRmzu5VcOCi5PDQfoSeP4usx3uJXCvB3LH7YfsaGaqXJ2DRvJjY1eg6zn/YrcN4OD07FaxNdsWnaO9h0SRtZRBd+CcHiRTugNNlOisDiV3qjc+PW6LEkUvneICliCWZOlN/dD//eA/HK/I2IUzu9VaRFrRDzCcHCjRHK58Pr5HzV16oobcK0SKyS49ZEwuhPNWlqByOLVuBIni8vIFT+zS9qo/KkiC/wyhA/eLTviMV/KKO039b+7lYSwpf9B2N7t4ZHYz8MmTgb6y003jZeJo/uvTF+5hKEnsufMrPS4hC6ZjZeeTzv3x+x8kkfha73czvU9actd17aOjH8vYG2fg3rW1m+pzvCX6Sv85DReGdDnE3VnNNObsTnrwxEj/Zi+cT6Dn5lLradLHj91K8l9ty0GGyb/zyGdC/s7ywsh4E2n+CcbfkfLI8ooBKP3CZi248Pzl3mmcsikKS0PdF+K+Rr7JYfz27HUuW3C/h9a9iwHxR1P1WIfWT5zNE563Ss+I1wsSqcnLXvLdIhbotcRjG9pY5nEsKwXK6HHSb7h5bG8fJ4y7c+TRTp2C5AgdvSyJ1a/6aKefznMN6uhn08LM7MOhTyHA/iXBH8PD7fEWN+WkuKkm5rt4WQFLVGOWcUduznObdoaZD7sznWnqdtP5/bdk7wus/V5v3GluU0Vdg1Qv0+RCyj8jEvS9ePinaNKPC8IpT1NeJimPr9Bksdoxmd+7RjzJBXyskXGSup8wrdNRgQVkK6g1/hve0OeGrqc/AutPqcA9o+MR2jXfbivdUHbTqBm0qM/QLvzD2CxItrMLmfuCAcAjy7eqC9m4c2hThJzu4N/+C52Brnjn4zXkBwBweEh/wHPZ6YiyM31al08b+K+XwhLkBqakJXyPmqr9B4LYU3xclOjhMZnvxp1uFCmJz+V1zQ5qlKQoz8m9iLuLDhKfQJDkE4PNDFPQAeWrsz9be343TMDswcJi4uS2Ohq++FLi11OLJlBSaPfBWhJifU6GUDxbzEMqV4Y4hYplmDvKHbNxdju4/G4tiC1qjIYK95Cp3b9MbYVzbgNFwRNGEQ+t2biG0r5mLIU7nrpCCFrvdrR9T1F2vu4qatE/n32hiFtn5DT8do22wBonX10SLAFRlRIkMxZSDe+aXgi7VKh+glwxDY+z+Y92siGvQYg/E96uPKr0swvrcIRpZY7hVUF7kAwUEDlTawNTx80MULOLVG/t0wfB5l+lcWlkPQifUzVsxnfEgEHDqMwawZg+ERJ7ZvcDdM3pD/0qw7swKvDBTbZPZGRGfUR88xg+CLGCyfPRp9Zu4Ql2Xtt+bvwBH5B7Fh+Fz5bfO/Xzjb94Oi7KeSLioEwWIfmbkiAon3inXaqj50h+S4p7A4WpvIIgfUd7ggfncu5myJ0cbldWHfAsycuwR/O3nk3oi6qKVRrk/4YKxYNsP69B/2GkJNKycU6dg2r/BtqUx1x9Z/XiVz/Ctil6jbdXsamg8S56AZI+B7Mwwzx4pMoMkxlns8hOGKcyDGTwhEg5QwzBs/EIFPf4HoQn+zaOm2bltIIlAKEefUIa8p54waPoMwNuecYXxONTq3HHJAl8fEcvdxx+ntc5X9eb3JfmXtebpo53MbzwkXbNlvbFtOcwq7Rqjff4GYa8rHvCxdPyraNaKA80q5uEa4uwLrxffvrMFhcwucFoGfZcdp+0UgrN28M+SVcvJFihI8r9DdRW/GmT/PKq9/0jPUV+Im/aueTfXDl8fkjjN5nVreX+/uOVm/LdEwLlF/asdX+lfHP6TvJP7W3bOVvvvw8fqQTTH6ayZ/Gx4ivvf/QH/4+kX97gXj9QO7atNP/FQf/lfeadVXov7Yprf1Lw7/l97PMO+HHhTDpvqQA0bTnf1B/5QY99SqOP21mJ/0IS9qaen6iP6/a/Onw6aXNm/5m4bXU2svmp02fu1Y8f1Y/fqzIt1r39CPfqiVMn2nx9/Qr45JNZn+gD7EZL7uIQdMprEwnelr/A/6+Hx/l6hf/6L4rven+sP5vrP8Orygq5jneP16s9sjI2efKcjhz2S6eukHD26ln7QyWp+qjTeIXzlUfC+/O63P0MYpLqzWT2rXVN/2g/15xqvza6qfH6mNMPbXav2zch08v1qfqI3Klaj/+Xn5t0/qf/5LG6U4op8v/2awSGO7J/U/njBNofjL9U8qvynT+cTXR4yWQayjj7op3z2xOl4bJ2T8qn9bTj/6a/1pbZQiK1H/297ovMtpTtx3+rcX/qqPz5MU8Vuf9cr/WxYUtt71ke+qy/TZEW2EMW2deL6rP6yNURjWr3i1fWqB/pjRTDMOvavvK7974jt9YalL3TVV31ZOO1jM3zhhqUf0i56Q82+lf2NX3hTnbIN2A/Qf/Jp366aK3x4sv+sr0qSNU1lYjhti+4h9y33wf/W/XdXGKVK1dTxU/6Pxbm2YXqzP/L+9Wr/7gvZBKnAftJGN+4HN+6l0dbv+DcOy7c2b4sT9H+mfUL4zPWZMZOzXfyCny7f+pXj9j3KbtjPeBtH6RYPVdE5alzc98ZunqvvRYJN5FenYNsOWbXkn1r85th7/ZtdNhv63d2VaBuiXxWmjNIn7f9UfMz4JGe0D8w8Z/2iq/thCeX4Wx/sb2/OfQ0zZmm4btoV6nRDp+M93+tPG88+K129df0T8iipj73+Vc8vgD37Nm97U/fr5cp8zPj9Ze54u7vm8kHNCUfYbm5bTgsKuEQVeay1dPyraNcLStilH14hjC+U+0Er/wf78e5pcT3KZn12fOyfDejAepyiBfAXdfawrIazTCB6tgIjk69qI/JKSYwEXd7jW0Ub8vhBBz85TqjKqN6h0OHNwFz55YSjeDzVzVyj5AD6Z/BDGztuFqPNyhJh+82cYOX2lSYcmaYiYNwr9XliKtQeTtU5cxLSnLN9pun50ISaNeQWfrNPScv4ovp02FDO2l2yvoAX7E2vfEumethJ7Tql3ay7uXYlpY+YhwtzdntJy/SAi1gHej3QruF2iCe8uQ8X0uxBhruqBTeIQ7/sp3n3MB+oj7TVpO7AoJBLo/xb++5hX3mqs7iMw4VkPJH2x3fydsZIWdQG+73+K4JZ5UphHlzmbsPwZf6NlcEC7fiPgK96FxhlV301JVKt/eHvBUA6qqOaKLl198i6nOc3GYNaEQHjkSYr4rUFj0EW8C/0j1ujOeUEsrPfi6joDa755Ab5GM3X412A8IneuMPGbBW6vGKwK2Ygk+OPDT2egnXHCnPwx/q23ECTW5PKQFTBXONVvxpeYHpi3sbzTvyZhwgjxJnYBtlpxYMWtnYvFSR6YPnsGuuSpEumEdo9PQjAisT4it/MidXqg3axPzPz2CASZb45bfEXcD6zeT4Xo/5uL5WLZfGeIZeuad9lcA57AIx20DwVxCMDD4lhF7BrsN+0J61wYtoWJeT3RF+20UWm/fI13osS4CV/ho0fzHCHw6P8BZk4QR0hUCJbvKO55Jz+btuUdWP9mlcjxn4Yk5cLnDy+T/dM1IDBPJ0uGfSDo/S8x+V/GP+oE3wnv48NAca1fMRerCuvlzMZ0W70tDNcJ10H4aNYYeBnPv5oH+g32F78ixYlzywokeT+DWVMD857znAIw9vk+4vy0BuGGKpDWnqeLez63kvX7jY3LWSBeI8wpT9cI3z7PiONHh1X7Ik3OHWk4HLZRDPvgEZNzt1kllq+gu4mVVUbrw72lGJw8owVgadjzVmu0mLdX2ymTkSRPOF2aiSk1dq4YPnMRth04ilMnjyuvIxtmYaCLTgSJe7X5GDuKPaHuGB2yDkfk9H9sxrt9xei9OxFl1HZNd/AzTPvmDNyHzsL6nHkfxZGvR2lT5Bexch1iHngOy/eo0x/ZpKZj05qdBfaeWaCGQ7FAW65Te+agtzbasoti+S6i+0vLsD9G/E3MQSyfKM4MyStxIM+ZzA/PG+Z78ke8qI3Nz2i6NU8qY15cY/g77fXZ0Pyd3PwZhR/EoHsbW8JBoak3OonBDyf+VD8XQ/DgPvkuOLrf9ysZkX59esDc6ayBezPxbxhizqifS9cYPPJQwZdEJ6e62jsj97qqmYSLibknUzcftG8rhovm4p0NMUgz1ybKJjqkpSUhLk6rppKSanJhsMzcei82JyfkXxP1Ub+pHF5AUkHV4s5FIlRmLPuPQM8m6qg8mvTFI/3FMHY7os1laOxqaG+MiYxrQIAY6hB5Ln9VnrzicPgXcSF37YPObc1k5Zzd4Sl2xnCx06nbU5sePgh+yEcZU3as2w+s3k/FskWHyXn5YGyf4i2bzLQEiW2/cHNEnjQl/f4rQsUvP/eQvzZGh2OHZCbGAU/2CzSTmXZAl35jlPPBqiOmGaDiKu62LOn1b62iHP+u8PL3EsMV+HDuGkRbPCYN+0AgHgmU05vyQs9HRUQotm3o77kZYOsUlG7rt4XhOoFHh5hkzk2ci8A2eaOhX1+0M3NoO7l5ibUSg2hD43Rrz9Mlfj43z+r9xtblLASvEabK2TWiSSCGyJsya0xujqdFIHSFGI7oV/BxYVHR8xV097AyIHSBqzwYzyVpdZuPI3KlGHyzB5HKXpMBnaxz3MQ9NwDxfRLvjumGZvfmHkR1WvVGYHvxRmduV3PAwJCFmD3AG0oho0Mz9OjVTbw5iIs50WMaDmxfiWSXUXh39ih458zbAXXqmjlYDfrOwZqvpiKgoTpNnRaj8Pho8T58D2LvYCFh26nLsGBCR7jIZ9xUc0JAYC9l/JmEO5eI5AsyouoIr4bqZ6s5NEIzeeso56ZA0TmaecZPWop6Iope+hSCHx+Y7zX5a9m4/YL5Xadc88H4BV9hfMAFLJ8yED6dOmLy/DU4IjM11rqVhrgwQycGreHTpiN6PL0E4drX1jK33svUtQvqMrSSmRZzRAaolRzGIMlc2xULPDzUC3F4UmGZoDQk7ZPDDfjQzD4X/Phs/J/8OufiaJg+AM3NZU5KWwntB+aV4LI1GYzgEaaZliSE7wgDvEegc869KEPJVQA8LJ2PGnpBXjKKFjwVpAjLW6rrvwAl8Lu+z3yD5c/4IH7Za+jXtjV6TJmL9VGmJyHDOvHKaTNtytVTDRQLP7YEq9Nt/bYwXCf6+RRSGmc4t2yebea4Fi8RGEuJNw07qLXn6RI4n5ckm5ezYLxGmDLsm+XlGuGBLv395ckV4WrmW5F2aBuWi+HYPialxAUpq/MZlVtWdyrj4SmCsxNp6k5/Igp7+o7CU13W4egJOSIZF38Bensal4Wn4cwv8/DGE13RWT4LUHl1xbTt2tf5dBTBYmFl6SIgldVJ23ujeYFXAxMtm8F0zh6eHZWhrpTu8JkT2KXgHj3vHJEKO+2t1eqihqE6cClq7huIoK5mXv3GYNaMF+BzrzZhReLeB7NWHcT+5TMw1keH9SGvYUj71ggOCRNHSSEubsQrPf3QY+wCJLqLdbBtD2Ji/8SFA++jnzYJFZOrD/zN7XPi9dizL2BWoEkV5rJQofYDJwQNGiNO1yuwbZ+2hyf8iq1bRGAyJFCp9lbhlNX6L7Hf9UDQrE0I2/Mt5ozxgW7DEkwe0lHpwCu80M5tiqCc7K8NfPzNHtdBPUbgOXE9CfI0OrKtPU8X53xeSmxaTrJdObpGeHQdIY4h42qjhuqiY9Cvq5XhIPMVZIbVAaGLh6yydwYXL4t96Y9dqNtlFPq0B3YcjgWuqyWHzdwM5YM6RH1p2s6vJFxH8kntLRVDMjKsu2FoJAMozeBZuzPp4D8C4ydMs/gKKouSmRLhBI/AZzBn+VHEHfgWkwOA8PlPYfKagqqsxGDxpP9g1c1AfB5+FItniBO+twecamlfV3R2Dupd38QkCxmpNKQqVRJsu4Fx4YLaw2UXVysujjIBsV7oaWZfy3mNMGrLoyYYqXc053eH9oMSXDaHDn0xWcxv+Q41k5z2x6/YJoKSR7rmrUbloOSiziDR0t39a0lQjhAHc1W/isnq5S2r47Dkf9epSSDGzvkJ+0/twfIpYltELEHwiyvUdSwVsk7Srqp1hFwLPB6LkG5rt4V2nbiQZLYfxlzauSXava/5Y1p7Bbc1PUdYe54uyvm8FBR5OSsIXiPyc+uLR4xrYOgiEb5C/OwLfdHeqqj0Ls9XUJFZHRDCpRl6K9U3kxEVnobuDzRDWxEUJm7ci9ibaUiCN9wN8eD1vdj42RngwVH4Wmu3p772IUS2Cywyd7jL+kM5VVcNRAAavld7b400RO6X07vDpSKWOFmQeLXwM5Aa2MfizEVbI8JLiPtFDFo2K8GH7+dy9emBIDHcFhFl4cRfRCKIFaGsidTSO1lbwcEtENM/eku5E1dg4+2EGByOEsPHnsWQYjREt1qWmX1CHNtXtLclrmVnBMuL5/b9OGZud9SJ5VdqFIyAv2zDbJU0REfI51N6IOhBc+2gjPnAf4S8gu7AkcI6yVCI6R+Vw40INaquU+ruyH7gBR/l3LwDh2NKYNkMncus2YbwlDQc3rcD6PqMyHho3ytc4Rsg2xNeQHi0+Yz0hehflc4iunTwVvNZxop1bNuwLe/0cWhQmr/rII6PaV/iv33E+7AjOK2ss9zjwfw+oMOxSLEdhUceKKB9lM3ptn5byOuEbLkQHRaBAlsxGs4tv0Sa7WzEGtaep60+n5eGElhOW6SbuSmsK82LKa8RZjihy0PiwE1ag0iRJl3kr/hZBMTBXQ0dKhWirM5nVO7ZEBC6ivBJh8TYTThwuBfaynrbrTph0Il1OLDlDHbi/pxnn8hMpFKl3q1ZThtC3bUz2LPiA/x0WPlYRC5o1lbswScW4psNWk9b12Kxac5QjJQBqCUZabhuODZ1yYhd8wreXCfmNqE3/M0cQboTSzGpd2t0HvgKdhbzYex3xD3ukE2kf9iwDrGF1aO/vy1Gi8GBEzb2ziKrCYvB6Fb3q59LWpPBGDtGbIw1r+INM8/1McehptLEHlfMBcJuHiKLK+wQGco8VaLScGT+RMxU6vnfAeKCFW7u4bW3dGrG4V6n3DuLprK14WXTu6M6xIVtR7EOJWOuXmo1EdNMxa0LWD/zeaVtQqmQQcNzYislrcCHi0w7DdHhyKLZ+FysunazRqCLmeM07fIFk78R48JC8IZsNhNoGnyY44AuAyahnQhI3plhzbOXHNC+3zNKlcfln4aYefD5BcQZPzi6Vl21k62zSeaD6ptxWD93NF5ZFFFwJvKO7AdOaB84SARdOny+cE1uiZEm7Y81+PmQ9sFKaucyOxAq0ijvYHfpHyCyYHl5PPQsxooMX+i82fmfl3ZxDebNU3uUHN/HKONWIse2DdvyTh2Hpkrsd3WI3mfu4e46ZPwjh/VRVzkJGY4HsQ98INaJyfEgn1H54RdinbSdhke6FpD1tDndNmyLJn0RLDsR2ReCz/4v/3VCdyZG3XcN55bYEMycb0WHRNaep4tzPpcKOyfYytblLKL67jKHAfwaafJ8UXGMvvyy2k6xVFT2a4QFTgFDMFYs2VJxXEf/bw2SXMXym8vMmlNW5zMq96wPCB1cUF8EgT/Mmoe1gzupjyxw8EPAqItY8u1KEV0ZPXKioRj/oBhufwdBD6jtB9t0GoBn5+zCaXWKIvPuO1XtIXT6ALSR7RI7DcU0kdkYPfNJyz19LpqAdlo6WjzQFUNm7UXyg0/iiwkdxeGbX2zoPOw8DySf2oyNUeYrvCZvnqC1ixSv7jNFQAzsnNY1Z9xXv6vT2ez3ebnzbfkYPpHjPnssZ9ykzWbS09gP3ZX1PQ9DOhn+VrymrstfXbdORwQMFcsoS3a1UdaIDRfBJnohoNSqnjgh6IVPMbatDuun9Ebwa0uwLSJGnDwjEb5jCWaO9cPYH/PeE27uE6iUGixfMBerwiLEhXojQnMei+GPLi/IrbsDb0z8D5bvEN/vWIF3JnbDs78Pxqxx6lSlS2TEVryG4OCO6DxxrtI1dZLsyStCpOO1uQgX2drpvQw9LprhrvVoJ4LkyV9sRHhUJI6ErcHnEzuix+o02NpRrEXiYh8kOw8UmYrxMp1iXYZuCMErj/fGMqdJmCxLEUqJ75hPMOchBxwJGYaRr8htrm7H5a8Nw7MhcXANeAGzHjNXGuGAU18PQ4+x/8HiDWHib8Kwfv5o9B27QlwcA/H5u2PyBR9meT+DOW/5wzVqCYY8PBqfi3kdOROHaGV+T6FH99kIN8oEOIjM8JxpIoMipx+oTh8u0yz20VeCe6PHtCWINmS8nbzhq6zXBSIjLbafmC5UTG/Ixib9MheTRTC4SgSF8wp6QPMd2g+cHpqG/z4qjpmw2RgcrB0zYlvI9PUduAGptt5N1jqXWfXia1gsjschAUoYl5dzH0z9aATaJYVh8pBhmKetz9ANczF+9GtYn+SE4LemIShPz3klc2xbvS3v1HFoqii/W62Gek07KwKXP7TMcOwSzHl8NPx7ymWMQFxSGpLOiP3unRcxTwTP7ab3VTKwCuPjYfTz2j4QgW3L/oOxzy7BEVcfTJ+tZngtKkK6rT+uXDFkxvsY4iquEy8arhMyjerx3yNoGObvUAM243NLD+W8FimuJ2K9yLRMEefkuWFasGDtebqY53OpkHNCUVi/nEXn4d9XqcETLc4F4+evQahc34v+g+AhS1D3ORFYqZOVisp8jbDIKRD9xDkwadtsvPOdDq5PDDYbEJtVVuczKv+05xHmke/B9MorUb/tNfmwzab6V7ck5oy/smWyMi7fQ9D/2qNfYHgQvOeD+oHj39AvP3BRv1s+hN5kWuXB9J5j9avPGv29eKkPdDd52Lx4XYv6Vv/q4+qD6Ds9Pln/9W8Xcx4Un2fav+P0u79/Q//iY/313f3VtPs91F//YshP+mPJRtOZvK5FfaV/qqucdrJ+fZz5aQxps/QyToel5fjnwNvK+DwPtNfGWXpZevi9XN9fv/ZIznIqL7MPphfLF/aG3s+zVZ7tWOAreaf+v2K+fu/usfgwf+sfTG/h4bYGqdH6n98dqg8wLIPyaqUPnPyufmu+B8Vn6A8vGKA+tNbw+mC/9p1wI1q/7Hl1PzHMZ+TbG/TxWXr9sa/lA14tPJje9OHlRiw+6FUy95DZrET94dX/1T/RzZAG7dVtlH7RISseRXthu/7tka2M/vZB/bML9+sTxXy3/kd8tuKBtlatd3O/s1Q+GDlVv/sN+dlknRT4QF0bHg4uZcXrd382ymSbi9//7FdlW5lSt8GT+q1nT+fbV9qOfFX/szhm8yt42ybuX6Cf1Mt4+cWr21D9G0vlutYmypGhP70+/zYNeOK/+p9N99ELG/Qv55nO6CHGMV/rRyoPMLbiQcA27gc276cGN8Q6fTvvMaWsU7Fc8dp6t2qbauRDs5X5FPIA6tTfv9O/nGf55O9O1f/4u+kxr7H52LbEym15p9a/KZuPf3m8atOPzl3niZHf6d9+wnh95c7L3BqO//Vd/bOm6+T5d/M+VLsgRTpv2XBcXd2vXzS5Q95zf7sO+knKb2jTSOL3flv4pD5QO85y5zlVv2y/UQrEdFadp62driAFnBOKvN9Yu5wWWHONiN/1as75SnmJZV4mj8/U7fo35GdLD6Y3u63L4TWikOOyTK4RBcjY/19t/++mXxSjjTRhcX8q0vFJd7sq8h8tNszx51n1gS5ubhb6nqYK7iI2Te2FaeeexOqV09G2wMbEOsQuGooh3zXCgnWL0NtC9/AJCQnK8P6mJdTriy4NaYbbmnZOBTd4vimmVapBOMDJKf9tMl2a1jtuYfMpZTnpsJDOguT8rYNYBtv+1AbyWUTaSi/V37FAVrv6R1tDNZ3gYG0X6Dn7SkHrNRKfNx6GeXgG68/PyHkwuqncbSRXgUiD9t4S67ZpQes1Dqse743wxw7i8/6yvLtgd2Y/EAo5pqwWNRf+Q5agzYd7sHxE4ffjbT1GcqYvgWPbmt++Y+vfhG2/a9jfzCxHznYV31pxjBV3/RZ1fVmzLRRG14kCl8fo3FLYPK39bavTaFYpnWttWM4iMV7fVpwfS1xpXiMS1mB8p9ewrf/7iPxyRP42y5rc7W7dOrBuPyml/aEQOWm7w+czKp/MBoTn4+ORnX0bDRo0QNWq1tcqpQrk0jpMCpqJixOXYfVU81VnJd3v8/DEiJVwD9mMkAHm64zdvn0bV65cgZ1dVTT29NTGEpUn1gWEd5pOBEwjh0QieM9PCK6wPehaokP4PD8EfxGIxVFfoV+RHphMRHQHWBkQEt2tzEZ71atVV4aZmZnKkO5CjYbitZBuSPxyAmas0TroMSWCxhkTlwJTl2GuhWBQMuwnhv2GqNxJiMMxOezvhfJyyyIpIgTjn12BGm+9dRcGgzLYVTsh8Z32rEkbQCKicuZynNqhisWH4BPd3cwGhI6OjsowIyNdGdLdyX3AIqwJ6YUaTg4WSwhrdJ+DkIkFP1DfsJ8Y9hui8iIpaqPSAcKqhUuwTXwOCgwoJxf7NBzeEgavWZuwfFwBXfhXNLoILJ8bgnkzh6HHkCU40vYZzHnayu7QiYjuKNkDr+zMZSM+X7ACSeJMNflfd9H5mMgGZquM3rp1C/EX1D7AnZ2d4aA+PZgoH51Oh5QUte93Tw93VKtmbaV+otKWhPUTO2LyFvWTR/8ZWPzhM/Atw3akd73YL9CjXwji4IR2IyZhziyxvkurY2IiomKJxOfth2Ge0jGtA7o88yk+nNXHut5Hie4yZgNC6erVFKSmpSkZfBkU2tnZad8QqbKzs5VgUN5AqOvkhHr1WC+MyhtDY/1S6GCBiIgqNkNHNWXc6RxRWbMYEEoJCZeRnpGhBIVOsjcllhSSRpYMpqWlKcGgY40acHOz0P0oERERERGVWwUGhLIEKDExSQkKJUfHGqhRwxH29vbsfbQSkr2Jyg5kZJvB9HRtnxDBYP36rixBJiIiIiKqgAoMCA0M1UeJjLGaKBERERFRxWZVQCjJqoHXr99Aeno6sm5lKc8ppMpFPmdQPlpC9iZap05tdiBDRERERFTBWR0QEhERERER0d2FDQGJiIiIiIgqKQaERERERERElRTbEFYQbL9HREREREQljb2MVlDs4ZOIiIiIiIqrwICQzyEsP/gMQCIiIiIiKmkFBoQJCZeVYFBWT3RycoKDg4P2DZUlnU6HtLQ0pRqvDArd3Bpq3xAREREREVnPYjGfrCZqCAadnZ0ZDJYjclvIbSK3jdxGclsRERERERHZymxAKEueDG0GZckgqySWP3KbyG0jyW0ltxkREREREZEtzAaEsjdRSbYZZMlg+SW3jdxGkmGbERERERERWctsQCgfLSHJDmSofDNsI8M2IyIiIiIispbZgFA+Z1CSvYlS+WbYRoZtRkREREREZC2zAaHhofMV6tESv89Di5at8dXv2mfp8jpMEuNafHlUG3H3MWwjwzYjIiIiIiKyVgWK+IiIiIiIiKgkMSC829yMwaqZz2PmmhjotFFERERERETmMCC8y1zY+BpeWbEDy195DT+f00YSERERERGZYV1AeH0X3mrZGmPXnNFG5HdxzVC0aPkK9lzXRiANF/cuxVtTByBItuNr6Yd+T0zBV7+cyVdyFfWl+L7LZ4i9lYyIb6ZgZG9t+mkLEXVNmyiPNJz5ZR7eeKIrOhvmPXOd9l1+vRu5QPfnZnw1Q0tL78fw/ub86bCJ1j5RabN4/SjWvvWYOu8uXTFtxVHkrAYhefOE/O0bJa3d46TNydoIw7QTsPOyWMbN7+DZgX7KNEHPvoNNfxae4rpuPnCVb1x9UN9ZGUVERERERGSWdQFhnUbwaAVEJBuHOXklJccCLu5wraON+H2hCGLm4YftZ3BRGaHDmYO78MkLQ/F+qPrQ+zySD+CTyQ9h7LxdiDovR4jpN3+GkdNXan9vkIaIeaPQ74WlWHswGWooJaY9ZWaemutHF2LSmFfwyTotLeeP4ttpQzFje24gVlSJMSsxre9jeGPlUXXeycnYNEcEnL9YTk/h/hQBpljGaSux55QaBF7cK35nzDxEFBITOgW+j4hjRxET/j6C1OfWExERERERmWVlldH6cG8pBifPaAFYGva81Rot5u3VStmSkSSrJ3ZpJqbU2Lli+MxF2HbgKE6dPK68jmyYhYEuOhEk7tXmY+wo9oS6Y3TIOhyR0/+xGe/2FaP37kTUJXUKSXfwM0z75gzch87C+px5H8WRr0dpU+QXsXIdYh54Dsv3qNMf2aSmY9OanSbBpu1+eOsdRBjN+1ToLPQW49fuNLeM1roo1sVFdH9pGfbHiHnGHMTyie5iNa/EgWhtkgI4ODnByUH7QEREREREZIGVAaELXJuIwbkkJCqfjyNypRh8sweRSkSYAd1NMWjiLqbU+D6Jd8d0Q7N7cyOTOq16I7C9eKMzV8zlgIEhCzF7gDeUQkaHZujRq5t4cxAXcyKrNBzYvhLJLqPw7uxR8M6ZtwPq1C0gAuo7B2u+moqAhuo0dVqMwuOjxfvwPYgtZiGhy+C880aj3ugjA1mzy2i9tlOXYcGEjnCpJj5Uc0JAYC9l/JmEYiaYiIiIiIhIY3WnMh6eIjg7kaaWCJ6Iwp6+o/BUl3U4ekKOSMbFX4Denu7yg8a0nZ98dcW07drX+XQUwaLx35sjAlJZnbS9N5oXEP/l07IZTOfs4dlRGepuKYMi8+/W3WTeLhj42XGc+mxobnBcBIFd/ESYS0REREREVHqsDghdPJqJf8/g4mXg4h+7ULfLKPRpD+w4HAtcV0sOm7kZQiAdor40bedXEq4j+aT2loiIiIiIiIrF6oAQLs3QW6m+mYyo8DR0f6AZ2oqgMHHjXsTeTEMSvOFuiAev78XGz84AD47C14a2dcprH0Jkdcoic4e7rHKaU3XVQASg4Xu199ZIQ+R+Ob07XO5Vx9x5OsQejtLeExERERER3Xk2BISuInzSITF2Ew4c7oW2rcS4Vp0w6MQ6HNhyBjtxf+5jDpQAUXBrltOGUHftDPas+AA/HVY+FpELmrV1B04sxDcbtMdGXIvFpjlDMVIGoJZkpOG6oUmfLhmxa17Bm+vE3Cb0hr+Zepm6E0sxqXdrdB74CnYadWhTVGrpKrBjxy4kyyqq8vEai8bhmXlHlfElig+mJyIiIiIiK1kfEDq4oL4IAn+YNQ9rB3eCtzLODwGjLmLJtytF1GP0yImGYvyDYrj9HQQ9oLYfbNNpAJ6dswun1SmKzLvvVLWH0OkD0Ea2S+w0FNNWAKNnPqn07mnWoglop6WjxQNdMWTWXiQ/+CS+mNDRbDu92NB52HkeSD61GRujSqDCa6vueN5FzPebKejsI9Lg0xVjPz4KjyA/dT2WID6YnoiIiIiIrGV9QAh3NPNX341ub+jwxAn+XQcgOVkHtHfPfeQEmmH0omV4baihMxcntO07Cu+u+QUho5URRddwAOZ+Mwuju6kP2XPvNgCzVy7D7F5qKVwe93bE6LmjMLyLN5pp1VldWnhj+NQPsW3pdLStpY4z5R00Hb0by2kHYFDb4nQNo3HoiIkr5uApLc0uLfzwVMg6LPnoeXRSxpQcPpieiIiIiIisVUUvaO9z/HlWLVpyc3NThlS+JSQkKMP7m8pngwC6tDToHPgsQiIiIiIiKpjZEkI7O3X07du3lSGVX4ZtZNhmEh9MT0RERERE1jAbEFavVl0ZZmZmKkMqvwzbyLDNiIiIiIiIrGU2IHR0dFSGGRnpypDKL8M2MmwzIiIiIiIia5kNCOvUqa0M09MzoNPx4QXlldw2chtJhm1GRERERERkLbMBYbVq1VDXSe0RMy0tDdnZ2cp7Kj/kNpHbRpLbSm4zIiIiIiIiW5gNCKV69ZzhWKMGbt26hZSUFJYUliNyW8htIreN3EZyWxEREREREdnK7GMnDGQpVGJiEtIz1GqJjo41UKOGI+zt7VG1qsVYkkqB7E1UdiAj2wwaqonKYLB+fVfY2dkpn4mIiIiIiGxRYEBocPVqClK16olUPshqoiwZJCIiIiKi4rAqIJRk9cTr128gPT0dWbeykJ3NZxTeSfI5g/LRErI3UdmBDNsMEhERERFRcVkdEBIREREREdHdhQ0BiYiIiIiIKikGhERERERERJUUA0IiIiIiIqJKigEhERERERFRJcWAkIiIiIiIqJJiQEhERERERFQpAf8PxzlJ5CUSjMEAAAAASUVORK5CYII=)"
      ]
    },
    {
      "cell_type": "markdown",
      "metadata": {
        "id": "Ix_mMBtIpoS3"
      },
      "source": [
        "Use W&B Artifacts to track and version any serialized data as the inputs and outputs of your W&B Runs. For example, a model training run might take in a dataset as input and trained model as output. In addition to logging hyper-parameters and metadata to a run, you can use an artifact to log the dataset used to train the model as input and the resulting model checkpoints as outputs. You will always be able answer the question “what version of my dataset was this model trained on”."
      ]
    },
    {
      "cell_type": "markdown",
      "metadata": {
        "id": "teovWmGZwsGT"
      },
      "source": [
        "## Train eval split"
      ]
    },
    {
      "cell_type": "code",
      "execution_count": 5,
      "metadata": {
        "id": "PdnSvFjRwtRy"
      },
      "outputs": [],
      "source": [
        "import random\n",
        "\n",
        "random.shuffle(alpaca)"
      ]
    },
    {
      "cell_type": "code",
      "execution_count": 6,
      "metadata": {
        "id": "IVXa5iEH0P6Q"
      },
      "outputs": [],
      "source": [
        "train_dataset = alpaca[:-1000]\n",
        "eval_dataset = alpaca[-1000:]"
      ]
    },
    {
      "cell_type": "code",
      "execution_count": 7,
      "metadata": {
        "colab": {
          "base_uri": "https://localhost:8080/",
          "height": 206
        },
        "id": "VNK2LTZO0SJF",
        "outputId": "8c480ef8-0c7e-4b3b-a9c9-d2bc8fa836d5"
      },
      "outputs": [
        {
          "data": {
            "application/vnd.google.colaboratory.intrinsic+json": {
              "summary": "{\n  \"name\": \"train_df\",\n  \"rows\": 51002,\n  \"fields\": [\n    {\n      \"column\": \"instruction\",\n      \"properties\": {\n        \"dtype\": \"string\",\n        \"num_unique_values\": 51002,\n        \"samples\": [\n          \"Transform the following sentence into a yes/no question.\",\n          \"Outline the steps to solve the following math problem\",\n          \"Explain polarity in sentiment analysis.\"\n        ],\n        \"semantic_type\": \"\",\n        \"description\": \"\"\n      }\n    },\n    {\n      \"column\": \"input\",\n      \"properties\": {\n        \"dtype\": \"category\",\n        \"num_unique_values\": 18840,\n        \"samples\": [\n          \"I ate lunch at noon.\",\n          \"April 5, 2020 - 10:00 AM UTC and April 7, 2020 - 08:00 AM UTC\",\n          \"[25, 32, 10, 17, 9]\"\n        ],\n        \"semantic_type\": \"\",\n        \"description\": \"\"\n      }\n    },\n    {\n      \"column\": \"output\",\n      \"properties\": {\n        \"dtype\": \"string\",\n        \"num_unique_values\": 50756,\n        \"samples\": [\n          \"As an AI, I am not capable of forming opinions in the true sense of the word, but I can provide information and thoughts on the topic. Environmental conservation is a crucial issue in today\\u2019s world. The earth is currently facing an array of environmental challenges, from climate change, pollution, deforestation, and loss of biodiversity. Humanity has a significant impact on the environment, and it is our responsibility to ensure the preservation of the natural world and all its inhabitants.\\n\\nWithout a doubt, human activity has contributed significantly to the degradation of the environment. We have witnessed a rapid decline in the earth\\u2019s natural resources, unhealthy air quality, and uncertainty surrounding the future of the environment. We need to act fast to mitigate these concerns and begin making conscious efforts to protect and conserve the environment.\\n\\nEnvironmental conservation is not only necessary for our survival and well-being, but it is also essential for the survival of other species that we share the planet with. Biodiversity is critical for maintaining the balance of ecosystems and provides numerous benefits, including food security, medicine, and natural resources. However, human-induced habitat loss is causing a rapid decline in biodiversity. It is our duty to protect and preserve habitats and ecosystems to ensure the survival of all species.\\n\\nThere are various practical measures we can take to reduce our impact on the environment, such as reducing our carbon footprint, practicing sustainable living, and supporting environmentally-friendly products and policies. Governments and businesses also have a significant role to play in environmental conservation. They need to adopt green policies and regulations, invest in renewable energy, and promote environmentally sustainable practices.\\n\\nIn conclusion, environmental conservation is an issue that requires immediate and collective action. We are all responsible for the world we live in, and it is up to us to make a difference. By making conscious efforts to reduce our impact on the environment, we can ensure a healthy and sustainable future for ourselves and future generations.\",\n          \"1. Reduction in carbon footprint - By using public transport, individuals can significantly reduce their carbon footprint since fewer cars on the road contribute to decreased air pollution and greenhouse gas emissions.\\n\\n2. Cost-effective transportation option- Public transportation is often cheaper than vehicle ownership, fuel costs, and maintenance expenses. This, in turn, can help individuals save money on transportation and have more disposable income for other essential expenses.\\n\\n3. Reduced traffic congestion - Public transport can move a large number of people efficiently and can help reduce the number of private vehicles on the road during peak traffic hours. This, in turn, can reduce traffic congestion and reduce travel time for everyone on the road, including those using private cars.\",\n          \"Media literacy refers to the ability to access, analyze, evaluate, and create media in a variety of forms. It involves understanding how media messages are constructed, how they influence individuals and society, and how to critically evaluate them.\\n\\nMedia can take many forms, including print, television, radio, film, and digital media such as social media, websites, and video games. Media literacy involves understanding the techniques used to create media messages, such as the use of symbolism, language, and images. Individuals who are media literate can recognize the biases and perspectives that are present in media content and are able to judge the reliability of media sources.\\n\\nMedia literacy is an important skill in today's society, as media messages often have significant influence on our thoughts, beliefs, and behaviors. Being able to critically evaluate media messages allows individuals to make informed decisions about the media they consume and the messages they believe. It also provides the tools to create and share media content in a responsible and ethical manner.\\n\\nIn summary, media literacy is the ability to critically analyze and evaluate the media content we consume, understand the techniques and biases present in media messages, and use this knowledge to make informed decisions about the media we consume and create.\"\n        ],\n        \"semantic_type\": \"\",\n        \"description\": \"\"\n      }\n    }\n  ]\n}",
              "type": "dataframe",
              "variable_name": "train_df"
            },
            "text/html": [
              "\n",
              "  <div id=\"df-e13f8954-f16e-42f0-873f-96cfae0948c7\" class=\"colab-df-container\">\n",
              "    <div>\n",
              "<style scoped>\n",
              "    .dataframe tbody tr th:only-of-type {\n",
              "        vertical-align: middle;\n",
              "    }\n",
              "\n",
              "    .dataframe tbody tr th {\n",
              "        vertical-align: top;\n",
              "    }\n",
              "\n",
              "    .dataframe thead th {\n",
              "        text-align: right;\n",
              "    }\n",
              "</style>\n",
              "<table border=\"1\" class=\"dataframe\">\n",
              "  <thead>\n",
              "    <tr style=\"text-align: right;\">\n",
              "      <th></th>\n",
              "      <th>instruction</th>\n",
              "      <th>input</th>\n",
              "      <th>output</th>\n",
              "    </tr>\n",
              "  </thead>\n",
              "  <tbody>\n",
              "    <tr>\n",
              "      <th>0</th>\n",
              "      <td>Find an example of a business that has success...</td>\n",
              "      <td></td>\n",
              "      <td>One example of a business that has used creati...</td>\n",
              "    </tr>\n",
              "    <tr>\n",
              "      <th>1</th>\n",
              "      <td>Perform an element search on the given array</td>\n",
              "      <td>[5, 9, 20, 19, 11, 67, 33]</td>\n",
              "      <td>Sure, on which element would you like me to pe...</td>\n",
              "    </tr>\n",
              "    <tr>\n",
              "      <th>2</th>\n",
              "      <td>Calculate the kinetic energy of a moving object</td>\n",
              "      <td>Object mass: 10kg, Object velocity: 20 m/s</td>\n",
              "      <td>The kinetic energy of a moving object is given...</td>\n",
              "    </tr>\n",
              "    <tr>\n",
              "      <th>3</th>\n",
              "      <td>Describe the possible consequences of someone ...</td>\n",
              "      <td></td>\n",
              "      <td>Living in an overcrowded city can have numerou...</td>\n",
              "    </tr>\n",
              "    <tr>\n",
              "      <th>4</th>\n",
              "      <td>Compose a song chorus</td>\n",
              "      <td></td>\n",
              "      <td>(Upbeat Tempo)\\nIn the light of the day, we're...</td>\n",
              "    </tr>\n",
              "  </tbody>\n",
              "</table>\n",
              "</div>\n",
              "    <div class=\"colab-df-buttons\">\n",
              "\n",
              "  <div class=\"colab-df-container\">\n",
              "    <button class=\"colab-df-convert\" onclick=\"convertToInteractive('df-e13f8954-f16e-42f0-873f-96cfae0948c7')\"\n",
              "            title=\"Convert this dataframe to an interactive table.\"\n",
              "            style=\"display:none;\">\n",
              "\n",
              "  <svg xmlns=\"http://www.w3.org/2000/svg\" height=\"24px\" viewBox=\"0 -960 960 960\">\n",
              "    <path d=\"M120-120v-720h720v720H120Zm60-500h600v-160H180v160Zm220 220h160v-160H400v160Zm0 220h160v-160H400v160ZM180-400h160v-160H180v160Zm440 0h160v-160H620v160ZM180-180h160v-160H180v160Zm440 0h160v-160H620v160Z\"/>\n",
              "  </svg>\n",
              "    </button>\n",
              "\n",
              "  <style>\n",
              "    .colab-df-container {\n",
              "      display:flex;\n",
              "      gap: 12px;\n",
              "    }\n",
              "\n",
              "    .colab-df-convert {\n",
              "      background-color: #E8F0FE;\n",
              "      border: none;\n",
              "      border-radius: 50%;\n",
              "      cursor: pointer;\n",
              "      display: none;\n",
              "      fill: #1967D2;\n",
              "      height: 32px;\n",
              "      padding: 0 0 0 0;\n",
              "      width: 32px;\n",
              "    }\n",
              "\n",
              "    .colab-df-convert:hover {\n",
              "      background-color: #E2EBFA;\n",
              "      box-shadow: 0px 1px 2px rgba(60, 64, 67, 0.3), 0px 1px 3px 1px rgba(60, 64, 67, 0.15);\n",
              "      fill: #174EA6;\n",
              "    }\n",
              "\n",
              "    .colab-df-buttons div {\n",
              "      margin-bottom: 4px;\n",
              "    }\n",
              "\n",
              "    [theme=dark] .colab-df-convert {\n",
              "      background-color: #3B4455;\n",
              "      fill: #D2E3FC;\n",
              "    }\n",
              "\n",
              "    [theme=dark] .colab-df-convert:hover {\n",
              "      background-color: #434B5C;\n",
              "      box-shadow: 0px 1px 3px 1px rgba(0, 0, 0, 0.15);\n",
              "      filter: drop-shadow(0px 1px 2px rgba(0, 0, 0, 0.3));\n",
              "      fill: #FFFFFF;\n",
              "    }\n",
              "  </style>\n",
              "\n",
              "    <script>\n",
              "      const buttonEl =\n",
              "        document.querySelector('#df-e13f8954-f16e-42f0-873f-96cfae0948c7 button.colab-df-convert');\n",
              "      buttonEl.style.display =\n",
              "        google.colab.kernel.accessAllowed ? 'block' : 'none';\n",
              "\n",
              "      async function convertToInteractive(key) {\n",
              "        const element = document.querySelector('#df-e13f8954-f16e-42f0-873f-96cfae0948c7');\n",
              "        const dataTable =\n",
              "          await google.colab.kernel.invokeFunction('convertToInteractive',\n",
              "                                                    [key], {});\n",
              "        if (!dataTable) return;\n",
              "\n",
              "        const docLinkHtml = 'Like what you see? Visit the ' +\n",
              "          '<a target=\"_blank\" href=https://colab.research.google.com/notebooks/data_table.ipynb>data table notebook</a>'\n",
              "          + ' to learn more about interactive tables.';\n",
              "        element.innerHTML = '';\n",
              "        dataTable['output_type'] = 'display_data';\n",
              "        await google.colab.output.renderOutput(dataTable, element);\n",
              "        const docLink = document.createElement('div');\n",
              "        docLink.innerHTML = docLinkHtml;\n",
              "        element.appendChild(docLink);\n",
              "      }\n",
              "    </script>\n",
              "  </div>\n",
              "\n",
              "\n",
              "<div id=\"df-ff76b1c1-68c1-4dff-af9e-291428fbd8d9\">\n",
              "  <button class=\"colab-df-quickchart\" onclick=\"quickchart('df-ff76b1c1-68c1-4dff-af9e-291428fbd8d9')\"\n",
              "            title=\"Suggest charts\"\n",
              "            style=\"display:none;\">\n",
              "\n",
              "<svg xmlns=\"http://www.w3.org/2000/svg\" height=\"24px\"viewBox=\"0 0 24 24\"\n",
              "     width=\"24px\">\n",
              "    <g>\n",
              "        <path d=\"M19 3H5c-1.1 0-2 .9-2 2v14c0 1.1.9 2 2 2h14c1.1 0 2-.9 2-2V5c0-1.1-.9-2-2-2zM9 17H7v-7h2v7zm4 0h-2V7h2v10zm4 0h-2v-4h2v4z\"/>\n",
              "    </g>\n",
              "</svg>\n",
              "  </button>\n",
              "\n",
              "<style>\n",
              "  .colab-df-quickchart {\n",
              "      --bg-color: #E8F0FE;\n",
              "      --fill-color: #1967D2;\n",
              "      --hover-bg-color: #E2EBFA;\n",
              "      --hover-fill-color: #174EA6;\n",
              "      --disabled-fill-color: #AAA;\n",
              "      --disabled-bg-color: #DDD;\n",
              "  }\n",
              "\n",
              "  [theme=dark] .colab-df-quickchart {\n",
              "      --bg-color: #3B4455;\n",
              "      --fill-color: #D2E3FC;\n",
              "      --hover-bg-color: #434B5C;\n",
              "      --hover-fill-color: #FFFFFF;\n",
              "      --disabled-bg-color: #3B4455;\n",
              "      --disabled-fill-color: #666;\n",
              "  }\n",
              "\n",
              "  .colab-df-quickchart {\n",
              "    background-color: var(--bg-color);\n",
              "    border: none;\n",
              "    border-radius: 50%;\n",
              "    cursor: pointer;\n",
              "    display: none;\n",
              "    fill: var(--fill-color);\n",
              "    height: 32px;\n",
              "    padding: 0;\n",
              "    width: 32px;\n",
              "  }\n",
              "\n",
              "  .colab-df-quickchart:hover {\n",
              "    background-color: var(--hover-bg-color);\n",
              "    box-shadow: 0 1px 2px rgba(60, 64, 67, 0.3), 0 1px 3px 1px rgba(60, 64, 67, 0.15);\n",
              "    fill: var(--button-hover-fill-color);\n",
              "  }\n",
              "\n",
              "  .colab-df-quickchart-complete:disabled,\n",
              "  .colab-df-quickchart-complete:disabled:hover {\n",
              "    background-color: var(--disabled-bg-color);\n",
              "    fill: var(--disabled-fill-color);\n",
              "    box-shadow: none;\n",
              "  }\n",
              "\n",
              "  .colab-df-spinner {\n",
              "    border: 2px solid var(--fill-color);\n",
              "    border-color: transparent;\n",
              "    border-bottom-color: var(--fill-color);\n",
              "    animation:\n",
              "      spin 1s steps(1) infinite;\n",
              "  }\n",
              "\n",
              "  @keyframes spin {\n",
              "    0% {\n",
              "      border-color: transparent;\n",
              "      border-bottom-color: var(--fill-color);\n",
              "      border-left-color: var(--fill-color);\n",
              "    }\n",
              "    20% {\n",
              "      border-color: transparent;\n",
              "      border-left-color: var(--fill-color);\n",
              "      border-top-color: var(--fill-color);\n",
              "    }\n",
              "    30% {\n",
              "      border-color: transparent;\n",
              "      border-left-color: var(--fill-color);\n",
              "      border-top-color: var(--fill-color);\n",
              "      border-right-color: var(--fill-color);\n",
              "    }\n",
              "    40% {\n",
              "      border-color: transparent;\n",
              "      border-right-color: var(--fill-color);\n",
              "      border-top-color: var(--fill-color);\n",
              "    }\n",
              "    60% {\n",
              "      border-color: transparent;\n",
              "      border-right-color: var(--fill-color);\n",
              "    }\n",
              "    80% {\n",
              "      border-color: transparent;\n",
              "      border-right-color: var(--fill-color);\n",
              "      border-bottom-color: var(--fill-color);\n",
              "    }\n",
              "    90% {\n",
              "      border-color: transparent;\n",
              "      border-bottom-color: var(--fill-color);\n",
              "    }\n",
              "  }\n",
              "</style>\n",
              "\n",
              "  <script>\n",
              "    async function quickchart(key) {\n",
              "      const quickchartButtonEl =\n",
              "        document.querySelector('#' + key + ' button');\n",
              "      quickchartButtonEl.disabled = true;  // To prevent multiple clicks.\n",
              "      quickchartButtonEl.classList.add('colab-df-spinner');\n",
              "      try {\n",
              "        const charts = await google.colab.kernel.invokeFunction(\n",
              "            'suggestCharts', [key], {});\n",
              "      } catch (error) {\n",
              "        console.error('Error during call to suggestCharts:', error);\n",
              "      }\n",
              "      quickchartButtonEl.classList.remove('colab-df-spinner');\n",
              "      quickchartButtonEl.classList.add('colab-df-quickchart-complete');\n",
              "    }\n",
              "    (() => {\n",
              "      let quickchartButtonEl =\n",
              "        document.querySelector('#df-ff76b1c1-68c1-4dff-af9e-291428fbd8d9 button');\n",
              "      quickchartButtonEl.style.display =\n",
              "        google.colab.kernel.accessAllowed ? 'block' : 'none';\n",
              "    })();\n",
              "  </script>\n",
              "</div>\n",
              "\n",
              "    </div>\n",
              "  </div>\n"
            ],
            "text/plain": [
              "                                         instruction  \\\n",
              "0  Find an example of a business that has success...   \n",
              "1       Perform an element search on the given array   \n",
              "2    Calculate the kinetic energy of a moving object   \n",
              "3  Describe the possible consequences of someone ...   \n",
              "4                              Compose a song chorus   \n",
              "\n",
              "                                        input  \\\n",
              "0                                               \n",
              "1                  [5, 9, 20, 19, 11, 67, 33]   \n",
              "2  Object mass: 10kg, Object velocity: 20 m/s   \n",
              "3                                               \n",
              "4                                               \n",
              "\n",
              "                                              output  \n",
              "0  One example of a business that has used creati...  \n",
              "1  Sure, on which element would you like me to pe...  \n",
              "2  The kinetic energy of a moving object is given...  \n",
              "3  Living in an overcrowded city can have numerou...  \n",
              "4  (Upbeat Tempo)\\nIn the light of the day, we're...  "
            ]
          },
          "execution_count": 7,
          "metadata": {},
          "output_type": "execute_result"
        }
      ],
      "source": [
        "import pandas as pd\n",
        "\n",
        "train_df = pd.DataFrame(train_dataset)\n",
        "eval_df = pd.DataFrame(eval_dataset)\n",
        "\n",
        "train_df.head()"
      ]
    },
    {
      "cell_type": "markdown",
      "metadata": {
        "id": "M6nu3ek41Pnr"
      },
      "source": [
        "When orient='records' is used:\n",
        "\n",
        "- Each row of the DataFrame is converted into a JSON object.\n",
        "- The keys of the JSON objects are the column names.\n",
        "- The values of the JSON objects are the corresponding values in each row."
      ]
    },
    {
      "cell_type": "code",
      "execution_count": 8,
      "metadata": {
        "colab": {
          "base_uri": "https://localhost:8080/",
          "height": 237,
          "referenced_widgets": [
            "05e524beabcd4dd0a7b03f0c5bda99e1",
            "3b74f7f15d8b4f9e9ae089af5d79fa87",
            "47069f30d9024e58a09f4e03a43bddb7",
            "84cae00317c446fdb97a7b75a4e1be6f",
            "ab9f843a602843e897fb23ebd911d277",
            "baba3e966375477196ada2fa13f197b0",
            "9c88f92a9abe45d68e904b533b5a706f",
            "284d0e854f03447a8f65f124b3cfd0a6",
            "9a727f02efd440368625c64de49ae491",
            "d0f5903c9000439a8f48a462f09688b9",
            "75db909a501a4e69b7be25824c7c0dfe",
            "508d503b0aed46d8a0a4cf9d0faadcab",
            "cb9a8ca8e47d4f1790da727af4221240",
            "f53d27ad9bfc45ef95d2bdac1d10ce82",
            "44b7bfc6529f4dd8a710d9eca61f3856",
            "5828bd49fff24b9da793c8cc707b5749"
          ]
        },
        "id": "G-SkM8vD1P9K",
        "outputId": "48704ffa-2d65-4e67-e049-fd3a8ca24b4e"
      },
      "outputs": [
        {
          "data": {
            "application/vnd.jupyter.widget-view+json": {
              "model_id": "05e524beabcd4dd0a7b03f0c5bda99e1",
              "version_major": 2,
              "version_minor": 0
            },
            "text/plain": [
              "VBox(children=(Label(value='Waiting for wandb.init()...\\r'), FloatProgress(value=0.011113158822222937, max=1.0…"
            ]
          },
          "metadata": {},
          "output_type": "display_data"
        },
        {
          "data": {
            "text/html": [
              "Tracking run with wandb version 0.16.6"
            ],
            "text/plain": [
              "<IPython.core.display.HTML object>"
            ]
          },
          "metadata": {},
          "output_type": "display_data"
        },
        {
          "data": {
            "text/html": [
              "Run data is saved locally in <code>/content/wandb/run-20240428_093751-w1h61b2a</code>"
            ],
            "text/plain": [
              "<IPython.core.display.HTML object>"
            ]
          },
          "metadata": {},
          "output_type": "display_data"
        },
        {
          "data": {
            "text/html": [
              "Syncing run <strong><a href='https://wandb.ai/nust-isb/alpaca_ft/runs/w1h61b2a' target=\"_blank\">silver-sunset-5</a></strong> to <a href='https://wandb.ai/nust-isb/alpaca_ft' target=\"_blank\">Weights & Biases</a> (<a href='https://wandb.me/run' target=\"_blank\">docs</a>)<br/>"
            ],
            "text/plain": [
              "<IPython.core.display.HTML object>"
            ]
          },
          "metadata": {},
          "output_type": "display_data"
        },
        {
          "data": {
            "text/html": [
              " View project at <a href='https://wandb.ai/nust-isb/alpaca_ft' target=\"_blank\">https://wandb.ai/nust-isb/alpaca_ft</a>"
            ],
            "text/plain": [
              "<IPython.core.display.HTML object>"
            ]
          },
          "metadata": {},
          "output_type": "display_data"
        },
        {
          "data": {
            "text/html": [
              " View run at <a href='https://wandb.ai/nust-isb/alpaca_ft/runs/w1h61b2a' target=\"_blank\">https://wandb.ai/nust-isb/alpaca_ft/runs/w1h61b2a</a>"
            ],
            "text/plain": [
              "<IPython.core.display.HTML object>"
            ]
          },
          "metadata": {},
          "output_type": "display_data"
        },
        {
          "data": {
            "application/vnd.jupyter.widget-view+json": {
              "model_id": "9a727f02efd440368625c64de49ae491",
              "version_major": 2,
              "version_minor": 0
            },
            "text/plain": [
              "VBox(children=(Label(value='87.228 MB of 87.228 MB uploaded\\r'), FloatProgress(value=1.0, max=1.0)))"
            ]
          },
          "metadata": {},
          "output_type": "display_data"
        },
        {
          "data": {
            "text/html": [
              " View run <strong style=\"color:#cdcd00\">silver-sunset-5</strong> at: <a href='https://wandb.ai/nust-isb/alpaca_ft/runs/w1h61b2a' target=\"_blank\">https://wandb.ai/nust-isb/alpaca_ft/runs/w1h61b2a</a><br/> View project at: <a href='https://wandb.ai/nust-isb/alpaca_ft' target=\"_blank\">https://wandb.ai/nust-isb/alpaca_ft</a><br/>Synced 4 W&B file(s), 2 media file(s), 4 artifact file(s) and 0 other file(s)"
            ],
            "text/plain": [
              "<IPython.core.display.HTML object>"
            ]
          },
          "metadata": {},
          "output_type": "display_data"
        },
        {
          "data": {
            "text/html": [
              "Find logs at: <code>./wandb/run-20240428_093751-w1h61b2a/logs</code>"
            ],
            "text/plain": [
              "<IPython.core.display.HTML object>"
            ]
          },
          "metadata": {},
          "output_type": "display_data"
        }
      ],
      "source": [
        "train_table = wandb.Table(dataframe=train_df)\n",
        "eval_table  = wandb.Table(dataframe=eval_df)\n",
        "\n",
        "train_df.to_json(\"alpaca_gpt4_train.jsonl\", orient='records', lines=True)\n",
        "eval_df.to_json(\"alpaca_gpt4_eval.jsonl\", orient='records', lines=True)\n",
        "\n",
        "with wandb.init(project=\"alpaca_ft\", job_type=\"split_data\"):\n",
        "    at = wandb.Artifact(\n",
        "        name=\"alpaca_gpt4_splitted\",\n",
        "        type=\"dataset\",\n",
        "        description=\"A GPT4 generated Alpaca like dataset for instruction finetunning\",\n",
        "        metadata={\"url\":\"https://github.com/Instruction-Tuning-with-GPT-4/GPT-4-LLM#how-good-is-the-data\"},\n",
        "    )\n",
        "    at.add_file(\"alpaca_gpt4_train.jsonl\")\n",
        "    at.add_file(\"alpaca_gpt4_eval.jsonl\")\n",
        "    wandb.log_artifact(at)\n",
        "\n",
        "    # We logged the datasets as tables as well so we can inspect it on the workspace.\n",
        "    wandb.log({\"train_dataset\":train_table, \"eval_dataset\":eval_table})"
      ]
    },
    {
      "cell_type": "markdown",
      "metadata": {
        "id": "CqsR1u132NdT"
      },
      "source": [
        "## Making the datasets ingestible for the LLama"
      ]
    },
    {
      "cell_type": "code",
      "execution_count": 9,
      "metadata": {
        "id": "NLxBRUgp2EtJ"
      },
      "outputs": [],
      "source": [
        "def prompt_no_input(row):\n",
        "    return (\"Below is an instruction that describes a task. \"\n",
        "            \"Write a response that appropriately completes the request.\\n\\n\"\n",
        "            \"### Instruction:\\n{instruction}\\n\\n### Response:\\n\").format_map(row)\n",
        "\n",
        "\n",
        "def prompt_input(row):\n",
        "    return (\"Below is an instruction that describes a task, paired with an input that provides further context. \"\n",
        "            \"Write a response that appropriately completes the request.\\n\\n\"\n",
        "            \"### Instruction:\\n{instruction}\\n\\n### Input:\\n{input}\\n\\n### Response:\\n\").format_map(row)\n",
        "\n",
        "def create_prompt(row):\n",
        "    return prompt_no_input(row) if row[\"input\"] == \"\" else prompt_input(row)\n"
      ]
    },
    {
      "cell_type": "code",
      "execution_count": 10,
      "metadata": {
        "colab": {
          "base_uri": "https://localhost:8080/"
        },
        "id": "_3vn7kqD3Fry",
        "outputId": "30a7dfb6-e204-498b-e891-99923cd0b4ff"
      },
      "outputs": [
        {
          "name": "stderr",
          "output_type": "stream",
          "text": [
            "\u001b[34m\u001b[1mwandb\u001b[0m: \\ 1 of 2 files downloaded...\r\u001b[34m\u001b[1mwandb\u001b[0m:   2 of 2 files downloaded.  \n"
          ]
        }
      ],
      "source": [
        "# Load the dataset artifacts which you saved to wand (train and eval)\n",
        "import json\n",
        "from wandb import Api\n",
        "\n",
        "api = Api()\n",
        "artifact = api.artifact('nust-isb/alpaca_ft/alpaca_gpt4_splitted:v0', type='dataset')\n",
        "artifact_dir = artifact.download()\n",
        "\n",
        "def load_jsonl(file_path):\n",
        "  with open(file_path, \"r\") as f:\n",
        "    data = [] # List of dictionaries\n",
        "    for line in f:\n",
        "      data.append(json.loads(line))\n",
        "    return data\n",
        "\n",
        "train_dataset = load_jsonl(f\"{artifact_dir}/alpaca_gpt4_train.jsonl\")\n",
        "eval_dataset = load_jsonl(f\"{artifact_dir}/alpaca_gpt4_eval.jsonl\")"
      ]
    },
    {
      "cell_type": "code",
      "execution_count": 11,
      "metadata": {
        "id": "wi4zDbd8A7EC"
      },
      "outputs": [],
      "source": [
        "train_prompts = [create_prompt(row) for row in train_dataset]\n",
        "eval_prompts = [create_prompt(row) for row in eval_dataset]"
      ]
    },
    {
      "cell_type": "code",
      "execution_count": 12,
      "metadata": {
        "id": "CnDDRI_FBi0V"
      },
      "outputs": [],
      "source": [
        "def pad_eos(ds):\n",
        "    EOS_TOKEN = \"</s>\"\n",
        "    return [f\"{row['output']}{EOS_TOKEN}\" for row in ds]"
      ]
    },
    {
      "cell_type": "code",
      "execution_count": 13,
      "metadata": {
        "colab": {
          "base_uri": "https://localhost:8080/",
          "height": 105
        },
        "id": "Gt1QgGfdBpZ0",
        "outputId": "8aaaf2f8-5f90-438c-9c86-5742d8d1d706"
      },
      "outputs": [
        {
          "data": {
            "application/vnd.google.colaboratory.intrinsic+json": {
              "type": "string"
            },
            "text/plain": [
              "\"1. What inspired you to pursue a career in customer service?\\n2. Can you tell me about a time you went above and beyond for a customer? \\n3. How do you handle difficult or upset customers? \\n4. In your opinion, what is the most important aspect of customer service? \\n5. What steps do you take to ensure a customer leaves a conversation satisfied? \\n6. Describe how you have collaborated with other team members to improve customer service.  \\n7. How do you handle a situation when you do not know the answer to a customer's question? \\n8. Can you tell me about a specific scenario in which you handled a customer complaint effectively?\\n9. How do you ensure that you provide a professional and friendly demeanor when interacting with customers, both in person and over the phone? \\n10. How do you stay up-to-date with the company’s products and services to better assist customers?</s>\""
            ]
          },
          "execution_count": 13,
          "metadata": {},
          "output_type": "execute_result"
        }
      ],
      "source": [
        "train_outputs = pad_eos(train_dataset)\n",
        "eval_outputs = pad_eos(eval_dataset)\n",
        "train_outputs[0]"
      ]
    },
    {
      "cell_type": "markdown",
      "metadata": {
        "id": "uf-XtLBbB4E-"
      },
      "source": [
        "Let's combine the prompts and the outputs and store them in a final variable named 'examples'."
      ]
    },
    {
      "cell_type": "code",
      "execution_count": 14,
      "metadata": {
        "id": "wADFVaDLBzcG"
      },
      "outputs": [],
      "source": [
        "train_dataset = [{\"prompt\":s, \"output\":t, \"example\": s + t} for s, t in zip(train_prompts, train_outputs)]\n",
        "eval_dataset = [{\"prompt\":s, \"output\":t, \"example\": s + t} for s, t in zip(eval_prompts, eval_outputs)]"
      ]
    },
    {
      "cell_type": "code",
      "execution_count": 15,
      "metadata": {
        "colab": {
          "base_uri": "https://localhost:8080/"
        },
        "id": "TC0P0CgbCCvO",
        "outputId": "dc21938c-9c26-48a7-cd76-3a1b88b6b7f0"
      },
      "outputs": [
        {
          "name": "stdout",
          "output_type": "stream",
          "text": [
            "Below is an instruction that describes a task. Write a response that appropriately completes the request.\n",
            "\n",
            "### Instruction:\n",
            "Create a list of interview questions to evaluate a potential hire for a customer service representative position.\n",
            "\n",
            "### Response:\n",
            "1. What inspired you to pursue a career in customer service?\n",
            "2. Can you tell me about a time you went above and beyond for a customer? \n",
            "3. How do you handle difficult or upset customers? \n",
            "4. In your opinion, what is the most important aspect of customer service? \n",
            "5. What steps do you take to ensure a customer leaves a conversation satisfied? \n",
            "6. Describe how you have collaborated with other team members to improve customer service.  \n",
            "7. How do you handle a situation when you do not know the answer to a customer's question? \n",
            "8. Can you tell me about a specific scenario in which you handled a customer complaint effectively?\n",
            "9. How do you ensure that you provide a professional and friendly demeanor when interacting with customers, both in person and over the phone? \n",
            "10. How do you stay up-to-date with the company’s products and services to better assist customers?</s>\n"
          ]
        }
      ],
      "source": [
        "print(train_dataset[0]['example'])"
      ]
    },
    {
      "cell_type": "markdown",
      "metadata": {
        "id": "oZ6UVCOXCK8f"
      },
      "source": [
        "## Tokenizer"
      ]
    },
    {
      "cell_type": "code",
      "execution_count": 16,
      "metadata": {
        "colab": {
          "base_uri": "https://localhost:8080/"
        },
        "id": "80DW5asQDIx4",
        "outputId": "fcfcdbe6-cdf1-460b-e88b-0ea766b75eee"
      },
      "outputs": [
        {
          "name": "stdout",
          "output_type": "stream",
          "text": [
            "Requirement already satisfied: huggingface_hub in /usr/local/lib/python3.10/dist-packages (0.22.2)\n",
            "Requirement already satisfied: filelock in /usr/local/lib/python3.10/dist-packages (from huggingface_hub) (3.13.4)\n",
            "Requirement already satisfied: fsspec>=2023.5.0 in /usr/local/lib/python3.10/dist-packages (from huggingface_hub) (2023.6.0)\n",
            "Requirement already satisfied: packaging>=20.9 in /usr/local/lib/python3.10/dist-packages (from huggingface_hub) (24.0)\n",
            "Requirement already satisfied: pyyaml>=5.1 in /usr/local/lib/python3.10/dist-packages (from huggingface_hub) (6.0.1)\n",
            "Requirement already satisfied: requests in /usr/local/lib/python3.10/dist-packages (from huggingface_hub) (2.31.0)\n",
            "Requirement already satisfied: tqdm>=4.42.1 in /usr/local/lib/python3.10/dist-packages (from huggingface_hub) (4.66.2)\n",
            "Requirement already satisfied: typing-extensions>=3.7.4.3 in /usr/local/lib/python3.10/dist-packages (from huggingface_hub) (4.11.0)\n",
            "Requirement already satisfied: charset-normalizer<4,>=2 in /usr/local/lib/python3.10/dist-packages (from requests->huggingface_hub) (3.3.2)\n",
            "Requirement already satisfied: idna<4,>=2.5 in /usr/local/lib/python3.10/dist-packages (from requests->huggingface_hub) (3.7)\n",
            "Requirement already satisfied: urllib3<3,>=1.21.1 in /usr/local/lib/python3.10/dist-packages (from requests->huggingface_hub) (2.0.7)\n",
            "Requirement already satisfied: certifi>=2017.4.17 in /usr/local/lib/python3.10/dist-packages (from requests->huggingface_hub) (2024.2.2)\n"
          ]
        }
      ],
      "source": [
        "pip install --upgrade huggingface_hub"
      ]
    },
    {
      "cell_type": "code",
      "execution_count": 20,
      "metadata": {
        "colab": {
          "base_uri": "https://localhost:8080/",
          "height": 145,
          "referenced_widgets": [
            "de4ec15850b2444b895b8572d72358b0",
            "72d29bb0962b45d785a461fb1f1bb86f",
            "271a194b1a174d7dae3aa827be8fb869",
            "5d005027c5ca4e0eb87487ba31d42ea4",
            "cfbe85529e764cc08a17de763c7660ea",
            "9b8576edc76d4ef59267026c052d1366",
            "8ce3ff9549cc4ba0969425a5bbbd1287",
            "147c8b1ab91c4a6395e8f50136e0613b",
            "864aab8a313d416db24d083847e1deb5",
            "c301d990c2c14a2b857807cb55fe0dea",
            "e0bd6d2ec23445b4b74073dfb1916158",
            "0ce01234db83457d97f43c6084d06c1a",
            "e0733e5c99e94261a04a898fdb0c8ddf",
            "b0ddaf104dd247d18eced32fcbd8d5bc",
            "d955cf4220644122ac877735b4d33aa4",
            "b6de666c694049e59a8f4608be59f15d",
            "37c249d811ef4b79a038708345a24b29",
            "486ecf4e1d9a438ca117eeee55764eb9",
            "56ce7ae64c2f4ece967bbdca405978e1",
            "0cc3a25c89744fbc8ede3936914bd6f3",
            "1eab775ab332439ea3b5e25643b284c1",
            "21be3243b4f24a479324c9c9bde7f481",
            "46207dd3a92042c0bb0cc6ef1e03543a",
            "d8d44ae2375248a29474f632069cc392",
            "43e6a8e0b22847ac8514f4627df099b8",
            "66edf654a0cd45ecb4f9668ca56d3d3d",
            "08e5d48fc78b4a4599213ee8296bb256",
            "ed316af0c83e4ceb872153d9c6271f1c",
            "2c97dc2b1db84c2593ba9f61434a8de4",
            "1bf1c9bf8cf347ff9af54034f9bd0b31",
            "97280f64f63b4a41843d2d83ff7754b4",
            "5aca98b081b546feb35c3fed79ff6e7f"
          ]
        },
        "id": "gnIHgT4_DCUV",
        "outputId": "174ce6f8-7b68-4c67-cb3a-5fc2f474a9af"
      },
      "outputs": [
        {
          "data": {
            "application/vnd.jupyter.widget-view+json": {
              "model_id": "de4ec15850b2444b895b8572d72358b0",
              "version_major": 2,
              "version_minor": 0
            },
            "text/plain": [
              "VBox(children=(HTML(value='<center> <img\\nsrc=https://huggingface.co/front/assets/huggingface_logo-noborder.sv…"
            ]
          },
          "metadata": {},
          "output_type": "display_data"
        }
      ],
      "source": [
        "from huggingface_hub import notebook_login\n",
        "\n",
        "notebook_login()"
      ]
    },
    {
      "cell_type": "code",
      "execution_count": 21,
      "metadata": {
        "id": "NNhYgS2KCMNr"
      },
      "outputs": [],
      "source": [
        "import torch\n",
        "from transformers import AutoModelForCausalLM, AutoTokenizer"
      ]
    },
    {
      "cell_type": "code",
      "execution_count": 25,
      "metadata": {
        "id": "E4ug-dNfGj6G"
      },
      "outputs": [],
      "source": [
        "!echo 'https://download.llamameta.net/*?Policy=eyJTdGF0ZW1lbnQiOlt7InVuaXF1ZV9oYXNoIjoibzRienJqdWs2c29ibzBjeGl5djVyOWc4IiwiUmVzb3VyY2UiOiJodHRwczpcL1wvZG93bmxvYWQubGxhbWFtZXRhLm5ldFwvKiIsIkNvbmRpdGlvbiI6eyJEYXRlTGVzc1RoYW4iOnsiQVdTOkVwb2NoVGltZSI6MTcxNDM4Mzc4OX19fV19&Signature=X40kmHdxSW3Y79%7Eem-o265O6GGAJKMVxlYBqxHESaOoXgf0Vq1fTJppaF3ueTKJeUqspWfhNC3g2j29HoG%7E2XLD4AzPPv75z8Z-dGW-WygdAlXuIekyOh9GRfchocS7TOPZI-tVNIjf769MNxptDfUpXc6oCYQ-z0or-brofOf3QNqYwxZxlMt53bn7KiKgVw7nxcazMqUgtZXAO1A3EINtF%7Ez61Roby1Zwi3juFASTjslVzZC4ID09rV2boKZ76nFljcjmreEa-1siGlVvyLpbzbp3e5fNCXglXkwm2TQE3XKtAmv8zWcOHwYSATCcf6ry%7EBq-qB64B5D93pcc0rQ__&Key-Pair-Id=K15QRJLYKIFSLZ&Download-Request-ID=405157518994451' > url.txt"
      ]
    },
    {
      "cell_type": "code",
      "execution_count": 27,
      "metadata": {
        "colab": {
          "base_uri": "https://localhost:8080/"
        },
        "id": "eKk6yzgVGH0O",
        "outputId": "08338058-f95e-4a6e-dea6-4a555f54b12b"
      },
      "outputs": [
        {
          "name": "stdout",
          "output_type": "stream",
          "text": [
            "\n"
          ]
        }
      ],
      "source": [
        "!bash download.sh < url.txt"
      ]
    },
    {
      "cell_type": "code",
      "execution_count": 31,
      "metadata": {
        "id": "xMecmlcmCPwd"
      },
      "outputs": [],
      "source": [
        "model_id = 'meta-llama/Llama-2-7b-hf'\n",
        "tokenizer = AutoTokenizer.from_pretrained(model_id)\n",
        "tokenizer.pad_token = tokenizer.eos_token"
      ]
    },
    {
      "cell_type": "markdown",
      "metadata": {
        "id": "A7bEbP-mIM-m"
      },
      "source": [
        "## Packing\n",
        "We will pack multiple short examples into a longer chunk, so we can train more efficiently!\n",
        "\n",
        "The main idea here is that the instruction/output samples are short, so let's concatenate a bunch of them together separated by the EOS token. We can also pre-tokenize and pre-pack the dataset and make everything faster! If we define a max_seq_len = 1024 the code to pack would look something like this:"
      ]
    },
    {
      "cell_type": "code",
      "execution_count": null,
      "metadata": {
        "id": "oW9EemIvCcPa"
      },
      "outputs": [],
      "source": [
        "max_sequence_len = 1024\n",
        "\n",
        "def pack(dataset, max_seq_len=max_sequence_len):\n",
        "    list_of_token_ids_for_each_example = tokenizer([record[\"example\"] for record in dataset])[\"input_ids\"]\n",
        "\n",
        "    all_token_ids = []\n",
        "    for tokenized_input in list_of_token_ids_for_each_example:\n",
        "        all_token_ids.extend(tokenized_input) # + [tokenizer.eos_token_id])\n",
        "\n",
        "    print(f\"Total number of tokens: {len(all_token_ids)}\")\n",
        "    packed_ds = []\n",
        "    for i in range(0, len(all_token_ids), max_seq_len+1):\n",
        "        input_ids = all_token_ids[i : i + max_seq_len+1]\n",
        "        if len(input_ids) == (max_seq_len+1):\n",
        "            packed_ds.append({\"input_ids\": input_ids[:-1], \"labels\": input_ids[1:]})  # this shift is not needed if using the model.loss\n",
        "    return packed_ds"
      ]
    },
    {
      "cell_type": "code",
      "execution_count": null,
      "metadata": {
        "id": "XLlAKDS2IIsT"
      },
      "outputs": [],
      "source": [
        "train_ds_packed = pack(train_dataset)\n",
        "eval_ds_packed = pack(eval_dataset)\n",
        "len(train_ds_packed)"
      ]
    },
    {
      "cell_type": "markdown",
      "metadata": {
        "id": "1b9eJdvJKZPt"
      },
      "source": [
        "## Storing our final preprocessed data as artifact in wandb\n",
        "Now that we have packed our datasets we can save them securely to train a model!"
      ]
    },
    {
      "cell_type": "code",
      "execution_count": null,
      "metadata": {
        "id": "plb0tISYKfqx"
      },
      "outputs": [],
      "source": [
        "import json\n",
        "def save_jsonl(data, filename):\n",
        "    with open(filename, 'w') as file:\n",
        "        for entry in data:\n",
        "            json.dump(entry, file)\n",
        "            file.write('\\n')\n",
        "\n",
        "\n",
        "# dump everything to jsonl files\n",
        "save_jsonl(train_ds_packed, \"train_packed_alpaca.jsonl\")\n",
        "save_jsonl(eval_ds_packed, \"eval_packed_alpaca.jsonl\")\n",
        "\n",
        "\n",
        "# Create a W&B artifact\n",
        "packed_at = wandb.Artifact(\n",
        "    name=\"packed_alpaca\",\n",
        "    type=\"dataset\",\n",
        "    description=\"Alpaca dataset packed in sequences\",\n",
        "    metadata={\"max_seq_len\":1024, \"model_id\":model_id})\n",
        "\n",
        "\n",
        "packed_at.add_file(\"train_packed_alpaca.jsonl\")\n",
        "packed_at.add_file(\"eval_packed_alpaca.jsonl\")\n",
        "\n",
        "\n",
        "# log the artifact to the project, we can give this run a job_type like `preprocess`\n",
        "with wandb.init(project=\"alpaca_ft\", job_type=\"preprocess\"):\n",
        "    wandb.log_artifact(packed_at)"
      ]
    }
  ],
  "metadata": {
    "colab": {
      "provenance": []
    },
    "kernelspec": {
      "display_name": "Python 3",
      "name": "python3"
    },
    "language_info": {
      "name": "python"
    },
    "widgets": {
      "application/vnd.jupyter.widget-state+json": {
        "05e524beabcd4dd0a7b03f0c5bda99e1": {
          "model_module": "@jupyter-widgets/controls",
          "model_module_version": "1.5.0",
          "model_name": "VBoxModel",
          "state": {
            "_dom_classes": [],
            "_model_module": "@jupyter-widgets/controls",
            "_model_module_version": "1.5.0",
            "_model_name": "VBoxModel",
            "_view_count": null,
            "_view_module": "@jupyter-widgets/controls",
            "_view_module_version": "1.5.0",
            "_view_name": "VBoxView",
            "box_style": "",
            "children": [
              "IPY_MODEL_3b74f7f15d8b4f9e9ae089af5d79fa87",
              "IPY_MODEL_47069f30d9024e58a09f4e03a43bddb7"
            ],
            "layout": "IPY_MODEL_84cae00317c446fdb97a7b75a4e1be6f"
          }
        },
        "08e5d48fc78b4a4599213ee8296bb256": {
          "model_module": "@jupyter-widgets/base",
          "model_module_version": "1.2.0",
          "model_name": "LayoutModel",
          "state": {
            "_model_module": "@jupyter-widgets/base",
            "_model_module_version": "1.2.0",
            "_model_name": "LayoutModel",
            "_view_count": null,
            "_view_module": "@jupyter-widgets/base",
            "_view_module_version": "1.2.0",
            "_view_name": "LayoutView",
            "align_content": null,
            "align_items": null,
            "align_self": null,
            "border": null,
            "bottom": null,
            "display": null,
            "flex": null,
            "flex_flow": null,
            "grid_area": null,
            "grid_auto_columns": null,
            "grid_auto_flow": null,
            "grid_auto_rows": null,
            "grid_column": null,
            "grid_gap": null,
            "grid_row": null,
            "grid_template_areas": null,
            "grid_template_columns": null,
            "grid_template_rows": null,
            "height": null,
            "justify_content": null,
            "justify_items": null,
            "left": null,
            "margin": null,
            "max_height": null,
            "max_width": null,
            "min_height": null,
            "min_width": null,
            "object_fit": null,
            "object_position": null,
            "order": null,
            "overflow": null,
            "overflow_x": null,
            "overflow_y": null,
            "padding": null,
            "right": null,
            "top": null,
            "visibility": null,
            "width": null
          }
        },
        "0cc3a25c89744fbc8ede3936914bd6f3": {
          "model_module": "@jupyter-widgets/controls",
          "model_module_version": "1.5.0",
          "model_name": "DescriptionStyleModel",
          "state": {
            "_model_module": "@jupyter-widgets/controls",
            "_model_module_version": "1.5.0",
            "_model_name": "DescriptionStyleModel",
            "_view_count": null,
            "_view_module": "@jupyter-widgets/base",
            "_view_module_version": "1.2.0",
            "_view_name": "StyleView",
            "description_width": ""
          }
        },
        "0ce01234db83457d97f43c6084d06c1a": {
          "model_module": "@jupyter-widgets/base",
          "model_module_version": "1.2.0",
          "model_name": "LayoutModel",
          "state": {
            "_model_module": "@jupyter-widgets/base",
            "_model_module_version": "1.2.0",
            "_model_name": "LayoutModel",
            "_view_count": null,
            "_view_module": "@jupyter-widgets/base",
            "_view_module_version": "1.2.0",
            "_view_name": "LayoutView",
            "align_content": null,
            "align_items": null,
            "align_self": null,
            "border": null,
            "bottom": null,
            "display": null,
            "flex": null,
            "flex_flow": null,
            "grid_area": null,
            "grid_auto_columns": null,
            "grid_auto_flow": null,
            "grid_auto_rows": null,
            "grid_column": null,
            "grid_gap": null,
            "grid_row": null,
            "grid_template_areas": null,
            "grid_template_columns": null,
            "grid_template_rows": null,
            "height": null,
            "justify_content": null,
            "justify_items": null,
            "left": null,
            "margin": null,
            "max_height": null,
            "max_width": null,
            "min_height": null,
            "min_width": null,
            "object_fit": null,
            "object_position": null,
            "order": null,
            "overflow": null,
            "overflow_x": null,
            "overflow_y": null,
            "padding": null,
            "right": null,
            "top": null,
            "visibility": null,
            "width": null
          }
        },
        "144fbc9a8b7a4a7fb1724c9f2befc8d9": {
          "model_module": "@jupyter-widgets/controls",
          "model_module_version": "1.5.0",
          "model_name": "ProgressStyleModel",
          "state": {
            "_model_module": "@jupyter-widgets/controls",
            "_model_module_version": "1.5.0",
            "_model_name": "ProgressStyleModel",
            "_view_count": null,
            "_view_module": "@jupyter-widgets/base",
            "_view_module_version": "1.2.0",
            "_view_name": "StyleView",
            "bar_color": null,
            "description_width": ""
          }
        },
        "147c8b1ab91c4a6395e8f50136e0613b": {
          "model_module": "@jupyter-widgets/base",
          "model_module_version": "1.2.0",
          "model_name": "LayoutModel",
          "state": {
            "_model_module": "@jupyter-widgets/base",
            "_model_module_version": "1.2.0",
            "_model_name": "LayoutModel",
            "_view_count": null,
            "_view_module": "@jupyter-widgets/base",
            "_view_module_version": "1.2.0",
            "_view_name": "LayoutView",
            "align_content": null,
            "align_items": null,
            "align_self": null,
            "border": null,
            "bottom": null,
            "display": null,
            "flex": null,
            "flex_flow": null,
            "grid_area": null,
            "grid_auto_columns": null,
            "grid_auto_flow": null,
            "grid_auto_rows": null,
            "grid_column": null,
            "grid_gap": null,
            "grid_row": null,
            "grid_template_areas": null,
            "grid_template_columns": null,
            "grid_template_rows": null,
            "height": null,
            "justify_content": null,
            "justify_items": null,
            "left": null,
            "margin": null,
            "max_height": null,
            "max_width": null,
            "min_height": null,
            "min_width": null,
            "object_fit": null,
            "object_position": null,
            "order": null,
            "overflow": null,
            "overflow_x": null,
            "overflow_y": null,
            "padding": null,
            "right": null,
            "top": null,
            "visibility": null,
            "width": null
          }
        },
        "1bf1c9bf8cf347ff9af54034f9bd0b31": {
          "model_module": "@jupyter-widgets/controls",
          "model_module_version": "1.5.0",
          "model_name": "DescriptionStyleModel",
          "state": {
            "_model_module": "@jupyter-widgets/controls",
            "_model_module_version": "1.5.0",
            "_model_name": "DescriptionStyleModel",
            "_view_count": null,
            "_view_module": "@jupyter-widgets/base",
            "_view_module_version": "1.2.0",
            "_view_name": "StyleView",
            "description_width": ""
          }
        },
        "1eab775ab332439ea3b5e25643b284c1": {
          "model_module": "@jupyter-widgets/controls",
          "model_module_version": "1.5.0",
          "model_name": "LabelModel",
          "state": {
            "_dom_classes": [],
            "_model_module": "@jupyter-widgets/controls",
            "_model_module_version": "1.5.0",
            "_model_name": "LabelModel",
            "_view_count": null,
            "_view_module": "@jupyter-widgets/controls",
            "_view_module_version": "1.5.0",
            "_view_name": "LabelView",
            "description": "",
            "description_tooltip": null,
            "layout": "IPY_MODEL_43e6a8e0b22847ac8514f4627df099b8",
            "placeholder": "​",
            "style": "IPY_MODEL_66edf654a0cd45ecb4f9668ca56d3d3d",
            "value": "Token is valid (permission: write)."
          }
        },
        "21be3243b4f24a479324c9c9bde7f481": {
          "model_module": "@jupyter-widgets/controls",
          "model_module_version": "1.5.0",
          "model_name": "LabelModel",
          "state": {
            "_dom_classes": [],
            "_model_module": "@jupyter-widgets/controls",
            "_model_module_version": "1.5.0",
            "_model_name": "LabelModel",
            "_view_count": null,
            "_view_module": "@jupyter-widgets/controls",
            "_view_module_version": "1.5.0",
            "_view_name": "LabelView",
            "description": "",
            "description_tooltip": null,
            "layout": "IPY_MODEL_08e5d48fc78b4a4599213ee8296bb256",
            "placeholder": "​",
            "style": "IPY_MODEL_ed316af0c83e4ceb872153d9c6271f1c",
            "value": "Your token has been saved in your configured git credential helpers (store)."
          }
        },
        "271a194b1a174d7dae3aa827be8fb869": {
          "model_module": "@jupyter-widgets/controls",
          "model_module_version": "1.5.0",
          "model_name": "PasswordModel",
          "state": {
            "_dom_classes": [],
            "_model_module": "@jupyter-widgets/controls",
            "_model_module_version": "1.5.0",
            "_model_name": "PasswordModel",
            "_view_count": null,
            "_view_module": "@jupyter-widgets/controls",
            "_view_module_version": "1.5.0",
            "_view_name": "PasswordView",
            "continuous_update": true,
            "description": "Token:",
            "description_tooltip": null,
            "disabled": false,
            "layout": "IPY_MODEL_c301d990c2c14a2b857807cb55fe0dea",
            "placeholder": "​",
            "style": "IPY_MODEL_e0bd6d2ec23445b4b74073dfb1916158",
            "value": ""
          }
        },
        "284d0e854f03447a8f65f124b3cfd0a6": {
          "model_module": "@jupyter-widgets/controls",
          "model_module_version": "1.5.0",
          "model_name": "ProgressStyleModel",
          "state": {
            "_model_module": "@jupyter-widgets/controls",
            "_model_module_version": "1.5.0",
            "_model_name": "ProgressStyleModel",
            "_view_count": null,
            "_view_module": "@jupyter-widgets/base",
            "_view_module_version": "1.2.0",
            "_view_name": "StyleView",
            "bar_color": null,
            "description_width": ""
          }
        },
        "2c97dc2b1db84c2593ba9f61434a8de4": {
          "model_module": "@jupyter-widgets/base",
          "model_module_version": "1.2.0",
          "model_name": "LayoutModel",
          "state": {
            "_model_module": "@jupyter-widgets/base",
            "_model_module_version": "1.2.0",
            "_model_name": "LayoutModel",
            "_view_count": null,
            "_view_module": "@jupyter-widgets/base",
            "_view_module_version": "1.2.0",
            "_view_name": "LayoutView",
            "align_content": null,
            "align_items": null,
            "align_self": null,
            "border": null,
            "bottom": null,
            "display": null,
            "flex": null,
            "flex_flow": null,
            "grid_area": null,
            "grid_auto_columns": null,
            "grid_auto_flow": null,
            "grid_auto_rows": null,
            "grid_column": null,
            "grid_gap": null,
            "grid_row": null,
            "grid_template_areas": null,
            "grid_template_columns": null,
            "grid_template_rows": null,
            "height": null,
            "justify_content": null,
            "justify_items": null,
            "left": null,
            "margin": null,
            "max_height": null,
            "max_width": null,
            "min_height": null,
            "min_width": null,
            "object_fit": null,
            "object_position": null,
            "order": null,
            "overflow": null,
            "overflow_x": null,
            "overflow_y": null,
            "padding": null,
            "right": null,
            "top": null,
            "visibility": null,
            "width": null
          }
        },
        "2cc9490589c84398bebf80c5b8e117ae": {
          "model_module": "@jupyter-widgets/base",
          "model_module_version": "1.2.0",
          "model_name": "LayoutModel",
          "state": {
            "_model_module": "@jupyter-widgets/base",
            "_model_module_version": "1.2.0",
            "_model_name": "LayoutModel",
            "_view_count": null,
            "_view_module": "@jupyter-widgets/base",
            "_view_module_version": "1.2.0",
            "_view_name": "LayoutView",
            "align_content": null,
            "align_items": null,
            "align_self": null,
            "border": null,
            "bottom": null,
            "display": null,
            "flex": null,
            "flex_flow": null,
            "grid_area": null,
            "grid_auto_columns": null,
            "grid_auto_flow": null,
            "grid_auto_rows": null,
            "grid_column": null,
            "grid_gap": null,
            "grid_row": null,
            "grid_template_areas": null,
            "grid_template_columns": null,
            "grid_template_rows": null,
            "height": null,
            "justify_content": null,
            "justify_items": null,
            "left": null,
            "margin": null,
            "max_height": null,
            "max_width": null,
            "min_height": null,
            "min_width": null,
            "object_fit": null,
            "object_position": null,
            "order": null,
            "overflow": null,
            "overflow_x": null,
            "overflow_y": null,
            "padding": null,
            "right": null,
            "top": null,
            "visibility": null,
            "width": null
          }
        },
        "37c249d811ef4b79a038708345a24b29": {
          "model_module": "@jupyter-widgets/controls",
          "model_module_version": "1.5.0",
          "model_name": "DescriptionStyleModel",
          "state": {
            "_model_module": "@jupyter-widgets/controls",
            "_model_module_version": "1.5.0",
            "_model_name": "DescriptionStyleModel",
            "_view_count": null,
            "_view_module": "@jupyter-widgets/base",
            "_view_module_version": "1.2.0",
            "_view_name": "StyleView",
            "description_width": ""
          }
        },
        "3b74f7f15d8b4f9e9ae089af5d79fa87": {
          "model_module": "@jupyter-widgets/controls",
          "model_module_version": "1.5.0",
          "model_name": "LabelModel",
          "state": {
            "_dom_classes": [],
            "_model_module": "@jupyter-widgets/controls",
            "_model_module_version": "1.5.0",
            "_model_name": "LabelModel",
            "_view_count": null,
            "_view_module": "@jupyter-widgets/controls",
            "_view_module_version": "1.5.0",
            "_view_name": "LabelView",
            "description": "",
            "description_tooltip": null,
            "layout": "IPY_MODEL_ab9f843a602843e897fb23ebd911d277",
            "placeholder": "​",
            "style": "IPY_MODEL_baba3e966375477196ada2fa13f197b0",
            "value": "Waiting for wandb.init()...\r"
          }
        },
        "43e6a8e0b22847ac8514f4627df099b8": {
          "model_module": "@jupyter-widgets/base",
          "model_module_version": "1.2.0",
          "model_name": "LayoutModel",
          "state": {
            "_model_module": "@jupyter-widgets/base",
            "_model_module_version": "1.2.0",
            "_model_name": "LayoutModel",
            "_view_count": null,
            "_view_module": "@jupyter-widgets/base",
            "_view_module_version": "1.2.0",
            "_view_name": "LayoutView",
            "align_content": null,
            "align_items": null,
            "align_self": null,
            "border": null,
            "bottom": null,
            "display": null,
            "flex": null,
            "flex_flow": null,
            "grid_area": null,
            "grid_auto_columns": null,
            "grid_auto_flow": null,
            "grid_auto_rows": null,
            "grid_column": null,
            "grid_gap": null,
            "grid_row": null,
            "grid_template_areas": null,
            "grid_template_columns": null,
            "grid_template_rows": null,
            "height": null,
            "justify_content": null,
            "justify_items": null,
            "left": null,
            "margin": null,
            "max_height": null,
            "max_width": null,
            "min_height": null,
            "min_width": null,
            "object_fit": null,
            "object_position": null,
            "order": null,
            "overflow": null,
            "overflow_x": null,
            "overflow_y": null,
            "padding": null,
            "right": null,
            "top": null,
            "visibility": null,
            "width": null
          }
        },
        "44b7bfc6529f4dd8a710d9eca61f3856": {
          "model_module": "@jupyter-widgets/base",
          "model_module_version": "1.2.0",
          "model_name": "LayoutModel",
          "state": {
            "_model_module": "@jupyter-widgets/base",
            "_model_module_version": "1.2.0",
            "_model_name": "LayoutModel",
            "_view_count": null,
            "_view_module": "@jupyter-widgets/base",
            "_view_module_version": "1.2.0",
            "_view_name": "LayoutView",
            "align_content": null,
            "align_items": null,
            "align_self": null,
            "border": null,
            "bottom": null,
            "display": null,
            "flex": null,
            "flex_flow": null,
            "grid_area": null,
            "grid_auto_columns": null,
            "grid_auto_flow": null,
            "grid_auto_rows": null,
            "grid_column": null,
            "grid_gap": null,
            "grid_row": null,
            "grid_template_areas": null,
            "grid_template_columns": null,
            "grid_template_rows": null,
            "height": null,
            "justify_content": null,
            "justify_items": null,
            "left": null,
            "margin": null,
            "max_height": null,
            "max_width": null,
            "min_height": null,
            "min_width": null,
            "object_fit": null,
            "object_position": null,
            "order": null,
            "overflow": null,
            "overflow_x": null,
            "overflow_y": null,
            "padding": null,
            "right": null,
            "top": null,
            "visibility": null,
            "width": null
          }
        },
        "46207dd3a92042c0bb0cc6ef1e03543a": {
          "model_module": "@jupyter-widgets/controls",
          "model_module_version": "1.5.0",
          "model_name": "LabelModel",
          "state": {
            "_dom_classes": [],
            "_model_module": "@jupyter-widgets/controls",
            "_model_module_version": "1.5.0",
            "_model_name": "LabelModel",
            "_view_count": null,
            "_view_module": "@jupyter-widgets/controls",
            "_view_module_version": "1.5.0",
            "_view_name": "LabelView",
            "description": "",
            "description_tooltip": null,
            "layout": "IPY_MODEL_2c97dc2b1db84c2593ba9f61434a8de4",
            "placeholder": "​",
            "style": "IPY_MODEL_1bf1c9bf8cf347ff9af54034f9bd0b31",
            "value": "Your token has been saved to /root/.cache/huggingface/token"
          }
        },
        "47069f30d9024e58a09f4e03a43bddb7": {
          "model_module": "@jupyter-widgets/controls",
          "model_module_version": "1.5.0",
          "model_name": "FloatProgressModel",
          "state": {
            "_dom_classes": [],
            "_model_module": "@jupyter-widgets/controls",
            "_model_module_version": "1.5.0",
            "_model_name": "FloatProgressModel",
            "_view_count": null,
            "_view_module": "@jupyter-widgets/controls",
            "_view_module_version": "1.5.0",
            "_view_name": "ProgressView",
            "bar_style": "",
            "description": "",
            "description_tooltip": null,
            "layout": "IPY_MODEL_9c88f92a9abe45d68e904b533b5a706f",
            "max": 1,
            "min": 0,
            "orientation": "horizontal",
            "style": "IPY_MODEL_284d0e854f03447a8f65f124b3cfd0a6",
            "value": 1
          }
        },
        "486ecf4e1d9a438ca117eeee55764eb9": {
          "model_module": "@jupyter-widgets/controls",
          "model_module_version": "1.5.0",
          "model_name": "LabelModel",
          "state": {
            "_dom_classes": [],
            "_model_module": "@jupyter-widgets/controls",
            "_model_module_version": "1.5.0",
            "_model_name": "LabelModel",
            "_view_count": null,
            "_view_module": "@jupyter-widgets/controls",
            "_view_module_version": "1.5.0",
            "_view_name": "LabelView",
            "description": "",
            "description_tooltip": null,
            "layout": "IPY_MODEL_56ce7ae64c2f4ece967bbdca405978e1",
            "placeholder": "​",
            "style": "IPY_MODEL_0cc3a25c89744fbc8ede3936914bd6f3",
            "value": "Connecting..."
          }
        },
        "508d503b0aed46d8a0a4cf9d0faadcab": {
          "model_module": "@jupyter-widgets/base",
          "model_module_version": "1.2.0",
          "model_name": "LayoutModel",
          "state": {
            "_model_module": "@jupyter-widgets/base",
            "_model_module_version": "1.2.0",
            "_model_name": "LayoutModel",
            "_view_count": null,
            "_view_module": "@jupyter-widgets/base",
            "_view_module_version": "1.2.0",
            "_view_name": "LayoutView",
            "align_content": null,
            "align_items": null,
            "align_self": null,
            "border": null,
            "bottom": null,
            "display": null,
            "flex": null,
            "flex_flow": null,
            "grid_area": null,
            "grid_auto_columns": null,
            "grid_auto_flow": null,
            "grid_auto_rows": null,
            "grid_column": null,
            "grid_gap": null,
            "grid_row": null,
            "grid_template_areas": null,
            "grid_template_columns": null,
            "grid_template_rows": null,
            "height": null,
            "justify_content": null,
            "justify_items": null,
            "left": null,
            "margin": null,
            "max_height": null,
            "max_width": null,
            "min_height": null,
            "min_width": null,
            "object_fit": null,
            "object_position": null,
            "order": null,
            "overflow": null,
            "overflow_x": null,
            "overflow_y": null,
            "padding": null,
            "right": null,
            "top": null,
            "visibility": null,
            "width": null
          }
        },
        "56ce7ae64c2f4ece967bbdca405978e1": {
          "model_module": "@jupyter-widgets/base",
          "model_module_version": "1.2.0",
          "model_name": "LayoutModel",
          "state": {
            "_model_module": "@jupyter-widgets/base",
            "_model_module_version": "1.2.0",
            "_model_name": "LayoutModel",
            "_view_count": null,
            "_view_module": "@jupyter-widgets/base",
            "_view_module_version": "1.2.0",
            "_view_name": "LayoutView",
            "align_content": null,
            "align_items": null,
            "align_self": null,
            "border": null,
            "bottom": null,
            "display": null,
            "flex": null,
            "flex_flow": null,
            "grid_area": null,
            "grid_auto_columns": null,
            "grid_auto_flow": null,
            "grid_auto_rows": null,
            "grid_column": null,
            "grid_gap": null,
            "grid_row": null,
            "grid_template_areas": null,
            "grid_template_columns": null,
            "grid_template_rows": null,
            "height": null,
            "justify_content": null,
            "justify_items": null,
            "left": null,
            "margin": null,
            "max_height": null,
            "max_width": null,
            "min_height": null,
            "min_width": null,
            "object_fit": null,
            "object_position": null,
            "order": null,
            "overflow": null,
            "overflow_x": null,
            "overflow_y": null,
            "padding": null,
            "right": null,
            "top": null,
            "visibility": null,
            "width": null
          }
        },
        "5828bd49fff24b9da793c8cc707b5749": {
          "model_module": "@jupyter-widgets/controls",
          "model_module_version": "1.5.0",
          "model_name": "ProgressStyleModel",
          "state": {
            "_model_module": "@jupyter-widgets/controls",
            "_model_module_version": "1.5.0",
            "_model_name": "ProgressStyleModel",
            "_view_count": null,
            "_view_module": "@jupyter-widgets/base",
            "_view_module_version": "1.2.0",
            "_view_name": "StyleView",
            "bar_color": null,
            "description_width": ""
          }
        },
        "5aca98b081b546feb35c3fed79ff6e7f": {
          "model_module": "@jupyter-widgets/controls",
          "model_module_version": "1.5.0",
          "model_name": "DescriptionStyleModel",
          "state": {
            "_model_module": "@jupyter-widgets/controls",
            "_model_module_version": "1.5.0",
            "_model_name": "DescriptionStyleModel",
            "_view_count": null,
            "_view_module": "@jupyter-widgets/base",
            "_view_module_version": "1.2.0",
            "_view_name": "StyleView",
            "description_width": ""
          }
        },
        "5d005027c5ca4e0eb87487ba31d42ea4": {
          "model_module": "@jupyter-widgets/controls",
          "model_module_version": "1.5.0",
          "model_name": "CheckboxModel",
          "state": {
            "_dom_classes": [],
            "_model_module": "@jupyter-widgets/controls",
            "_model_module_version": "1.5.0",
            "_model_name": "CheckboxModel",
            "_view_count": null,
            "_view_module": "@jupyter-widgets/controls",
            "_view_module_version": "1.5.0",
            "_view_name": "CheckboxView",
            "description": "Add token as git credential?",
            "description_tooltip": null,
            "disabled": false,
            "indent": true,
            "layout": "IPY_MODEL_0ce01234db83457d97f43c6084d06c1a",
            "style": "IPY_MODEL_e0733e5c99e94261a04a898fdb0c8ddf",
            "value": true
          }
        },
        "66edf654a0cd45ecb4f9668ca56d3d3d": {
          "model_module": "@jupyter-widgets/controls",
          "model_module_version": "1.5.0",
          "model_name": "DescriptionStyleModel",
          "state": {
            "_model_module": "@jupyter-widgets/controls",
            "_model_module_version": "1.5.0",
            "_model_name": "DescriptionStyleModel",
            "_view_count": null,
            "_view_module": "@jupyter-widgets/base",
            "_view_module_version": "1.2.0",
            "_view_name": "StyleView",
            "description_width": ""
          }
        },
        "69277edc03714326bf014c275d8f1503": {
          "model_module": "@jupyter-widgets/controls",
          "model_module_version": "1.5.0",
          "model_name": "VBoxModel",
          "state": {
            "_dom_classes": [],
            "_model_module": "@jupyter-widgets/controls",
            "_model_module_version": "1.5.0",
            "_model_name": "VBoxModel",
            "_view_count": null,
            "_view_module": "@jupyter-widgets/controls",
            "_view_module_version": "1.5.0",
            "_view_name": "VBoxView",
            "box_style": "",
            "children": [
              "IPY_MODEL_9b0443a6663c432b8ae270baf55e553d",
              "IPY_MODEL_d8adf9591f6540c8a791f23a271d3595"
            ],
            "layout": "IPY_MODEL_cf2e1ceecde54df0a64d5088cde2d326"
          }
        },
        "72d29bb0962b45d785a461fb1f1bb86f": {
          "model_module": "@jupyter-widgets/controls",
          "model_module_version": "1.5.0",
          "model_name": "HTMLModel",
          "state": {
            "_dom_classes": [],
            "_model_module": "@jupyter-widgets/controls",
            "_model_module_version": "1.5.0",
            "_model_name": "HTMLModel",
            "_view_count": null,
            "_view_module": "@jupyter-widgets/controls",
            "_view_module_version": "1.5.0",
            "_view_name": "HTMLView",
            "description": "",
            "description_tooltip": null,
            "layout": "IPY_MODEL_147c8b1ab91c4a6395e8f50136e0613b",
            "placeholder": "​",
            "style": "IPY_MODEL_864aab8a313d416db24d083847e1deb5",
            "value": "<center> <img\nsrc=https://huggingface.co/front/assets/huggingface_logo-noborder.svg\nalt='Hugging Face'> <br> Copy a token from <a\nhref=\"https://huggingface.co/settings/tokens\" target=\"_blank\">your Hugging Face\ntokens page</a> and paste it below. <br> Immediately click login after copying\nyour token or it might be stored in plain text in this notebook file. </center>"
          }
        },
        "75db909a501a4e69b7be25824c7c0dfe": {
          "model_module": "@jupyter-widgets/controls",
          "model_module_version": "1.5.0",
          "model_name": "FloatProgressModel",
          "state": {
            "_dom_classes": [],
            "_model_module": "@jupyter-widgets/controls",
            "_model_module_version": "1.5.0",
            "_model_name": "FloatProgressModel",
            "_view_count": null,
            "_view_module": "@jupyter-widgets/controls",
            "_view_module_version": "1.5.0",
            "_view_name": "ProgressView",
            "bar_style": "",
            "description": "",
            "description_tooltip": null,
            "layout": "IPY_MODEL_44b7bfc6529f4dd8a710d9eca61f3856",
            "max": 1,
            "min": 0,
            "orientation": "horizontal",
            "style": "IPY_MODEL_5828bd49fff24b9da793c8cc707b5749",
            "value": 1
          }
        },
        "786d66081e1d4e2383b97835414632b3": {
          "model_module": "@jupyter-widgets/controls",
          "model_module_version": "1.5.0",
          "model_name": "DescriptionStyleModel",
          "state": {
            "_model_module": "@jupyter-widgets/controls",
            "_model_module_version": "1.5.0",
            "_model_name": "DescriptionStyleModel",
            "_view_count": null,
            "_view_module": "@jupyter-widgets/base",
            "_view_module_version": "1.2.0",
            "_view_name": "StyleView",
            "description_width": ""
          }
        },
        "84cae00317c446fdb97a7b75a4e1be6f": {
          "model_module": "@jupyter-widgets/base",
          "model_module_version": "1.2.0",
          "model_name": "LayoutModel",
          "state": {
            "_model_module": "@jupyter-widgets/base",
            "_model_module_version": "1.2.0",
            "_model_name": "LayoutModel",
            "_view_count": null,
            "_view_module": "@jupyter-widgets/base",
            "_view_module_version": "1.2.0",
            "_view_name": "LayoutView",
            "align_content": null,
            "align_items": null,
            "align_self": null,
            "border": null,
            "bottom": null,
            "display": null,
            "flex": null,
            "flex_flow": null,
            "grid_area": null,
            "grid_auto_columns": null,
            "grid_auto_flow": null,
            "grid_auto_rows": null,
            "grid_column": null,
            "grid_gap": null,
            "grid_row": null,
            "grid_template_areas": null,
            "grid_template_columns": null,
            "grid_template_rows": null,
            "height": null,
            "justify_content": null,
            "justify_items": null,
            "left": null,
            "margin": null,
            "max_height": null,
            "max_width": null,
            "min_height": null,
            "min_width": null,
            "object_fit": null,
            "object_position": null,
            "order": null,
            "overflow": null,
            "overflow_x": null,
            "overflow_y": null,
            "padding": null,
            "right": null,
            "top": null,
            "visibility": null,
            "width": null
          }
        },
        "864aab8a313d416db24d083847e1deb5": {
          "model_module": "@jupyter-widgets/controls",
          "model_module_version": "1.5.0",
          "model_name": "DescriptionStyleModel",
          "state": {
            "_model_module": "@jupyter-widgets/controls",
            "_model_module_version": "1.5.0",
            "_model_name": "DescriptionStyleModel",
            "_view_count": null,
            "_view_module": "@jupyter-widgets/base",
            "_view_module_version": "1.2.0",
            "_view_name": "StyleView",
            "description_width": ""
          }
        },
        "8ce3ff9549cc4ba0969425a5bbbd1287": {
          "model_module": "@jupyter-widgets/base",
          "model_module_version": "1.2.0",
          "model_name": "LayoutModel",
          "state": {
            "_model_module": "@jupyter-widgets/base",
            "_model_module_version": "1.2.0",
            "_model_name": "LayoutModel",
            "_view_count": null,
            "_view_module": "@jupyter-widgets/base",
            "_view_module_version": "1.2.0",
            "_view_name": "LayoutView",
            "align_content": null,
            "align_items": "center",
            "align_self": null,
            "border": null,
            "bottom": null,
            "display": "flex",
            "flex": null,
            "flex_flow": "column",
            "grid_area": null,
            "grid_auto_columns": null,
            "grid_auto_flow": null,
            "grid_auto_rows": null,
            "grid_column": null,
            "grid_gap": null,
            "grid_row": null,
            "grid_template_areas": null,
            "grid_template_columns": null,
            "grid_template_rows": null,
            "height": null,
            "justify_content": null,
            "justify_items": null,
            "left": null,
            "margin": null,
            "max_height": null,
            "max_width": null,
            "min_height": null,
            "min_width": null,
            "object_fit": null,
            "object_position": null,
            "order": null,
            "overflow": null,
            "overflow_x": null,
            "overflow_y": null,
            "padding": null,
            "right": null,
            "top": null,
            "visibility": null,
            "width": "50%"
          }
        },
        "97280f64f63b4a41843d2d83ff7754b4": {
          "model_module": "@jupyter-widgets/base",
          "model_module_version": "1.2.0",
          "model_name": "LayoutModel",
          "state": {
            "_model_module": "@jupyter-widgets/base",
            "_model_module_version": "1.2.0",
            "_model_name": "LayoutModel",
            "_view_count": null,
            "_view_module": "@jupyter-widgets/base",
            "_view_module_version": "1.2.0",
            "_view_name": "LayoutView",
            "align_content": null,
            "align_items": null,
            "align_self": null,
            "border": null,
            "bottom": null,
            "display": null,
            "flex": null,
            "flex_flow": null,
            "grid_area": null,
            "grid_auto_columns": null,
            "grid_auto_flow": null,
            "grid_auto_rows": null,
            "grid_column": null,
            "grid_gap": null,
            "grid_row": null,
            "grid_template_areas": null,
            "grid_template_columns": null,
            "grid_template_rows": null,
            "height": null,
            "justify_content": null,
            "justify_items": null,
            "left": null,
            "margin": null,
            "max_height": null,
            "max_width": null,
            "min_height": null,
            "min_width": null,
            "object_fit": null,
            "object_position": null,
            "order": null,
            "overflow": null,
            "overflow_x": null,
            "overflow_y": null,
            "padding": null,
            "right": null,
            "top": null,
            "visibility": null,
            "width": null
          }
        },
        "9a727f02efd440368625c64de49ae491": {
          "model_module": "@jupyter-widgets/controls",
          "model_module_version": "1.5.0",
          "model_name": "VBoxModel",
          "state": {
            "_dom_classes": [],
            "_model_module": "@jupyter-widgets/controls",
            "_model_module_version": "1.5.0",
            "_model_name": "VBoxModel",
            "_view_count": null,
            "_view_module": "@jupyter-widgets/controls",
            "_view_module_version": "1.5.0",
            "_view_name": "VBoxView",
            "box_style": "",
            "children": [
              "IPY_MODEL_d0f5903c9000439a8f48a462f09688b9",
              "IPY_MODEL_75db909a501a4e69b7be25824c7c0dfe"
            ],
            "layout": "IPY_MODEL_508d503b0aed46d8a0a4cf9d0faadcab"
          }
        },
        "9b0443a6663c432b8ae270baf55e553d": {
          "model_module": "@jupyter-widgets/controls",
          "model_module_version": "1.5.0",
          "model_name": "LabelModel",
          "state": {
            "_dom_classes": [],
            "_model_module": "@jupyter-widgets/controls",
            "_model_module_version": "1.5.0",
            "_model_name": "LabelModel",
            "_view_count": null,
            "_view_module": "@jupyter-widgets/controls",
            "_view_module_version": "1.5.0",
            "_view_name": "LabelView",
            "description": "",
            "description_tooltip": null,
            "layout": "IPY_MODEL_b769b175ae4747108a13be63ac943db1",
            "placeholder": "​",
            "style": "IPY_MODEL_786d66081e1d4e2383b97835414632b3",
            "value": "45.987 MB of 45.987 MB uploaded\r"
          }
        },
        "9b8576edc76d4ef59267026c052d1366": {
          "model_module": "@jupyter-widgets/controls",
          "model_module_version": "1.5.0",
          "model_name": "HTMLModel",
          "state": {
            "_dom_classes": [],
            "_model_module": "@jupyter-widgets/controls",
            "_model_module_version": "1.5.0",
            "_model_name": "HTMLModel",
            "_view_count": null,
            "_view_module": "@jupyter-widgets/controls",
            "_view_module_version": "1.5.0",
            "_view_name": "HTMLView",
            "description": "",
            "description_tooltip": null,
            "layout": "IPY_MODEL_b6de666c694049e59a8f4608be59f15d",
            "placeholder": "​",
            "style": "IPY_MODEL_37c249d811ef4b79a038708345a24b29",
            "value": "\n<b>Pro Tip:</b> If you don't already have one, you can create a dedicated\n'notebooks' token with 'write' access, that you can then easily reuse for all\nnotebooks. </center>"
          }
        },
        "9c88f92a9abe45d68e904b533b5a706f": {
          "model_module": "@jupyter-widgets/base",
          "model_module_version": "1.2.0",
          "model_name": "LayoutModel",
          "state": {
            "_model_module": "@jupyter-widgets/base",
            "_model_module_version": "1.2.0",
            "_model_name": "LayoutModel",
            "_view_count": null,
            "_view_module": "@jupyter-widgets/base",
            "_view_module_version": "1.2.0",
            "_view_name": "LayoutView",
            "align_content": null,
            "align_items": null,
            "align_self": null,
            "border": null,
            "bottom": null,
            "display": null,
            "flex": null,
            "flex_flow": null,
            "grid_area": null,
            "grid_auto_columns": null,
            "grid_auto_flow": null,
            "grid_auto_rows": null,
            "grid_column": null,
            "grid_gap": null,
            "grid_row": null,
            "grid_template_areas": null,
            "grid_template_columns": null,
            "grid_template_rows": null,
            "height": null,
            "justify_content": null,
            "justify_items": null,
            "left": null,
            "margin": null,
            "max_height": null,
            "max_width": null,
            "min_height": null,
            "min_width": null,
            "object_fit": null,
            "object_position": null,
            "order": null,
            "overflow": null,
            "overflow_x": null,
            "overflow_y": null,
            "padding": null,
            "right": null,
            "top": null,
            "visibility": null,
            "width": null
          }
        },
        "ab9f843a602843e897fb23ebd911d277": {
          "model_module": "@jupyter-widgets/base",
          "model_module_version": "1.2.0",
          "model_name": "LayoutModel",
          "state": {
            "_model_module": "@jupyter-widgets/base",
            "_model_module_version": "1.2.0",
            "_model_name": "LayoutModel",
            "_view_count": null,
            "_view_module": "@jupyter-widgets/base",
            "_view_module_version": "1.2.0",
            "_view_name": "LayoutView",
            "align_content": null,
            "align_items": null,
            "align_self": null,
            "border": null,
            "bottom": null,
            "display": null,
            "flex": null,
            "flex_flow": null,
            "grid_area": null,
            "grid_auto_columns": null,
            "grid_auto_flow": null,
            "grid_auto_rows": null,
            "grid_column": null,
            "grid_gap": null,
            "grid_row": null,
            "grid_template_areas": null,
            "grid_template_columns": null,
            "grid_template_rows": null,
            "height": null,
            "justify_content": null,
            "justify_items": null,
            "left": null,
            "margin": null,
            "max_height": null,
            "max_width": null,
            "min_height": null,
            "min_width": null,
            "object_fit": null,
            "object_position": null,
            "order": null,
            "overflow": null,
            "overflow_x": null,
            "overflow_y": null,
            "padding": null,
            "right": null,
            "top": null,
            "visibility": null,
            "width": null
          }
        },
        "b0ddaf104dd247d18eced32fcbd8d5bc": {
          "model_module": "@jupyter-widgets/base",
          "model_module_version": "1.2.0",
          "model_name": "LayoutModel",
          "state": {
            "_model_module": "@jupyter-widgets/base",
            "_model_module_version": "1.2.0",
            "_model_name": "LayoutModel",
            "_view_count": null,
            "_view_module": "@jupyter-widgets/base",
            "_view_module_version": "1.2.0",
            "_view_name": "LayoutView",
            "align_content": null,
            "align_items": null,
            "align_self": null,
            "border": null,
            "bottom": null,
            "display": null,
            "flex": null,
            "flex_flow": null,
            "grid_area": null,
            "grid_auto_columns": null,
            "grid_auto_flow": null,
            "grid_auto_rows": null,
            "grid_column": null,
            "grid_gap": null,
            "grid_row": null,
            "grid_template_areas": null,
            "grid_template_columns": null,
            "grid_template_rows": null,
            "height": null,
            "justify_content": null,
            "justify_items": null,
            "left": null,
            "margin": null,
            "max_height": null,
            "max_width": null,
            "min_height": null,
            "min_width": null,
            "object_fit": null,
            "object_position": null,
            "order": null,
            "overflow": null,
            "overflow_x": null,
            "overflow_y": null,
            "padding": null,
            "right": null,
            "top": null,
            "visibility": null,
            "width": null
          }
        },
        "b6de666c694049e59a8f4608be59f15d": {
          "model_module": "@jupyter-widgets/base",
          "model_module_version": "1.2.0",
          "model_name": "LayoutModel",
          "state": {
            "_model_module": "@jupyter-widgets/base",
            "_model_module_version": "1.2.0",
            "_model_name": "LayoutModel",
            "_view_count": null,
            "_view_module": "@jupyter-widgets/base",
            "_view_module_version": "1.2.0",
            "_view_name": "LayoutView",
            "align_content": null,
            "align_items": null,
            "align_self": null,
            "border": null,
            "bottom": null,
            "display": null,
            "flex": null,
            "flex_flow": null,
            "grid_area": null,
            "grid_auto_columns": null,
            "grid_auto_flow": null,
            "grid_auto_rows": null,
            "grid_column": null,
            "grid_gap": null,
            "grid_row": null,
            "grid_template_areas": null,
            "grid_template_columns": null,
            "grid_template_rows": null,
            "height": null,
            "justify_content": null,
            "justify_items": null,
            "left": null,
            "margin": null,
            "max_height": null,
            "max_width": null,
            "min_height": null,
            "min_width": null,
            "object_fit": null,
            "object_position": null,
            "order": null,
            "overflow": null,
            "overflow_x": null,
            "overflow_y": null,
            "padding": null,
            "right": null,
            "top": null,
            "visibility": null,
            "width": null
          }
        },
        "b769b175ae4747108a13be63ac943db1": {
          "model_module": "@jupyter-widgets/base",
          "model_module_version": "1.2.0",
          "model_name": "LayoutModel",
          "state": {
            "_model_module": "@jupyter-widgets/base",
            "_model_module_version": "1.2.0",
            "_model_name": "LayoutModel",
            "_view_count": null,
            "_view_module": "@jupyter-widgets/base",
            "_view_module_version": "1.2.0",
            "_view_name": "LayoutView",
            "align_content": null,
            "align_items": null,
            "align_self": null,
            "border": null,
            "bottom": null,
            "display": null,
            "flex": null,
            "flex_flow": null,
            "grid_area": null,
            "grid_auto_columns": null,
            "grid_auto_flow": null,
            "grid_auto_rows": null,
            "grid_column": null,
            "grid_gap": null,
            "grid_row": null,
            "grid_template_areas": null,
            "grid_template_columns": null,
            "grid_template_rows": null,
            "height": null,
            "justify_content": null,
            "justify_items": null,
            "left": null,
            "margin": null,
            "max_height": null,
            "max_width": null,
            "min_height": null,
            "min_width": null,
            "object_fit": null,
            "object_position": null,
            "order": null,
            "overflow": null,
            "overflow_x": null,
            "overflow_y": null,
            "padding": null,
            "right": null,
            "top": null,
            "visibility": null,
            "width": null
          }
        },
        "baba3e966375477196ada2fa13f197b0": {
          "model_module": "@jupyter-widgets/controls",
          "model_module_version": "1.5.0",
          "model_name": "DescriptionStyleModel",
          "state": {
            "_model_module": "@jupyter-widgets/controls",
            "_model_module_version": "1.5.0",
            "_model_name": "DescriptionStyleModel",
            "_view_count": null,
            "_view_module": "@jupyter-widgets/base",
            "_view_module_version": "1.2.0",
            "_view_name": "StyleView",
            "description_width": ""
          }
        },
        "c301d990c2c14a2b857807cb55fe0dea": {
          "model_module": "@jupyter-widgets/base",
          "model_module_version": "1.2.0",
          "model_name": "LayoutModel",
          "state": {
            "_model_module": "@jupyter-widgets/base",
            "_model_module_version": "1.2.0",
            "_model_name": "LayoutModel",
            "_view_count": null,
            "_view_module": "@jupyter-widgets/base",
            "_view_module_version": "1.2.0",
            "_view_name": "LayoutView",
            "align_content": null,
            "align_items": null,
            "align_self": null,
            "border": null,
            "bottom": null,
            "display": null,
            "flex": null,
            "flex_flow": null,
            "grid_area": null,
            "grid_auto_columns": null,
            "grid_auto_flow": null,
            "grid_auto_rows": null,
            "grid_column": null,
            "grid_gap": null,
            "grid_row": null,
            "grid_template_areas": null,
            "grid_template_columns": null,
            "grid_template_rows": null,
            "height": null,
            "justify_content": null,
            "justify_items": null,
            "left": null,
            "margin": null,
            "max_height": null,
            "max_width": null,
            "min_height": null,
            "min_width": null,
            "object_fit": null,
            "object_position": null,
            "order": null,
            "overflow": null,
            "overflow_x": null,
            "overflow_y": null,
            "padding": null,
            "right": null,
            "top": null,
            "visibility": null,
            "width": null
          }
        },
        "cb9a8ca8e47d4f1790da727af4221240": {
          "model_module": "@jupyter-widgets/base",
          "model_module_version": "1.2.0",
          "model_name": "LayoutModel",
          "state": {
            "_model_module": "@jupyter-widgets/base",
            "_model_module_version": "1.2.0",
            "_model_name": "LayoutModel",
            "_view_count": null,
            "_view_module": "@jupyter-widgets/base",
            "_view_module_version": "1.2.0",
            "_view_name": "LayoutView",
            "align_content": null,
            "align_items": null,
            "align_self": null,
            "border": null,
            "bottom": null,
            "display": null,
            "flex": null,
            "flex_flow": null,
            "grid_area": null,
            "grid_auto_columns": null,
            "grid_auto_flow": null,
            "grid_auto_rows": null,
            "grid_column": null,
            "grid_gap": null,
            "grid_row": null,
            "grid_template_areas": null,
            "grid_template_columns": null,
            "grid_template_rows": null,
            "height": null,
            "justify_content": null,
            "justify_items": null,
            "left": null,
            "margin": null,
            "max_height": null,
            "max_width": null,
            "min_height": null,
            "min_width": null,
            "object_fit": null,
            "object_position": null,
            "order": null,
            "overflow": null,
            "overflow_x": null,
            "overflow_y": null,
            "padding": null,
            "right": null,
            "top": null,
            "visibility": null,
            "width": null
          }
        },
        "cf2e1ceecde54df0a64d5088cde2d326": {
          "model_module": "@jupyter-widgets/base",
          "model_module_version": "1.2.0",
          "model_name": "LayoutModel",
          "state": {
            "_model_module": "@jupyter-widgets/base",
            "_model_module_version": "1.2.0",
            "_model_name": "LayoutModel",
            "_view_count": null,
            "_view_module": "@jupyter-widgets/base",
            "_view_module_version": "1.2.0",
            "_view_name": "LayoutView",
            "align_content": null,
            "align_items": null,
            "align_self": null,
            "border": null,
            "bottom": null,
            "display": null,
            "flex": null,
            "flex_flow": null,
            "grid_area": null,
            "grid_auto_columns": null,
            "grid_auto_flow": null,
            "grid_auto_rows": null,
            "grid_column": null,
            "grid_gap": null,
            "grid_row": null,
            "grid_template_areas": null,
            "grid_template_columns": null,
            "grid_template_rows": null,
            "height": null,
            "justify_content": null,
            "justify_items": null,
            "left": null,
            "margin": null,
            "max_height": null,
            "max_width": null,
            "min_height": null,
            "min_width": null,
            "object_fit": null,
            "object_position": null,
            "order": null,
            "overflow": null,
            "overflow_x": null,
            "overflow_y": null,
            "padding": null,
            "right": null,
            "top": null,
            "visibility": null,
            "width": null
          }
        },
        "cfbe85529e764cc08a17de763c7660ea": {
          "model_module": "@jupyter-widgets/controls",
          "model_module_version": "1.5.0",
          "model_name": "ButtonModel",
          "state": {
            "_dom_classes": [],
            "_model_module": "@jupyter-widgets/controls",
            "_model_module_version": "1.5.0",
            "_model_name": "ButtonModel",
            "_view_count": null,
            "_view_module": "@jupyter-widgets/controls",
            "_view_module_version": "1.5.0",
            "_view_name": "ButtonView",
            "button_style": "",
            "description": "Login",
            "disabled": false,
            "icon": "",
            "layout": "IPY_MODEL_b0ddaf104dd247d18eced32fcbd8d5bc",
            "style": "IPY_MODEL_d955cf4220644122ac877735b4d33aa4",
            "tooltip": ""
          }
        },
        "d0f5903c9000439a8f48a462f09688b9": {
          "model_module": "@jupyter-widgets/controls",
          "model_module_version": "1.5.0",
          "model_name": "LabelModel",
          "state": {
            "_dom_classes": [],
            "_model_module": "@jupyter-widgets/controls",
            "_model_module_version": "1.5.0",
            "_model_name": "LabelModel",
            "_view_count": null,
            "_view_module": "@jupyter-widgets/controls",
            "_view_module_version": "1.5.0",
            "_view_name": "LabelView",
            "description": "",
            "description_tooltip": null,
            "layout": "IPY_MODEL_cb9a8ca8e47d4f1790da727af4221240",
            "placeholder": "​",
            "style": "IPY_MODEL_f53d27ad9bfc45ef95d2bdac1d10ce82",
            "value": "87.238 MB of 87.238 MB uploaded\r"
          }
        },
        "d8adf9591f6540c8a791f23a271d3595": {
          "model_module": "@jupyter-widgets/controls",
          "model_module_version": "1.5.0",
          "model_name": "FloatProgressModel",
          "state": {
            "_dom_classes": [],
            "_model_module": "@jupyter-widgets/controls",
            "_model_module_version": "1.5.0",
            "_model_name": "FloatProgressModel",
            "_view_count": null,
            "_view_module": "@jupyter-widgets/controls",
            "_view_module_version": "1.5.0",
            "_view_name": "ProgressView",
            "bar_style": "",
            "description": "",
            "description_tooltip": null,
            "layout": "IPY_MODEL_2cc9490589c84398bebf80c5b8e117ae",
            "max": 1,
            "min": 0,
            "orientation": "horizontal",
            "style": "IPY_MODEL_144fbc9a8b7a4a7fb1724c9f2befc8d9",
            "value": 1
          }
        },
        "d8d44ae2375248a29474f632069cc392": {
          "model_module": "@jupyter-widgets/controls",
          "model_module_version": "1.5.0",
          "model_name": "LabelModel",
          "state": {
            "_dom_classes": [],
            "_model_module": "@jupyter-widgets/controls",
            "_model_module_version": "1.5.0",
            "_model_name": "LabelModel",
            "_view_count": null,
            "_view_module": "@jupyter-widgets/controls",
            "_view_module_version": "1.5.0",
            "_view_name": "LabelView",
            "description": "",
            "description_tooltip": null,
            "layout": "IPY_MODEL_97280f64f63b4a41843d2d83ff7754b4",
            "placeholder": "​",
            "style": "IPY_MODEL_5aca98b081b546feb35c3fed79ff6e7f",
            "value": "Login successful"
          }
        },
        "d955cf4220644122ac877735b4d33aa4": {
          "model_module": "@jupyter-widgets/controls",
          "model_module_version": "1.5.0",
          "model_name": "ButtonStyleModel",
          "state": {
            "_model_module": "@jupyter-widgets/controls",
            "_model_module_version": "1.5.0",
            "_model_name": "ButtonStyleModel",
            "_view_count": null,
            "_view_module": "@jupyter-widgets/base",
            "_view_module_version": "1.2.0",
            "_view_name": "StyleView",
            "button_color": null,
            "font_weight": ""
          }
        },
        "de4ec15850b2444b895b8572d72358b0": {
          "model_module": "@jupyter-widgets/controls",
          "model_module_version": "1.5.0",
          "model_name": "VBoxModel",
          "state": {
            "_dom_classes": [],
            "_model_module": "@jupyter-widgets/controls",
            "_model_module_version": "1.5.0",
            "_model_name": "VBoxModel",
            "_view_count": null,
            "_view_module": "@jupyter-widgets/controls",
            "_view_module_version": "1.5.0",
            "_view_name": "VBoxView",
            "box_style": "",
            "children": [
              "IPY_MODEL_1eab775ab332439ea3b5e25643b284c1",
              "IPY_MODEL_21be3243b4f24a479324c9c9bde7f481",
              "IPY_MODEL_46207dd3a92042c0bb0cc6ef1e03543a",
              "IPY_MODEL_d8d44ae2375248a29474f632069cc392"
            ],
            "layout": "IPY_MODEL_8ce3ff9549cc4ba0969425a5bbbd1287"
          }
        },
        "e0733e5c99e94261a04a898fdb0c8ddf": {
          "model_module": "@jupyter-widgets/controls",
          "model_module_version": "1.5.0",
          "model_name": "DescriptionStyleModel",
          "state": {
            "_model_module": "@jupyter-widgets/controls",
            "_model_module_version": "1.5.0",
            "_model_name": "DescriptionStyleModel",
            "_view_count": null,
            "_view_module": "@jupyter-widgets/base",
            "_view_module_version": "1.2.0",
            "_view_name": "StyleView",
            "description_width": ""
          }
        },
        "e0bd6d2ec23445b4b74073dfb1916158": {
          "model_module": "@jupyter-widgets/controls",
          "model_module_version": "1.5.0",
          "model_name": "DescriptionStyleModel",
          "state": {
            "_model_module": "@jupyter-widgets/controls",
            "_model_module_version": "1.5.0",
            "_model_name": "DescriptionStyleModel",
            "_view_count": null,
            "_view_module": "@jupyter-widgets/base",
            "_view_module_version": "1.2.0",
            "_view_name": "StyleView",
            "description_width": ""
          }
        },
        "ed316af0c83e4ceb872153d9c6271f1c": {
          "model_module": "@jupyter-widgets/controls",
          "model_module_version": "1.5.0",
          "model_name": "DescriptionStyleModel",
          "state": {
            "_model_module": "@jupyter-widgets/controls",
            "_model_module_version": "1.5.0",
            "_model_name": "DescriptionStyleModel",
            "_view_count": null,
            "_view_module": "@jupyter-widgets/base",
            "_view_module_version": "1.2.0",
            "_view_name": "StyleView",
            "description_width": ""
          }
        },
        "f53d27ad9bfc45ef95d2bdac1d10ce82": {
          "model_module": "@jupyter-widgets/controls",
          "model_module_version": "1.5.0",
          "model_name": "DescriptionStyleModel",
          "state": {
            "_model_module": "@jupyter-widgets/controls",
            "_model_module_version": "1.5.0",
            "_model_name": "DescriptionStyleModel",
            "_view_count": null,
            "_view_module": "@jupyter-widgets/base",
            "_view_module_version": "1.2.0",
            "_view_name": "StyleView",
            "description_width": ""
          }
        }
      }
    }
  },
  "nbformat": 4,
  "nbformat_minor": 0
}
